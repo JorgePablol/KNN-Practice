{
 "cells": [
  {
   "cell_type": "markdown",
   "metadata": {
    "papermill": {
     "duration": 0.106499,
     "end_time": "2020-11-27T17:43:45.773907",
     "exception": false,
     "start_time": "2020-11-27T17:43:45.667408",
     "status": "completed"
    },
    "tags": []
   },
   "source": [
    "# Bank Marketing"
   ]
  },
  {
   "cell_type": "markdown",
   "metadata": {
    "papermill": {
     "duration": 0.111614,
     "end_time": "2020-11-27T17:43:45.997898",
     "exception": false,
     "start_time": "2020-11-27T17:43:45.886284",
     "status": "completed"
    },
    "tags": []
   },
   "source": [
    "The goal of this project is to correctly identify if a client will subscribe to a term deposit. Identified by the y column. \n",
    "\n",
    "There a lot of graphs as I wanted to have a clear visual of everything, some arent relevant at all and I will clean up later!"
   ]
  },
  {
   "cell_type": "markdown",
   "metadata": {
    "papermill": {
     "duration": 0.106541,
     "end_time": "2020-11-27T17:43:46.212005",
     "exception": false,
     "start_time": "2020-11-27T17:43:46.105464",
     "status": "completed"
    },
    "tags": []
   },
   "source": [
    "Start by importing the relevant libraries"
   ]
  },
  {
   "cell_type": "code",
   "execution_count": 1,
   "metadata": {
    "execution": {
     "iopub.execute_input": "2020-11-27T17:43:46.426148Z",
     "iopub.status.busy": "2020-11-27T17:43:46.425302Z",
     "iopub.status.idle": "2020-11-27T17:43:47.574447Z",
     "shell.execute_reply": "2020-11-27T17:43:47.573691Z"
    },
    "papermill": {
     "duration": 1.259066,
     "end_time": "2020-11-27T17:43:47.574604",
     "exception": false,
     "start_time": "2020-11-27T17:43:46.315538",
     "status": "completed"
    },
    "tags": []
   },
   "outputs": [],
   "source": [
    "import pandas as pd\n",
    "import numpy as np\n",
    "import seaborn as sns\n",
    "import matplotlib.pyplot as plt"
   ]
  },
  {
   "cell_type": "code",
   "execution_count": 2,
   "metadata": {
    "execution": {
     "iopub.execute_input": "2020-11-27T17:43:47.828396Z",
     "iopub.status.busy": "2020-11-27T17:43:47.827583Z",
     "iopub.status.idle": "2020-11-27T17:43:48.021511Z",
     "shell.execute_reply": "2020-11-27T17:43:48.020788Z"
    },
    "papermill": {
     "duration": 0.334629,
     "end_time": "2020-11-27T17:43:48.021662",
     "exception": false,
     "start_time": "2020-11-27T17:43:47.687033",
     "status": "completed"
    },
    "tags": []
   },
   "outputs": [],
   "source": [
    "df = pd.read_csv('/kaggle/input/bank-marketing/bank-additional-full.csv', sep = ';')"
   ]
  },
  {
   "cell_type": "code",
   "execution_count": 3,
   "metadata": {
    "execution": {
     "iopub.execute_input": "2020-11-27T17:43:48.265460Z",
     "iopub.status.busy": "2020-11-27T17:43:48.264387Z",
     "iopub.status.idle": "2020-11-27T17:43:48.285256Z",
     "shell.execute_reply": "2020-11-27T17:43:48.284508Z"
    },
    "papermill": {
     "duration": 0.158551,
     "end_time": "2020-11-27T17:43:48.285385",
     "exception": false,
     "start_time": "2020-11-27T17:43:48.126834",
     "status": "completed"
    },
    "tags": []
   },
   "outputs": [
    {
     "data": {
      "text/html": [
       "<div>\n",
       "<style scoped>\n",
       "    .dataframe tbody tr th:only-of-type {\n",
       "        vertical-align: middle;\n",
       "    }\n",
       "\n",
       "    .dataframe tbody tr th {\n",
       "        vertical-align: top;\n",
       "    }\n",
       "\n",
       "    .dataframe thead th {\n",
       "        text-align: right;\n",
       "    }\n",
       "</style>\n",
       "<table border=\"1\" class=\"dataframe\">\n",
       "  <thead>\n",
       "    <tr style=\"text-align: right;\">\n",
       "      <th></th>\n",
       "      <th>age</th>\n",
       "      <th>job</th>\n",
       "      <th>marital</th>\n",
       "      <th>education</th>\n",
       "      <th>default</th>\n",
       "      <th>housing</th>\n",
       "      <th>loan</th>\n",
       "      <th>contact</th>\n",
       "      <th>month</th>\n",
       "      <th>day_of_week</th>\n",
       "      <th>...</th>\n",
       "      <th>campaign</th>\n",
       "      <th>pdays</th>\n",
       "      <th>previous</th>\n",
       "      <th>poutcome</th>\n",
       "      <th>emp.var.rate</th>\n",
       "      <th>cons.price.idx</th>\n",
       "      <th>cons.conf.idx</th>\n",
       "      <th>euribor3m</th>\n",
       "      <th>nr.employed</th>\n",
       "      <th>y</th>\n",
       "    </tr>\n",
       "  </thead>\n",
       "  <tbody>\n",
       "    <tr>\n",
       "      <th>0</th>\n",
       "      <td>56</td>\n",
       "      <td>housemaid</td>\n",
       "      <td>married</td>\n",
       "      <td>basic.4y</td>\n",
       "      <td>no</td>\n",
       "      <td>no</td>\n",
       "      <td>no</td>\n",
       "      <td>telephone</td>\n",
       "      <td>may</td>\n",
       "      <td>mon</td>\n",
       "      <td>...</td>\n",
       "      <td>1</td>\n",
       "      <td>999</td>\n",
       "      <td>0</td>\n",
       "      <td>nonexistent</td>\n",
       "      <td>1.1</td>\n",
       "      <td>93.994</td>\n",
       "      <td>-36.4</td>\n",
       "      <td>4.857</td>\n",
       "      <td>5191.0</td>\n",
       "      <td>no</td>\n",
       "    </tr>\n",
       "    <tr>\n",
       "      <th>1</th>\n",
       "      <td>57</td>\n",
       "      <td>services</td>\n",
       "      <td>married</td>\n",
       "      <td>high.school</td>\n",
       "      <td>unknown</td>\n",
       "      <td>no</td>\n",
       "      <td>no</td>\n",
       "      <td>telephone</td>\n",
       "      <td>may</td>\n",
       "      <td>mon</td>\n",
       "      <td>...</td>\n",
       "      <td>1</td>\n",
       "      <td>999</td>\n",
       "      <td>0</td>\n",
       "      <td>nonexistent</td>\n",
       "      <td>1.1</td>\n",
       "      <td>93.994</td>\n",
       "      <td>-36.4</td>\n",
       "      <td>4.857</td>\n",
       "      <td>5191.0</td>\n",
       "      <td>no</td>\n",
       "    </tr>\n",
       "    <tr>\n",
       "      <th>2</th>\n",
       "      <td>37</td>\n",
       "      <td>services</td>\n",
       "      <td>married</td>\n",
       "      <td>high.school</td>\n",
       "      <td>no</td>\n",
       "      <td>yes</td>\n",
       "      <td>no</td>\n",
       "      <td>telephone</td>\n",
       "      <td>may</td>\n",
       "      <td>mon</td>\n",
       "      <td>...</td>\n",
       "      <td>1</td>\n",
       "      <td>999</td>\n",
       "      <td>0</td>\n",
       "      <td>nonexistent</td>\n",
       "      <td>1.1</td>\n",
       "      <td>93.994</td>\n",
       "      <td>-36.4</td>\n",
       "      <td>4.857</td>\n",
       "      <td>5191.0</td>\n",
       "      <td>no</td>\n",
       "    </tr>\n",
       "    <tr>\n",
       "      <th>3</th>\n",
       "      <td>40</td>\n",
       "      <td>admin.</td>\n",
       "      <td>married</td>\n",
       "      <td>basic.6y</td>\n",
       "      <td>no</td>\n",
       "      <td>no</td>\n",
       "      <td>no</td>\n",
       "      <td>telephone</td>\n",
       "      <td>may</td>\n",
       "      <td>mon</td>\n",
       "      <td>...</td>\n",
       "      <td>1</td>\n",
       "      <td>999</td>\n",
       "      <td>0</td>\n",
       "      <td>nonexistent</td>\n",
       "      <td>1.1</td>\n",
       "      <td>93.994</td>\n",
       "      <td>-36.4</td>\n",
       "      <td>4.857</td>\n",
       "      <td>5191.0</td>\n",
       "      <td>no</td>\n",
       "    </tr>\n",
       "    <tr>\n",
       "      <th>4</th>\n",
       "      <td>56</td>\n",
       "      <td>services</td>\n",
       "      <td>married</td>\n",
       "      <td>high.school</td>\n",
       "      <td>no</td>\n",
       "      <td>no</td>\n",
       "      <td>yes</td>\n",
       "      <td>telephone</td>\n",
       "      <td>may</td>\n",
       "      <td>mon</td>\n",
       "      <td>...</td>\n",
       "      <td>1</td>\n",
       "      <td>999</td>\n",
       "      <td>0</td>\n",
       "      <td>nonexistent</td>\n",
       "      <td>1.1</td>\n",
       "      <td>93.994</td>\n",
       "      <td>-36.4</td>\n",
       "      <td>4.857</td>\n",
       "      <td>5191.0</td>\n",
       "      <td>no</td>\n",
       "    </tr>\n",
       "  </tbody>\n",
       "</table>\n",
       "<p>5 rows × 21 columns</p>\n",
       "</div>"
      ],
      "text/plain": [
       "   age        job  marital    education  default housing loan    contact  \\\n",
       "0   56  housemaid  married     basic.4y       no      no   no  telephone   \n",
       "1   57   services  married  high.school  unknown      no   no  telephone   \n",
       "2   37   services  married  high.school       no     yes   no  telephone   \n",
       "3   40     admin.  married     basic.6y       no      no   no  telephone   \n",
       "4   56   services  married  high.school       no      no  yes  telephone   \n",
       "\n",
       "  month day_of_week  ...  campaign  pdays  previous     poutcome emp.var.rate  \\\n",
       "0   may         mon  ...         1    999         0  nonexistent          1.1   \n",
       "1   may         mon  ...         1    999         0  nonexistent          1.1   \n",
       "2   may         mon  ...         1    999         0  nonexistent          1.1   \n",
       "3   may         mon  ...         1    999         0  nonexistent          1.1   \n",
       "4   may         mon  ...         1    999         0  nonexistent          1.1   \n",
       "\n",
       "   cons.price.idx  cons.conf.idx  euribor3m  nr.employed   y  \n",
       "0          93.994          -36.4      4.857       5191.0  no  \n",
       "1          93.994          -36.4      4.857       5191.0  no  \n",
       "2          93.994          -36.4      4.857       5191.0  no  \n",
       "3          93.994          -36.4      4.857       5191.0  no  \n",
       "4          93.994          -36.4      4.857       5191.0  no  \n",
       "\n",
       "[5 rows x 21 columns]"
      ]
     },
     "execution_count": 3,
     "metadata": {},
     "output_type": "execute_result"
    }
   ],
   "source": [
    "df.head()"
   ]
  },
  {
   "cell_type": "markdown",
   "metadata": {
    "papermill": {
     "duration": 0.106016,
     "end_time": "2020-11-27T17:43:48.498364",
     "exception": false,
     "start_time": "2020-11-27T17:43:48.392348",
     "status": "completed"
    },
    "tags": []
   },
   "source": [
    "# Exploratory Data Analysis"
   ]
  },
  {
   "cell_type": "code",
   "execution_count": 4,
   "metadata": {
    "execution": {
     "iopub.execute_input": "2020-11-27T17:43:48.717136Z",
     "iopub.status.busy": "2020-11-27T17:43:48.716132Z",
     "iopub.status.idle": "2020-11-27T17:43:48.722252Z",
     "shell.execute_reply": "2020-11-27T17:43:48.721503Z"
    },
    "papermill": {
     "duration": 0.116987,
     "end_time": "2020-11-27T17:43:48.722374",
     "exception": false,
     "start_time": "2020-11-27T17:43:48.605387",
     "status": "completed"
    },
    "tags": []
   },
   "outputs": [
    {
     "data": {
      "text/plain": [
       "Index(['age', 'job', 'marital', 'education', 'default', 'housing', 'loan',\n",
       "       'contact', 'month', 'day_of_week', 'duration', 'campaign', 'pdays',\n",
       "       'previous', 'poutcome', 'emp.var.rate', 'cons.price.idx',\n",
       "       'cons.conf.idx', 'euribor3m', 'nr.employed', 'y'],\n",
       "      dtype='object')"
      ]
     },
     "execution_count": 4,
     "metadata": {},
     "output_type": "execute_result"
    }
   ],
   "source": [
    "df.columns"
   ]
  },
  {
   "cell_type": "code",
   "execution_count": 5,
   "metadata": {
    "execution": {
     "iopub.execute_input": "2020-11-27T17:43:48.991275Z",
     "iopub.status.busy": "2020-11-27T17:43:48.942433Z",
     "iopub.status.idle": "2020-11-27T17:43:49.010463Z",
     "shell.execute_reply": "2020-11-27T17:43:49.011100Z"
    },
    "papermill": {
     "duration": 0.182612,
     "end_time": "2020-11-27T17:43:49.011279",
     "exception": false,
     "start_time": "2020-11-27T17:43:48.828667",
     "status": "completed"
    },
    "tags": []
   },
   "outputs": [
    {
     "name": "stdout",
     "output_type": "stream",
     "text": [
      "<class 'pandas.core.frame.DataFrame'>\n",
      "RangeIndex: 41188 entries, 0 to 41187\n",
      "Data columns (total 21 columns):\n",
      " #   Column          Non-Null Count  Dtype  \n",
      "---  ------          --------------  -----  \n",
      " 0   age             41188 non-null  int64  \n",
      " 1   job             41188 non-null  object \n",
      " 2   marital         41188 non-null  object \n",
      " 3   education       41188 non-null  object \n",
      " 4   default         41188 non-null  object \n",
      " 5   housing         41188 non-null  object \n",
      " 6   loan            41188 non-null  object \n",
      " 7   contact         41188 non-null  object \n",
      " 8   month           41188 non-null  object \n",
      " 9   day_of_week     41188 non-null  object \n",
      " 10  duration        41188 non-null  int64  \n",
      " 11  campaign        41188 non-null  int64  \n",
      " 12  pdays           41188 non-null  int64  \n",
      " 13  previous        41188 non-null  int64  \n",
      " 14  poutcome        41188 non-null  object \n",
      " 15  emp.var.rate    41188 non-null  float64\n",
      " 16  cons.price.idx  41188 non-null  float64\n",
      " 17  cons.conf.idx   41188 non-null  float64\n",
      " 18  euribor3m       41188 non-null  float64\n",
      " 19  nr.employed     41188 non-null  float64\n",
      " 20  y               41188 non-null  object \n",
      "dtypes: float64(5), int64(5), object(11)\n",
      "memory usage: 6.6+ MB\n"
     ]
    }
   ],
   "source": [
    "df.info()"
   ]
  },
  {
   "cell_type": "code",
   "execution_count": 6,
   "metadata": {
    "execution": {
     "iopub.execute_input": "2020-11-27T17:43:49.238021Z",
     "iopub.status.busy": "2020-11-27T17:43:49.236830Z",
     "iopub.status.idle": "2020-11-27T17:43:49.294367Z",
     "shell.execute_reply": "2020-11-27T17:43:49.293623Z"
    },
    "papermill": {
     "duration": 0.174781,
     "end_time": "2020-11-27T17:43:49.294501",
     "exception": false,
     "start_time": "2020-11-27T17:43:49.119720",
     "status": "completed"
    },
    "tags": []
   },
   "outputs": [
    {
     "data": {
      "text/html": [
       "<div>\n",
       "<style scoped>\n",
       "    .dataframe tbody tr th:only-of-type {\n",
       "        vertical-align: middle;\n",
       "    }\n",
       "\n",
       "    .dataframe tbody tr th {\n",
       "        vertical-align: top;\n",
       "    }\n",
       "\n",
       "    .dataframe thead th {\n",
       "        text-align: right;\n",
       "    }\n",
       "</style>\n",
       "<table border=\"1\" class=\"dataframe\">\n",
       "  <thead>\n",
       "    <tr style=\"text-align: right;\">\n",
       "      <th></th>\n",
       "      <th>age</th>\n",
       "      <th>duration</th>\n",
       "      <th>campaign</th>\n",
       "      <th>pdays</th>\n",
       "      <th>previous</th>\n",
       "      <th>emp.var.rate</th>\n",
       "      <th>cons.price.idx</th>\n",
       "      <th>cons.conf.idx</th>\n",
       "      <th>euribor3m</th>\n",
       "      <th>nr.employed</th>\n",
       "    </tr>\n",
       "  </thead>\n",
       "  <tbody>\n",
       "    <tr>\n",
       "      <th>count</th>\n",
       "      <td>41188.00000</td>\n",
       "      <td>41188.000000</td>\n",
       "      <td>41188.000000</td>\n",
       "      <td>41188.000000</td>\n",
       "      <td>41188.000000</td>\n",
       "      <td>41188.000000</td>\n",
       "      <td>41188.000000</td>\n",
       "      <td>41188.000000</td>\n",
       "      <td>41188.000000</td>\n",
       "      <td>41188.000000</td>\n",
       "    </tr>\n",
       "    <tr>\n",
       "      <th>mean</th>\n",
       "      <td>40.02406</td>\n",
       "      <td>258.285010</td>\n",
       "      <td>2.567593</td>\n",
       "      <td>962.475454</td>\n",
       "      <td>0.172963</td>\n",
       "      <td>0.081886</td>\n",
       "      <td>93.575664</td>\n",
       "      <td>-40.502600</td>\n",
       "      <td>3.621291</td>\n",
       "      <td>5167.035911</td>\n",
       "    </tr>\n",
       "    <tr>\n",
       "      <th>std</th>\n",
       "      <td>10.42125</td>\n",
       "      <td>259.279249</td>\n",
       "      <td>2.770014</td>\n",
       "      <td>186.910907</td>\n",
       "      <td>0.494901</td>\n",
       "      <td>1.570960</td>\n",
       "      <td>0.578840</td>\n",
       "      <td>4.628198</td>\n",
       "      <td>1.734447</td>\n",
       "      <td>72.251528</td>\n",
       "    </tr>\n",
       "    <tr>\n",
       "      <th>min</th>\n",
       "      <td>17.00000</td>\n",
       "      <td>0.000000</td>\n",
       "      <td>1.000000</td>\n",
       "      <td>0.000000</td>\n",
       "      <td>0.000000</td>\n",
       "      <td>-3.400000</td>\n",
       "      <td>92.201000</td>\n",
       "      <td>-50.800000</td>\n",
       "      <td>0.634000</td>\n",
       "      <td>4963.600000</td>\n",
       "    </tr>\n",
       "    <tr>\n",
       "      <th>25%</th>\n",
       "      <td>32.00000</td>\n",
       "      <td>102.000000</td>\n",
       "      <td>1.000000</td>\n",
       "      <td>999.000000</td>\n",
       "      <td>0.000000</td>\n",
       "      <td>-1.800000</td>\n",
       "      <td>93.075000</td>\n",
       "      <td>-42.700000</td>\n",
       "      <td>1.344000</td>\n",
       "      <td>5099.100000</td>\n",
       "    </tr>\n",
       "    <tr>\n",
       "      <th>50%</th>\n",
       "      <td>38.00000</td>\n",
       "      <td>180.000000</td>\n",
       "      <td>2.000000</td>\n",
       "      <td>999.000000</td>\n",
       "      <td>0.000000</td>\n",
       "      <td>1.100000</td>\n",
       "      <td>93.749000</td>\n",
       "      <td>-41.800000</td>\n",
       "      <td>4.857000</td>\n",
       "      <td>5191.000000</td>\n",
       "    </tr>\n",
       "    <tr>\n",
       "      <th>75%</th>\n",
       "      <td>47.00000</td>\n",
       "      <td>319.000000</td>\n",
       "      <td>3.000000</td>\n",
       "      <td>999.000000</td>\n",
       "      <td>0.000000</td>\n",
       "      <td>1.400000</td>\n",
       "      <td>93.994000</td>\n",
       "      <td>-36.400000</td>\n",
       "      <td>4.961000</td>\n",
       "      <td>5228.100000</td>\n",
       "    </tr>\n",
       "    <tr>\n",
       "      <th>max</th>\n",
       "      <td>98.00000</td>\n",
       "      <td>4918.000000</td>\n",
       "      <td>56.000000</td>\n",
       "      <td>999.000000</td>\n",
       "      <td>7.000000</td>\n",
       "      <td>1.400000</td>\n",
       "      <td>94.767000</td>\n",
       "      <td>-26.900000</td>\n",
       "      <td>5.045000</td>\n",
       "      <td>5228.100000</td>\n",
       "    </tr>\n",
       "  </tbody>\n",
       "</table>\n",
       "</div>"
      ],
      "text/plain": [
       "               age      duration      campaign         pdays      previous  \\\n",
       "count  41188.00000  41188.000000  41188.000000  41188.000000  41188.000000   \n",
       "mean      40.02406    258.285010      2.567593    962.475454      0.172963   \n",
       "std       10.42125    259.279249      2.770014    186.910907      0.494901   \n",
       "min       17.00000      0.000000      1.000000      0.000000      0.000000   \n",
       "25%       32.00000    102.000000      1.000000    999.000000      0.000000   \n",
       "50%       38.00000    180.000000      2.000000    999.000000      0.000000   \n",
       "75%       47.00000    319.000000      3.000000    999.000000      0.000000   \n",
       "max       98.00000   4918.000000     56.000000    999.000000      7.000000   \n",
       "\n",
       "       emp.var.rate  cons.price.idx  cons.conf.idx     euribor3m   nr.employed  \n",
       "count  41188.000000    41188.000000   41188.000000  41188.000000  41188.000000  \n",
       "mean       0.081886       93.575664     -40.502600      3.621291   5167.035911  \n",
       "std        1.570960        0.578840       4.628198      1.734447     72.251528  \n",
       "min       -3.400000       92.201000     -50.800000      0.634000   4963.600000  \n",
       "25%       -1.800000       93.075000     -42.700000      1.344000   5099.100000  \n",
       "50%        1.100000       93.749000     -41.800000      4.857000   5191.000000  \n",
       "75%        1.400000       93.994000     -36.400000      4.961000   5228.100000  \n",
       "max        1.400000       94.767000     -26.900000      5.045000   5228.100000  "
      ]
     },
     "execution_count": 6,
     "metadata": {},
     "output_type": "execute_result"
    }
   ],
   "source": [
    "df.describe()"
   ]
  },
  {
   "cell_type": "markdown",
   "metadata": {
    "papermill": {
     "duration": 0.109541,
     "end_time": "2020-11-27T17:43:49.512027",
     "exception": false,
     "start_time": "2020-11-27T17:43:49.402486",
     "status": "completed"
    },
    "tags": []
   },
   "source": [
    "For some numerical variables the median is far from the mean, this means that it is not normally distributed."
   ]
  },
  {
   "cell_type": "markdown",
   "metadata": {
    "papermill": {
     "duration": 0.108463,
     "end_time": "2020-11-27T17:43:49.728709",
     "exception": false,
     "start_time": "2020-11-27T17:43:49.620246",
     "status": "completed"
    },
    "tags": []
   },
   "source": [
    "# Bar plots"
   ]
  },
  {
   "cell_type": "code",
   "execution_count": 7,
   "metadata": {
    "execution": {
     "iopub.execute_input": "2020-11-27T17:43:49.960611Z",
     "iopub.status.busy": "2020-11-27T17:43:49.957787Z",
     "iopub.status.idle": "2020-11-27T17:43:50.639714Z",
     "shell.execute_reply": "2020-11-27T17:43:50.640359Z"
    },
    "papermill": {
     "duration": 0.802981,
     "end_time": "2020-11-27T17:43:50.640521",
     "exception": false,
     "start_time": "2020-11-27T17:43:49.837540",
     "status": "completed"
    },
    "tags": []
   },
   "outputs": [
    {
     "data": {
      "text/plain": [
       "Text(0.5, 0, 'Job')"
      ]
     },
     "execution_count": 7,
     "metadata": {},
     "output_type": "execute_result"
    },
    {
     "data": {
      "image/png": "[encoded data removed]",
      "text/plain": [
       "<Figure size 1080x720 with 1 Axes>"
      ]
     },
     "metadata": {
      "needs_background": "light"
     },
     "output_type": "display_data"
    }
   ],
   "source": [
    "#barplot of job with bars split by education\n",
    "#pivot table to get jobs as index and education as column. count of 'age' are the values\n",
    "df_pivot = pd.pivot_table(df,columns='education', index='job', aggfunc='count',values='age')\n",
    "df_pivot.plot(kind='bar',stacked=True, figsize=(15,10))\n",
    "plt.title('Count of people in each job split by education level')\n",
    "plt.ylabel('Count')\n",
    "plt.xlabel('Job')"
   ]
  },
  {
   "cell_type": "code",
   "execution_count": 8,
   "metadata": {
    "execution": {
     "iopub.execute_input": "2020-11-27T17:43:50.886994Z",
     "iopub.status.busy": "2020-11-27T17:43:50.886098Z",
     "iopub.status.idle": "2020-11-27T17:43:50.889690Z",
     "shell.execute_reply": "2020-11-27T17:43:50.888950Z"
    },
    "papermill": {
     "duration": 0.127421,
     "end_time": "2020-11-27T17:43:50.889822",
     "exception": false,
     "start_time": "2020-11-27T17:43:50.762401",
     "status": "completed"
    },
    "tags": []
   },
   "outputs": [],
   "source": [
    "#works but not entirely clean will fix later\n",
    "#pie chart function to see further breakdown of any column by anyother column\n",
    "def pie_chart():\n",
    "    while True:\n",
    "        try:\n",
    "            column = input('Which Column? \\n{}'.format(df.select_dtypes('object').columns))\n",
    "            cat = input('Which category? \\n{}'.format(df[column].unique()))\n",
    "            split_by = input('Which category do you want to split on? \\n{}'.format(df.select_dtypes('object').columns.drop(column)))\n",
    "            break\n",
    "        except:\n",
    "            print(\"column or category doesn't exist\")\n",
    "            continue\n",
    "    if column in df.select_dtypes('object').columns:\n",
    "        df_pivot = pd.pivot_table(df,columns = split_by, index = column, aggfunc='count',values='age')\n",
    "        df_pivot = df_pivot.fillna(0)\n",
    "        plt.figure(figsize=(10,10))\n",
    "        plt.pie(df_pivot.loc[cat], labels = df_pivot.loc[cat].index, autopct = '%1.2f%%')\n",
    "        plt.title('{}: The number of people in {} split by {}'.format(column,cat,split_by))\n",
    "    else:\n",
    "        print('Not Categorical column')\n",
    "        column = input('Please choose from the columns \\n{}'.format(df.select_dtypes('object').columns))"
   ]
  },
  {
   "cell_type": "code",
   "execution_count": 9,
   "metadata": {
    "execution": {
     "iopub.execute_input": "2020-11-27T17:43:51.121743Z",
     "iopub.status.busy": "2020-11-27T17:43:51.118358Z",
     "iopub.status.idle": "2020-11-27T17:43:51.472323Z",
     "shell.execute_reply": "2020-11-27T17:43:51.471703Z"
    },
    "papermill": {
     "duration": 0.47243,
     "end_time": "2020-11-27T17:43:51.472452",
     "exception": false,
     "start_time": "2020-11-27T17:43:51.000022",
     "status": "completed"
    },
    "tags": []
   },
   "outputs": [
    {
     "data": {
      "text/plain": [
       "<matplotlib.axes._subplots.AxesSubplot at 0x7fe0df1e6890>"
      ]
     },
     "execution_count": 9,
     "metadata": {},
     "output_type": "execute_result"
    },
    {
     "data": {
      "image/png": "[encoded data removed]",
      "text/plain": [
       "<Figure size 1080x360 with 1 Axes>"
      ]
     },
     "metadata": {
      "needs_background": "light"
     },
     "output_type": "display_data"
    }
   ],
   "source": [
    "#bar chart of jobs by personal loan\n",
    "pd.pivot_table(df,columns='loan', index='job', aggfunc='count',values='age').plot(kind='bar', stacked = True, figsize=(15,5))"
   ]
  },
  {
   "cell_type": "code",
   "execution_count": 10,
   "metadata": {
    "execution": {
     "iopub.execute_input": "2020-11-27T17:43:51.761309Z",
     "iopub.status.busy": "2020-11-27T17:43:51.758899Z",
     "iopub.status.idle": "2020-11-27T17:43:52.071098Z",
     "shell.execute_reply": "2020-11-27T17:43:52.070402Z"
    },
    "papermill": {
     "duration": 0.486581,
     "end_time": "2020-11-27T17:43:52.071221",
     "exception": false,
     "start_time": "2020-11-27T17:43:51.584640",
     "status": "completed"
    },
    "tags": []
   },
   "outputs": [
    {
     "data": {
      "text/plain": [
       "<matplotlib.axes._subplots.AxesSubplot at 0x7fe0df467c50>"
      ]
     },
     "execution_count": 10,
     "metadata": {},
     "output_type": "execute_result"
    },
    {
     "data": {
      "image/png": "[encoded data removed]",
      "text/plain": [
       "<Figure size 1080x360 with 1 Axes>"
      ]
     },
     "metadata": {
      "needs_background": "light"
     },
     "output_type": "display_data"
    }
   ],
   "source": [
    "#bar chart of jobs by yes or no\n",
    "pd.pivot_table(df,columns='y', index='job', aggfunc='count',values='age').plot(kind='bar', stacked = True, figsize=(15,5))"
   ]
  },
  {
   "cell_type": "markdown",
   "metadata": {
    "papermill": {
     "duration": 0.112445,
     "end_time": "2020-11-27T17:43:52.297395",
     "exception": false,
     "start_time": "2020-11-27T17:43:52.184950",
     "status": "completed"
    },
    "tags": []
   },
   "source": [
    "Pretty surprising that there is a small proportion of unemployed clients with personal loans compared to the other jobs. Was expecting unemployed to have a few personal loans"
   ]
  },
  {
   "cell_type": "code",
   "execution_count": 11,
   "metadata": {
    "execution": {
     "iopub.execute_input": "2020-11-27T17:43:52.563288Z",
     "iopub.status.busy": "2020-11-27T17:43:52.552005Z",
     "iopub.status.idle": "2020-11-27T17:43:52.577316Z",
     "shell.execute_reply": "2020-11-27T17:43:52.576544Z"
    },
    "papermill": {
     "duration": 0.165372,
     "end_time": "2020-11-27T17:43:52.577445",
     "exception": false,
     "start_time": "2020-11-27T17:43:52.412073",
     "status": "completed"
    },
    "tags": []
   },
   "outputs": [
    {
     "data": {
      "text/html": [
       "<div>\n",
       "<style scoped>\n",
       "    .dataframe tbody tr th:only-of-type {\n",
       "        vertical-align: middle;\n",
       "    }\n",
       "\n",
       "    .dataframe tbody tr th {\n",
       "        vertical-align: top;\n",
       "    }\n",
       "\n",
       "    .dataframe thead th {\n",
       "        text-align: right;\n",
       "    }\n",
       "</style>\n",
       "<table border=\"1\" class=\"dataframe\">\n",
       "  <thead>\n",
       "    <tr style=\"text-align: right;\">\n",
       "      <th>education</th>\n",
       "      <th>basic.4y</th>\n",
       "      <th>basic.6y</th>\n",
       "      <th>basic.9y</th>\n",
       "      <th>high.school</th>\n",
       "      <th>illiterate</th>\n",
       "      <th>professional.course</th>\n",
       "      <th>university.degree</th>\n",
       "      <th>unknown</th>\n",
       "    </tr>\n",
       "    <tr>\n",
       "      <th>job</th>\n",
       "      <th></th>\n",
       "      <th></th>\n",
       "      <th></th>\n",
       "      <th></th>\n",
       "      <th></th>\n",
       "      <th></th>\n",
       "      <th></th>\n",
       "      <th></th>\n",
       "    </tr>\n",
       "  </thead>\n",
       "  <tbody>\n",
       "    <tr>\n",
       "      <th>admin.</th>\n",
       "      <td>77.0</td>\n",
       "      <td>151.0</td>\n",
       "      <td>499.0</td>\n",
       "      <td>3329.0</td>\n",
       "      <td>1.0</td>\n",
       "      <td>363.0</td>\n",
       "      <td>5753.0</td>\n",
       "      <td>249.0</td>\n",
       "    </tr>\n",
       "    <tr>\n",
       "      <th>blue-collar</th>\n",
       "      <td>2318.0</td>\n",
       "      <td>1426.0</td>\n",
       "      <td>3623.0</td>\n",
       "      <td>878.0</td>\n",
       "      <td>8.0</td>\n",
       "      <td>453.0</td>\n",
       "      <td>94.0</td>\n",
       "      <td>454.0</td>\n",
       "    </tr>\n",
       "    <tr>\n",
       "      <th>entrepreneur</th>\n",
       "      <td>137.0</td>\n",
       "      <td>71.0</td>\n",
       "      <td>210.0</td>\n",
       "      <td>234.0</td>\n",
       "      <td>2.0</td>\n",
       "      <td>135.0</td>\n",
       "      <td>610.0</td>\n",
       "      <td>57.0</td>\n",
       "    </tr>\n",
       "    <tr>\n",
       "      <th>housemaid</th>\n",
       "      <td>474.0</td>\n",
       "      <td>77.0</td>\n",
       "      <td>94.0</td>\n",
       "      <td>174.0</td>\n",
       "      <td>1.0</td>\n",
       "      <td>59.0</td>\n",
       "      <td>139.0</td>\n",
       "      <td>42.0</td>\n",
       "    </tr>\n",
       "    <tr>\n",
       "      <th>management</th>\n",
       "      <td>100.0</td>\n",
       "      <td>85.0</td>\n",
       "      <td>166.0</td>\n",
       "      <td>298.0</td>\n",
       "      <td>NaN</td>\n",
       "      <td>89.0</td>\n",
       "      <td>2063.0</td>\n",
       "      <td>123.0</td>\n",
       "    </tr>\n",
       "    <tr>\n",
       "      <th>retired</th>\n",
       "      <td>597.0</td>\n",
       "      <td>75.0</td>\n",
       "      <td>145.0</td>\n",
       "      <td>276.0</td>\n",
       "      <td>3.0</td>\n",
       "      <td>241.0</td>\n",
       "      <td>285.0</td>\n",
       "      <td>98.0</td>\n",
       "    </tr>\n",
       "    <tr>\n",
       "      <th>self-employed</th>\n",
       "      <td>93.0</td>\n",
       "      <td>25.0</td>\n",
       "      <td>220.0</td>\n",
       "      <td>118.0</td>\n",
       "      <td>3.0</td>\n",
       "      <td>168.0</td>\n",
       "      <td>765.0</td>\n",
       "      <td>29.0</td>\n",
       "    </tr>\n",
       "    <tr>\n",
       "      <th>services</th>\n",
       "      <td>132.0</td>\n",
       "      <td>226.0</td>\n",
       "      <td>388.0</td>\n",
       "      <td>2682.0</td>\n",
       "      <td>NaN</td>\n",
       "      <td>218.0</td>\n",
       "      <td>173.0</td>\n",
       "      <td>150.0</td>\n",
       "    </tr>\n",
       "    <tr>\n",
       "      <th>student</th>\n",
       "      <td>26.0</td>\n",
       "      <td>13.0</td>\n",
       "      <td>99.0</td>\n",
       "      <td>357.0</td>\n",
       "      <td>NaN</td>\n",
       "      <td>43.0</td>\n",
       "      <td>170.0</td>\n",
       "      <td>167.0</td>\n",
       "    </tr>\n",
       "    <tr>\n",
       "      <th>technician</th>\n",
       "      <td>58.0</td>\n",
       "      <td>87.0</td>\n",
       "      <td>384.0</td>\n",
       "      <td>873.0</td>\n",
       "      <td>NaN</td>\n",
       "      <td>3320.0</td>\n",
       "      <td>1809.0</td>\n",
       "      <td>212.0</td>\n",
       "    </tr>\n",
       "    <tr>\n",
       "      <th>unemployed</th>\n",
       "      <td>112.0</td>\n",
       "      <td>34.0</td>\n",
       "      <td>186.0</td>\n",
       "      <td>259.0</td>\n",
       "      <td>NaN</td>\n",
       "      <td>142.0</td>\n",
       "      <td>262.0</td>\n",
       "      <td>19.0</td>\n",
       "    </tr>\n",
       "    <tr>\n",
       "      <th>unknown</th>\n",
       "      <td>52.0</td>\n",
       "      <td>22.0</td>\n",
       "      <td>31.0</td>\n",
       "      <td>37.0</td>\n",
       "      <td>NaN</td>\n",
       "      <td>12.0</td>\n",
       "      <td>45.0</td>\n",
       "      <td>131.0</td>\n",
       "    </tr>\n",
       "  </tbody>\n",
       "</table>\n",
       "</div>"
      ],
      "text/plain": [
       "education      basic.4y  basic.6y  basic.9y  high.school  illiterate  \\\n",
       "job                                                                    \n",
       "admin.             77.0     151.0     499.0       3329.0         1.0   \n",
       "blue-collar      2318.0    1426.0    3623.0        878.0         8.0   \n",
       "entrepreneur      137.0      71.0     210.0        234.0         2.0   \n",
       "housemaid         474.0      77.0      94.0        174.0         1.0   \n",
       "management        100.0      85.0     166.0        298.0         NaN   \n",
       "retired           597.0      75.0     145.0        276.0         3.0   \n",
       "self-employed      93.0      25.0     220.0        118.0         3.0   \n",
       "services          132.0     226.0     388.0       2682.0         NaN   \n",
       "student            26.0      13.0      99.0        357.0         NaN   \n",
       "technician         58.0      87.0     384.0        873.0         NaN   \n",
       "unemployed        112.0      34.0     186.0        259.0         NaN   \n",
       "unknown            52.0      22.0      31.0         37.0         NaN   \n",
       "\n",
       "education      professional.course  university.degree  unknown  \n",
       "job                                                             \n",
       "admin.                       363.0             5753.0    249.0  \n",
       "blue-collar                  453.0               94.0    454.0  \n",
       "entrepreneur                 135.0              610.0     57.0  \n",
       "housemaid                     59.0              139.0     42.0  \n",
       "management                    89.0             2063.0    123.0  \n",
       "retired                      241.0              285.0     98.0  \n",
       "self-employed                168.0              765.0     29.0  \n",
       "services                     218.0              173.0    150.0  \n",
       "student                       43.0              170.0    167.0  \n",
       "technician                  3320.0             1809.0    212.0  \n",
       "unemployed                   142.0              262.0     19.0  \n",
       "unknown                       12.0               45.0    131.0  "
      ]
     },
     "execution_count": 11,
     "metadata": {},
     "output_type": "execute_result"
    }
   ],
   "source": [
    "df_pivot"
   ]
  },
  {
   "cell_type": "code",
   "execution_count": 12,
   "metadata": {
    "execution": {
     "iopub.execute_input": "2020-11-27T17:43:52.838368Z",
     "iopub.status.busy": "2020-11-27T17:43:52.837188Z",
     "iopub.status.idle": "2020-11-27T17:43:53.072501Z",
     "shell.execute_reply": "2020-11-27T17:43:53.071686Z"
    },
    "papermill": {
     "duration": 0.371835,
     "end_time": "2020-11-27T17:43:53.072660",
     "exception": false,
     "start_time": "2020-11-27T17:43:52.700825",
     "status": "completed"
    },
    "tags": []
   },
   "outputs": [
    {
     "data": {
      "text/plain": [
       "<matplotlib.axes._subplots.AxesSubplot at 0x7fe0df359cd0>"
      ]
     },
     "execution_count": 12,
     "metadata": {},
     "output_type": "execute_result"
    },
    {
     "data": {
      "image/png": "[encoded data removed]",
      "text/plain": [
       "<Figure size 432x288 with 1 Axes>"
      ]
     },
     "metadata": {
      "needs_background": "light"
     },
     "output_type": "display_data"
    }
   ],
   "source": [
    "#no. of people with housing loan\n",
    "sns.countplot(df['housing'], order = ['yes','no','unknown'])"
   ]
  },
  {
   "cell_type": "code",
   "execution_count": 13,
   "metadata": {
    "execution": {
     "iopub.execute_input": "2020-11-27T17:43:53.328954Z",
     "iopub.status.busy": "2020-11-27T17:43:53.326330Z",
     "iopub.status.idle": "2020-11-27T17:43:53.558394Z",
     "shell.execute_reply": "2020-11-27T17:43:53.557596Z"
    },
    "papermill": {
     "duration": 0.366377,
     "end_time": "2020-11-27T17:43:53.558532",
     "exception": false,
     "start_time": "2020-11-27T17:43:53.192155",
     "status": "completed"
    },
    "tags": []
   },
   "outputs": [
    {
     "data": {
      "text/plain": [
       "<matplotlib.axes._subplots.AxesSubplot at 0x7fe0df3b4a50>"
      ]
     },
     "execution_count": 13,
     "metadata": {},
     "output_type": "execute_result"
    },
    {
     "data": {
      "image/png": "[encoded data removed]",
      "text/plain": [
       "<Figure size 1080x720 with 1 Axes>"
      ]
     },
     "metadata": {
      "needs_background": "light"
     },
     "output_type": "display_data"
    }
   ],
   "source": [
    "#split by target variable\n",
    "#pivot table.sorting by no column.plotting as bar chart\n",
    "pd.pivot_table(df,columns='y', index='housing', aggfunc='count',values='age').sort_values(['no'], ascending=False).plot(kind='bar', stacked = True, figsize=(15,10) )"
   ]
  },
  {
   "cell_type": "markdown",
   "metadata": {
    "papermill": {
     "duration": 0.117293,
     "end_time": "2020-11-27T17:43:53.794033",
     "exception": false,
     "start_time": "2020-11-27T17:43:53.676740",
     "status": "completed"
    },
    "tags": []
   },
   "source": [
    "Proportion of target variable doesn't change depending on housing loan or not"
   ]
  },
  {
   "cell_type": "code",
   "execution_count": 14,
   "metadata": {
    "execution": {
     "iopub.execute_input": "2020-11-27T17:43:54.045102Z",
     "iopub.status.busy": "2020-11-27T17:43:54.044147Z",
     "iopub.status.idle": "2020-11-27T17:43:54.206738Z",
     "shell.execute_reply": "2020-11-27T17:43:54.205959Z"
    },
    "papermill": {
     "duration": 0.294159,
     "end_time": "2020-11-27T17:43:54.206863",
     "exception": false,
     "start_time": "2020-11-27T17:43:53.912704",
     "status": "completed"
    },
    "tags": []
   },
   "outputs": [
    {
     "data": {
      "text/plain": [
       "<matplotlib.axes._subplots.AxesSubplot at 0x7fe0df28c3d0>"
      ]
     },
     "execution_count": 14,
     "metadata": {},
     "output_type": "execute_result"
    },
    {
     "data": {
      "image/png": "[encoded data removed]",
      "text/plain": [
       "<Figure size 432x288 with 1 Axes>"
      ]
     },
     "metadata": {
      "needs_background": "light"
     },
     "output_type": "display_data"
    }
   ],
   "source": [
    "sns.countplot(df['loan'], order=['no','yes','unknown'])"
   ]
  },
  {
   "cell_type": "code",
   "execution_count": 15,
   "metadata": {
    "execution": {
     "iopub.execute_input": "2020-11-27T17:43:54.461542Z",
     "iopub.status.busy": "2020-11-27T17:43:54.459103Z",
     "iopub.status.idle": "2020-11-27T17:43:54.699844Z",
     "shell.execute_reply": "2020-11-27T17:43:54.699041Z"
    },
    "papermill": {
     "duration": 0.372262,
     "end_time": "2020-11-27T17:43:54.700008",
     "exception": false,
     "start_time": "2020-11-27T17:43:54.327746",
     "status": "completed"
    },
    "tags": []
   },
   "outputs": [
    {
     "data": {
      "text/plain": [
       "<matplotlib.axes._subplots.AxesSubplot at 0x7fe0df259750>"
      ]
     },
     "execution_count": 15,
     "metadata": {},
     "output_type": "execute_result"
    },
    {
     "data": {
      "image/png": "[encoded data removed]",
      "text/plain": [
       "<Figure size 1080x720 with 1 Axes>"
      ]
     },
     "metadata": {
      "needs_background": "light"
     },
     "output_type": "display_data"
    }
   ],
   "source": [
    "pd.pivot_table(df,columns='y', index='loan', aggfunc='count',values='age').sort_values(['no'], ascending=False).plot(kind='bar', stacked = True,figsize=(15,10) )"
   ]
  },
  {
   "cell_type": "markdown",
   "metadata": {
    "papermill": {
     "duration": 0.119554,
     "end_time": "2020-11-27T17:43:54.939265",
     "exception": false,
     "start_time": "2020-11-27T17:43:54.819711",
     "status": "completed"
    },
    "tags": []
   },
   "source": [
    "Personal loan does not seem to affect whether or not they subscribed to a term deposit"
   ]
  },
  {
   "cell_type": "code",
   "execution_count": 16,
   "metadata": {
    "execution": {
     "iopub.execute_input": "2020-11-27T17:43:55.233856Z",
     "iopub.status.busy": "2020-11-27T17:43:55.231751Z",
     "iopub.status.idle": "2020-11-27T17:43:55.494798Z",
     "shell.execute_reply": "2020-11-27T17:43:55.495750Z"
    },
    "papermill": {
     "duration": 0.412166,
     "end_time": "2020-11-27T17:43:55.495972",
     "exception": false,
     "start_time": "2020-11-27T17:43:55.083806",
     "status": "completed"
    },
    "tags": []
   },
   "outputs": [
    {
     "data": {
      "text/plain": [
       "Text(0.5, 1.0, 'Count of outcome of the last campaign')"
      ]
     },
     "execution_count": 16,
     "metadata": {},
     "output_type": "execute_result"
    },
    {
     "data": {
      "image/png": "[encoded data removed]",
      "text/plain": [
       "<Figure size 1080x720 with 1 Axes>"
      ]
     },
     "metadata": {
      "needs_background": "light"
     },
     "output_type": "display_data"
    }
   ],
   "source": [
    "df_pivot_poutcome = pd.pivot_table(df,columns='y', index='poutcome', aggfunc='count',values='age')\n",
    "df_pivot_poutcome.sort_values(['no'], ascending=False).plot(kind='bar', stacked = True, figsize=(15,10) )\n",
    "plt.title('Count of outcome of the last campaign')"
   ]
  },
  {
   "cell_type": "code",
   "execution_count": 17,
   "metadata": {
    "execution": {
     "iopub.execute_input": "2020-11-27T17:43:55.755787Z",
     "iopub.status.busy": "2020-11-27T17:43:55.754664Z",
     "iopub.status.idle": "2020-11-27T17:43:55.758170Z",
     "shell.execute_reply": "2020-11-27T17:43:55.758778Z"
    },
    "papermill": {
     "duration": 0.134974,
     "end_time": "2020-11-27T17:43:55.758938",
     "exception": false,
     "start_time": "2020-11-27T17:43:55.623964",
     "status": "completed"
    },
    "tags": []
   },
   "outputs": [
    {
     "data": {
      "text/plain": [
       "y\n",
       "no     479\n",
       "yes    894\n",
       "Name: success, dtype: int64"
      ]
     },
     "execution_count": 17,
     "metadata": {},
     "output_type": "execute_result"
    }
   ],
   "source": [
    "df_pivot_poutcome.loc['success']"
   ]
  },
  {
   "cell_type": "code",
   "execution_count": 18,
   "metadata": {
    "execution": {
     "iopub.execute_input": "2020-11-27T17:43:56.017318Z",
     "iopub.status.busy": "2020-11-27T17:43:56.016238Z",
     "iopub.status.idle": "2020-11-27T17:43:56.022011Z",
     "shell.execute_reply": "2020-11-27T17:43:56.021272Z"
    },
    "papermill": {
     "duration": 0.138808,
     "end_time": "2020-11-27T17:43:56.022147",
     "exception": false,
     "start_time": "2020-11-27T17:43:55.883339",
     "status": "completed"
    },
    "tags": []
   },
   "outputs": [],
   "source": [
    "success_perc = round(100 * df_pivot_poutcome.loc['success'][1]/sum(df_pivot_poutcome.loc['success']),1)\n",
    "failure_perc = round(100 * df_pivot_poutcome.loc['failure'][1]/sum(df_pivot_poutcome.loc['failure']),1)\n",
    "nonexistent_perc = round(100 * df_pivot_poutcome.loc['nonexistent'][1]/sum(df_pivot_poutcome.loc['nonexistent']),1)"
   ]
  },
  {
   "cell_type": "code",
   "execution_count": 19,
   "metadata": {
    "execution": {
     "iopub.execute_input": "2020-11-27T17:43:56.281702Z",
     "iopub.status.busy": "2020-11-27T17:43:56.280648Z",
     "iopub.status.idle": "2020-11-27T17:43:56.284193Z",
     "shell.execute_reply": "2020-11-27T17:43:56.284833Z"
    },
    "papermill": {
     "duration": 0.133711,
     "end_time": "2020-11-27T17:43:56.284991",
     "exception": false,
     "start_time": "2020-11-27T17:43:56.151280",
     "status": "completed"
    },
    "tags": []
   },
   "outputs": [
    {
     "name": "stdout",
     "output_type": "stream",
     "text": [
      "For a successful last campaign 65.1% subscribed to a term deposit\n",
      "For a failed last campaign 14.2% subscribed to a term deposit\n",
      "For a nonexistent last campaign 8.8% subscribed to a term deposit\n"
     ]
    }
   ],
   "source": [
    "print('For a successful last campaign {}% subscribed to a term deposit'.format(success_perc))\n",
    "print('For a failed last campaign {}% subscribed to a term deposit'.format(failure_perc))\n",
    "print('For a nonexistent last campaign {}% subscribed to a term deposit'.format(nonexistent_perc))"
   ]
  },
  {
   "cell_type": "markdown",
   "metadata": {
    "papermill": {
     "duration": 0.169627,
     "end_time": "2020-11-27T17:43:56.611803",
     "exception": false,
     "start_time": "2020-11-27T17:43:56.442176",
     "status": "completed"
    },
    "tags": []
   },
   "source": [
    "Succesful last campaigns are important in determining whether they will subscribe to a term deposit. Where the outcome of the last campaign has been successful a higher proportion of people have subscribed to a term deposit"
   ]
  },
  {
   "cell_type": "code",
   "execution_count": 20,
   "metadata": {
    "execution": {
     "iopub.execute_input": "2020-11-27T17:43:56.941274Z",
     "iopub.status.busy": "2020-11-27T17:43:56.931758Z",
     "iopub.status.idle": "2020-11-27T17:43:57.256079Z",
     "shell.execute_reply": "2020-11-27T17:43:57.255258Z"
    },
    "papermill": {
     "duration": 0.490851,
     "end_time": "2020-11-27T17:43:57.256233",
     "exception": false,
     "start_time": "2020-11-27T17:43:56.765382",
     "status": "completed"
    },
    "tags": []
   },
   "outputs": [
    {
     "data": {
      "text/plain": [
       "<matplotlib.axes._subplots.AxesSubplot at 0x7fe0dee3d750>"
      ]
     },
     "execution_count": 20,
     "metadata": {},
     "output_type": "execute_result"
    },
    {
     "data": {
      "image/png": "[encoded data removed]",
      "text/plain": [
       "<Figure size 1080x720 with 1 Axes>"
      ]
     },
     "metadata": {
      "needs_background": "light"
     },
     "output_type": "display_data"
    }
   ],
   "source": [
    "pd.pivot_table(df,columns='y', index='month', aggfunc='count',values='age').sort_values(['no'], ascending=False).plot(kind='bar', stacked = True,figsize=(15,10) )"
   ]
  },
  {
   "cell_type": "code",
   "execution_count": 21,
   "metadata": {
    "execution": {
     "iopub.execute_input": "2020-11-27T17:43:57.523045Z",
     "iopub.status.busy": "2020-11-27T17:43:57.522000Z",
     "iopub.status.idle": "2020-11-27T17:43:57.525042Z",
     "shell.execute_reply": "2020-11-27T17:43:57.525679Z"
    },
    "papermill": {
     "duration": 0.137003,
     "end_time": "2020-11-27T17:43:57.525872",
     "exception": false,
     "start_time": "2020-11-27T17:43:57.388869",
     "status": "completed"
    },
    "tags": []
   },
   "outputs": [],
   "source": [
    "months = ['mar', 'apr', 'may', 'jun', 'jul', 'aug', 'sep', 'oct', 'nov', 'dec']"
   ]
  },
  {
   "cell_type": "code",
   "execution_count": 22,
   "metadata": {
    "execution": {
     "iopub.execute_input": "2020-11-27T17:43:57.787563Z",
     "iopub.status.busy": "2020-11-27T17:43:57.786691Z",
     "iopub.status.idle": "2020-11-27T17:43:57.790236Z",
     "shell.execute_reply": "2020-11-27T17:43:57.789495Z"
    },
    "papermill": {
     "duration": 0.136974,
     "end_time": "2020-11-27T17:43:57.790355",
     "exception": false,
     "start_time": "2020-11-27T17:43:57.653381",
     "status": "completed"
    },
    "tags": []
   },
   "outputs": [],
   "source": [
    "def absolute_value(val,month):\n",
    "    a = round(val*sum(df[df['month']==month].y.value_counts())/100,0)\n",
    "    return a"
   ]
  },
  {
   "cell_type": "code",
   "execution_count": 23,
   "metadata": {
    "execution": {
     "iopub.execute_input": "2020-11-27T17:43:58.064471Z",
     "iopub.status.busy": "2020-11-27T17:43:58.063126Z",
     "iopub.status.idle": "2020-11-27T17:43:59.058045Z",
     "shell.execute_reply": "2020-11-27T17:43:59.057239Z"
    },
    "papermill": {
     "duration": 1.140402,
     "end_time": "2020-11-27T17:43:59.058172",
     "exception": false,
     "start_time": "2020-11-27T17:43:57.917770",
     "status": "completed"
    },
    "tags": []
   },
   "outputs": [
    {
     "data": {
      "image/png": "[encoded data removed]",
      "text/plain": [
       "<Figure size 1440x576 with 10 Axes>"
      ]
     },
     "metadata": {},
     "output_type": "display_data"
    }
   ],
   "source": [
    "fig, axs = plt.subplots(2,5,figsize=(20,8))\n",
    "#creating dictionary of numbers and plot axes for the for loop\n",
    "#making manually is probably easier to follow\n",
    "plot_dict=dict(zip(range(0,10),[axs[0,0],axs[0,1],axs[0,2],axs[0,3],axs[0,4],\n",
    "                     axs[1,0],axs[1,1], axs[1,2], axs[1,3], axs[1,4]]))\n",
    "\n",
    "#enumerate returns tuple of month and a number(idx)\n",
    "#change to autopct = '%1.2f%%' for percentage\n",
    "for idx, month in enumerate(months):\n",
    "    #gets axes from dict and plots on it\n",
    "    plot_dict.get(idx).pie(df[df['month']==month].y.value_counts(),\n",
    "             labels=df[df['month']==month].y.value_counts().index, autopct=lambda val: absolute_value(val,month))\n",
    "    plot_dict.get(idx).set_title(month)\n"
   ]
  },
  {
   "cell_type": "markdown",
   "metadata": {
    "papermill": {
     "duration": 0.131048,
     "end_time": "2020-11-27T17:43:59.366563",
     "exception": false,
     "start_time": "2020-11-27T17:43:59.235515",
     "status": "completed"
    },
    "tags": []
   },
   "source": [
    "Quite a big descrepancy in proportion of people subscribed to term deposits for certain last contact months. For these last contact months did anything significant happen? Why do a lot of people last contacted in these months subscribe to term deposits?"
   ]
  },
  {
   "cell_type": "markdown",
   "metadata": {
    "papermill": {
     "duration": 0.127628,
     "end_time": "2020-11-27T17:43:59.621108",
     "exception": false,
     "start_time": "2020-11-27T17:43:59.493480",
     "status": "completed"
    },
    "tags": []
   },
   "source": [
    "Discrepancy could be explained by the low numbers"
   ]
  },
  {
   "cell_type": "markdown",
   "metadata": {
    "papermill": {
     "duration": 0.127597,
     "end_time": "2020-11-27T17:43:59.875365",
     "exception": false,
     "start_time": "2020-11-27T17:43:59.747768",
     "status": "completed"
    },
    "tags": []
   },
   "source": [
    "Initially it looked like the last contacted month may have an affect on whether or not they subscribe to a term deposit but the low sample size for these months possibly explains the difference."
   ]
  },
  {
   "cell_type": "code",
   "execution_count": 24,
   "metadata": {
    "execution": {
     "iopub.execute_input": "2020-11-27T17:44:00.162828Z",
     "iopub.status.busy": "2020-11-27T17:44:00.160260Z",
     "iopub.status.idle": "2020-11-27T17:44:00.410905Z",
     "shell.execute_reply": "2020-11-27T17:44:00.410119Z"
    },
    "papermill": {
     "duration": 0.407944,
     "end_time": "2020-11-27T17:44:00.411045",
     "exception": false,
     "start_time": "2020-11-27T17:44:00.003101",
     "status": "completed"
    },
    "tags": []
   },
   "outputs": [
    {
     "data": {
      "text/plain": [
       "<matplotlib.axes._subplots.AxesSubplot at 0x7fe0deaec490>"
      ]
     },
     "execution_count": 24,
     "metadata": {},
     "output_type": "execute_result"
    },
    {
     "data": {
      "image/png": "[encoded data removed]",
      "text/plain": [
       "<Figure size 1080x720 with 1 Axes>"
      ]
     },
     "metadata": {
      "needs_background": "light"
     },
     "output_type": "display_data"
    }
   ],
   "source": [
    "pd.pivot_table(df,columns='y', index='day_of_week', aggfunc='count',values='age').sort_values(['no'], ascending=False).plot(kind='bar', stacked = True,figsize=(15,10) )"
   ]
  },
  {
   "cell_type": "markdown",
   "metadata": {
    "papermill": {
     "duration": 0.146141,
     "end_time": "2020-11-27T17:44:00.698236",
     "exception": false,
     "start_time": "2020-11-27T17:44:00.552095",
     "status": "completed"
    },
    "tags": []
   },
   "source": [
    "Day of week has little affect"
   ]
  },
  {
   "cell_type": "markdown",
   "metadata": {
    "papermill": {
     "duration": 0.135413,
     "end_time": "2020-11-27T17:44:00.980630",
     "exception": false,
     "start_time": "2020-11-27T17:44:00.845217",
     "status": "completed"
    },
    "tags": []
   },
   "source": [
    "This analysis has shown that outcome of last campaign and last contact month of the year may have an affect whether or not they have subscribed to a term deposit."
   ]
  },
  {
   "cell_type": "markdown",
   "metadata": {
    "papermill": {
     "duration": 0.129219,
     "end_time": "2020-11-27T17:44:01.244470",
     "exception": false,
     "start_time": "2020-11-27T17:44:01.115251",
     "status": "completed"
    },
    "tags": []
   },
   "source": [
    "# Distribution of numerical variables"
   ]
  },
  {
   "cell_type": "code",
   "execution_count": 25,
   "metadata": {
    "execution": {
     "iopub.execute_input": "2020-11-27T17:44:01.513894Z",
     "iopub.status.busy": "2020-11-27T17:44:01.513024Z",
     "iopub.status.idle": "2020-11-27T17:44:02.023930Z",
     "shell.execute_reply": "2020-11-27T17:44:02.023116Z"
    },
    "papermill": {
     "duration": 0.650309,
     "end_time": "2020-11-27T17:44:02.024060",
     "exception": false,
     "start_time": "2020-11-27T17:44:01.373751",
     "status": "completed"
    },
    "tags": []
   },
   "outputs": [
    {
     "data": {
      "text/plain": [
       "array([<matplotlib.axes._subplots.AxesSubplot object at 0x7fe0dd23c890>,\n",
       "       <matplotlib.axes._subplots.AxesSubplot object at 0x7fe0dd2173d0>],\n",
       "      dtype=object)"
      ]
     },
     "execution_count": 25,
     "metadata": {},
     "output_type": "execute_result"
    },
    {
     "data": {
      "image/png": "[encoded data removed]",
      "text/plain": [
       "<Figure size 864x360 with 2 Axes>"
      ]
     },
     "metadata": {
      "needs_background": "light"
     },
     "output_type": "display_data"
    }
   ],
   "source": [
    "#histogram of age split by putput variable\n",
    "df['age'].hist(by = df.y, bins = 30, figsize=(12,5))"
   ]
  },
  {
   "cell_type": "code",
   "execution_count": 26,
   "metadata": {
    "execution": {
     "iopub.execute_input": "2020-11-27T17:44:02.408406Z",
     "iopub.status.busy": "2020-11-27T17:44:02.300316Z",
     "iopub.status.idle": "2020-11-27T17:44:02.826960Z",
     "shell.execute_reply": "2020-11-27T17:44:02.826306Z"
    },
    "papermill": {
     "duration": 0.667316,
     "end_time": "2020-11-27T17:44:02.827083",
     "exception": false,
     "start_time": "2020-11-27T17:44:02.159767",
     "status": "completed"
    },
    "tags": []
   },
   "outputs": [
    {
     "data": {
      "text/plain": [
       "<matplotlib.axes._subplots.AxesSubplot at 0x7fe0dd07c850>"
      ]
     },
     "execution_count": 26,
     "metadata": {},
     "output_type": "execute_result"
    },
    {
     "data": {
      "image/png": "[encoded data removed]",
      "text/plain": [
       "<Figure size 720x504 with 1 Axes>"
      ]
     },
     "metadata": {
      "needs_background": "light"
     },
     "output_type": "display_data"
    }
   ],
   "source": [
    "df['duration'].hist(bins=100, figsize=(10,7))"
   ]
  },
  {
   "cell_type": "code",
   "execution_count": 27,
   "metadata": {
    "execution": {
     "iopub.execute_input": "2020-11-27T17:44:03.098703Z",
     "iopub.status.busy": "2020-11-27T17:44:03.097559Z",
     "iopub.status.idle": "2020-11-27T17:44:03.914702Z",
     "shell.execute_reply": "2020-11-27T17:44:03.913852Z"
    },
    "papermill": {
     "duration": 0.956576,
     "end_time": "2020-11-27T17:44:03.914839",
     "exception": false,
     "start_time": "2020-11-27T17:44:02.958263",
     "status": "completed"
    },
    "tags": []
   },
   "outputs": [
    {
     "data": {
      "text/plain": [
       "array([<matplotlib.axes._subplots.AxesSubplot object at 0x7fe0dd250b10>,\n",
       "       <matplotlib.axes._subplots.AxesSubplot object at 0x7fe0dcef7ed0>],\n",
       "      dtype=object)"
      ]
     },
     "execution_count": 27,
     "metadata": {},
     "output_type": "execute_result"
    },
    {
     "data": {
      "image/png": "[encoded data removed]",
      "text/plain": [
       "<Figure size 720x504 with 2 Axes>"
      ]
     },
     "metadata": {
      "needs_background": "light"
     },
     "output_type": "display_data"
    }
   ],
   "source": [
    "df['duration'].hist(bins=100, figsize=(10,7), by=df['y'])"
   ]
  },
  {
   "cell_type": "code",
   "execution_count": 28,
   "metadata": {
    "execution": {
     "iopub.execute_input": "2020-11-27T17:44:04.230803Z",
     "iopub.status.busy": "2020-11-27T17:44:04.229990Z",
     "iopub.status.idle": "2020-11-27T17:44:04.711852Z",
     "shell.execute_reply": "2020-11-27T17:44:04.711153Z"
    },
    "papermill": {
     "duration": 0.647625,
     "end_time": "2020-11-27T17:44:04.711994",
     "exception": false,
     "start_time": "2020-11-27T17:44:04.064369",
     "status": "completed"
    },
    "tags": []
   },
   "outputs": [
    {
     "data": {
      "text/plain": [
       "array([<matplotlib.axes._subplots.AxesSubplot object at 0x7fe0dd0c07d0>,\n",
       "       <matplotlib.axes._subplots.AxesSubplot object at 0x7fe0dcc23e10>],\n",
       "      dtype=object)"
      ]
     },
     "execution_count": 28,
     "metadata": {},
     "output_type": "execute_result"
    },
    {
     "data": {
      "image/png": "[encoded data removed]",
      "text/plain": [
       "<Figure size 864x360 with 2 Axes>"
      ]
     },
     "metadata": {
      "needs_background": "light"
     },
     "output_type": "display_data"
    }
   ],
   "source": [
    "#histogram of contacts performed during campaign\n",
    "df['campaign'].hist(figsize=(12,5), bins=30, by =df['y'])"
   ]
  },
  {
   "cell_type": "code",
   "execution_count": 29,
   "metadata": {
    "execution": {
     "iopub.execute_input": "2020-11-27T17:44:05.005358Z",
     "iopub.status.busy": "2020-11-27T17:44:05.004427Z",
     "iopub.status.idle": "2020-11-27T17:44:05.400830Z",
     "shell.execute_reply": "2020-11-27T17:44:05.400076Z"
    },
    "papermill": {
     "duration": 0.54014,
     "end_time": "2020-11-27T17:44:05.400953",
     "exception": false,
     "start_time": "2020-11-27T17:44:04.860813",
     "status": "completed"
    },
    "tags": []
   },
   "outputs": [
    {
     "data": {
      "text/plain": [
       "array([<matplotlib.axes._subplots.AxesSubplot object at 0x7fe0dcacaa10>,\n",
       "       <matplotlib.axes._subplots.AxesSubplot object at 0x7fe0dca8d110>],\n",
       "      dtype=object)"
      ]
     },
     "execution_count": 29,
     "metadata": {},
     "output_type": "execute_result"
    },
    {
     "data": {
      "image/png": "[encoded data removed]",
      "text/plain": [
       "<Figure size 864x360 with 2 Axes>"
      ]
     },
     "metadata": {
      "needs_background": "light"
     },
     "output_type": "display_data"
    }
   ],
   "source": [
    "df['nr.employed'].hist(figsize=(12,5), by=df['y'])"
   ]
  },
  {
   "cell_type": "markdown",
   "metadata": {
    "papermill": {
     "duration": 0.137252,
     "end_time": "2020-11-27T17:44:05.673923",
     "exception": false,
     "start_time": "2020-11-27T17:44:05.536671",
     "status": "completed"
    },
    "tags": []
   },
   "source": [
    "May actually be ordinal categorical variable and not ratio"
   ]
  },
  {
   "cell_type": "code",
   "execution_count": 30,
   "metadata": {
    "execution": {
     "iopub.execute_input": "2020-11-27T17:44:05.950821Z",
     "iopub.status.busy": "2020-11-27T17:44:05.949629Z",
     "iopub.status.idle": "2020-11-27T17:44:05.956083Z",
     "shell.execute_reply": "2020-11-27T17:44:05.955388Z"
    },
    "papermill": {
     "duration": 0.147706,
     "end_time": "2020-11-27T17:44:05.956227",
     "exception": false,
     "start_time": "2020-11-27T17:44:05.808521",
     "status": "completed"
    },
    "tags": []
   },
   "outputs": [
    {
     "data": {
      "text/plain": [
       "array([5191. , 5228.1, 5195.8, 5176.3, 5099.1, 5076.2, 5017.5, 5023.5,\n",
       "       5008.7, 4991.6, 4963.6])"
      ]
     },
     "execution_count": 30,
     "metadata": {},
     "output_type": "execute_result"
    }
   ],
   "source": [
    "df['nr.employed'].unique()"
   ]
  },
  {
   "cell_type": "code",
   "execution_count": 31,
   "metadata": {
    "execution": {
     "iopub.execute_input": "2020-11-27T17:44:06.270558Z",
     "iopub.status.busy": "2020-11-27T17:44:06.269319Z",
     "iopub.status.idle": "2020-11-27T17:44:06.276341Z",
     "shell.execute_reply": "2020-11-27T17:44:06.275609Z"
    },
    "papermill": {
     "duration": 0.166741,
     "end_time": "2020-11-27T17:44:06.276494",
     "exception": false,
     "start_time": "2020-11-27T17:44:06.109753",
     "status": "completed"
    },
    "tags": []
   },
   "outputs": [
    {
     "data": {
      "text/plain": [
       "array([ 1.1,  1.4, -0.1, -0.2, -1.8, -2.9, -3.4, -3. , -1.7, -1.1])"
      ]
     },
     "execution_count": 31,
     "metadata": {},
     "output_type": "execute_result"
    }
   ],
   "source": [
    "df['emp.var.rate'].unique()"
   ]
  },
  {
   "cell_type": "code",
   "execution_count": 32,
   "metadata": {
    "execution": {
     "iopub.execute_input": "2020-11-27T17:44:06.564627Z",
     "iopub.status.busy": "2020-11-27T17:44:06.563370Z",
     "iopub.status.idle": "2020-11-27T17:44:06.570103Z",
     "shell.execute_reply": "2020-11-27T17:44:06.569247Z"
    },
    "papermill": {
     "duration": 0.151165,
     "end_time": "2020-11-27T17:44:06.570240",
     "exception": false,
     "start_time": "2020-11-27T17:44:06.419075",
     "status": "completed"
    },
    "tags": []
   },
   "outputs": [
    {
     "data": {
      "text/plain": [
       "array([-36.4, -41.8, -42.7, -36.1, -40.4, -42. , -45.9, -50. , -47.1,\n",
       "       -46.2, -40.8, -33.6, -31.4, -29.8, -26.9, -30.1, -33. , -34.8,\n",
       "       -34.6, -40. , -39.8, -40.3, -38.3, -37.5, -49.5, -50.8])"
      ]
     },
     "execution_count": 32,
     "metadata": {},
     "output_type": "execute_result"
    }
   ],
   "source": [
    "df['cons.conf.idx'].unique()"
   ]
  },
  {
   "cell_type": "code",
   "execution_count": 33,
   "metadata": {
    "execution": {
     "iopub.execute_input": "2020-11-27T17:44:06.887335Z",
     "iopub.status.busy": "2020-11-27T17:44:06.886207Z",
     "iopub.status.idle": "2020-11-27T17:44:06.892856Z",
     "shell.execute_reply": "2020-11-27T17:44:06.892120Z"
    },
    "papermill": {
     "duration": 0.167126,
     "end_time": "2020-11-27T17:44:06.892976",
     "exception": false,
     "start_time": "2020-11-27T17:44:06.725850",
     "status": "completed"
    },
    "tags": []
   },
   "outputs": [
    {
     "data": {
      "text/plain": [
       "array([93.994, 94.465, 93.918, 93.444, 93.798, 93.2  , 92.756, 92.843,\n",
       "       93.075, 92.893, 92.963, 92.469, 92.201, 92.379, 92.431, 92.649,\n",
       "       92.713, 93.369, 93.749, 93.876, 94.055, 94.215, 94.027, 94.199,\n",
       "       94.601, 94.767])"
      ]
     },
     "execution_count": 33,
     "metadata": {},
     "output_type": "execute_result"
    }
   ],
   "source": [
    "df['cons.price.idx'].unique()"
   ]
  },
  {
   "cell_type": "code",
   "execution_count": 34,
   "metadata": {
    "execution": {
     "iopub.execute_input": "2020-11-27T17:44:07.191974Z",
     "iopub.status.busy": "2020-11-27T17:44:07.191119Z",
     "iopub.status.idle": "2020-11-27T17:44:07.372065Z",
     "shell.execute_reply": "2020-11-27T17:44:07.371287Z"
    },
    "papermill": {
     "duration": 0.34008,
     "end_time": "2020-11-27T17:44:07.372189",
     "exception": false,
     "start_time": "2020-11-27T17:44:07.032109",
     "status": "completed"
    },
    "tags": []
   },
   "outputs": [
    {
     "data": {
      "text/plain": [
       "<matplotlib.axes._subplots.AxesSubplot at 0x7fe0dc9e2950>"
      ]
     },
     "execution_count": 34,
     "metadata": {},
     "output_type": "execute_result"
    },
    {
     "data": {
      "image/png": "[encoded data removed]",
      "text/plain": [
       "<Figure size 432x288 with 1 Axes>"
      ]
     },
     "metadata": {
      "needs_background": "light"
     },
     "output_type": "display_data"
    }
   ],
   "source": [
    "df['euribor3m'].hist(bins=6)"
   ]
  },
  {
   "cell_type": "markdown",
   "metadata": {
    "papermill": {
     "duration": 0.14087,
     "end_time": "2020-11-27T17:44:07.651889",
     "exception": false,
     "start_time": "2020-11-27T17:44:07.511019",
     "status": "completed"
    },
    "tags": []
   },
   "source": [
    "Again this looks like this may instead be a categorical variable"
   ]
  },
  {
   "cell_type": "code",
   "execution_count": 35,
   "metadata": {
    "execution": {
     "iopub.execute_input": "2020-11-27T17:44:07.938029Z",
     "iopub.status.busy": "2020-11-27T17:44:07.937198Z",
     "iopub.status.idle": "2020-11-27T17:44:07.948027Z",
     "shell.execute_reply": "2020-11-27T17:44:07.947248Z"
    },
    "papermill": {
     "duration": 0.156969,
     "end_time": "2020-11-27T17:44:07.948149",
     "exception": false,
     "start_time": "2020-11-27T17:44:07.791180",
     "status": "completed"
    },
    "tags": []
   },
   "outputs": [
    {
     "data": {
      "text/plain": [
       "array([4.857, 4.856, 4.855, 4.859, 4.86 , 4.858, 4.864, 4.865, 4.866,\n",
       "       4.967, 4.961, 4.959, 4.958, 4.96 , 4.962, 4.955, 4.947, 4.956,\n",
       "       4.966, 4.963, 4.957, 4.968, 4.97 , 4.965, 4.964, 5.045, 5.   ,\n",
       "       4.936, 4.921, 4.918, 4.912, 4.827, 4.794, 4.76 , 4.733, 4.7  ,\n",
       "       4.663, 4.592, 4.474, 4.406, 4.343, 4.286, 4.245, 4.223, 4.191,\n",
       "       4.153, 4.12 , 4.076, 4.021, 3.901, 3.879, 3.853, 3.816, 3.743,\n",
       "       3.669, 3.563, 3.488, 3.428, 3.329, 3.282, 3.053, 1.811, 1.799,\n",
       "       1.778, 1.757, 1.726, 1.703, 1.687, 1.663, 1.65 , 1.64 , 1.629,\n",
       "       1.614, 1.602, 1.584, 1.574, 1.56 , 1.556, 1.548, 1.538, 1.531,\n",
       "       1.52 , 1.51 , 1.498, 1.483, 1.479, 1.466, 1.453, 1.445, 1.435,\n",
       "       1.423, 1.415, 1.41 , 1.405, 1.406, 1.4  , 1.392, 1.384, 1.372,\n",
       "       1.365, 1.354, 1.344, 1.334, 1.327, 1.313, 1.299, 1.291, 1.281,\n",
       "       1.266, 1.25 , 1.244, 1.259, 1.264, 1.27 , 1.262, 1.26 , 1.268,\n",
       "       1.286, 1.252, 1.235, 1.224, 1.215, 1.206, 1.099, 1.085, 1.072,\n",
       "       1.059, 1.048, 1.044, 1.029, 1.018, 1.007, 0.996, 0.979, 0.969,\n",
       "       0.944, 0.937, 0.933, 0.927, 0.921, 0.914, 0.908, 0.903, 0.899,\n",
       "       0.884, 0.883, 0.881, 0.879, 0.873, 0.869, 0.861, 0.859, 0.854,\n",
       "       0.851, 0.849, 0.843, 0.838, 0.834, 0.829, 0.825, 0.821, 0.819,\n",
       "       0.813, 0.809, 0.803, 0.797, 0.788, 0.781, 0.778, 0.773, 0.771,\n",
       "       0.77 , 0.768, 0.766, 0.762, 0.755, 0.749, 0.743, 0.741, 0.739,\n",
       "       0.75 , 0.753, 0.754, 0.752, 0.744, 0.74 , 0.742, 0.737, 0.735,\n",
       "       0.733, 0.73 , 0.731, 0.728, 0.724, 0.722, 0.72 , 0.719, 0.716,\n",
       "       0.715, 0.714, 0.718, 0.721, 0.717, 0.712, 0.71 , 0.709, 0.708,\n",
       "       0.706, 0.707, 0.7  , 0.655, 0.654, 0.653, 0.652, 0.651, 0.65 ,\n",
       "       0.649, 0.646, 0.644, 0.643, 0.639, 0.637, 0.635, 0.636, 0.634,\n",
       "       0.638, 0.64 , 0.642, 0.645, 0.659, 0.663, 0.668, 0.672, 0.677,\n",
       "       0.682, 0.683, 0.684, 0.685, 0.688, 0.69 , 0.692, 0.695, 0.697,\n",
       "       0.699, 0.701, 0.702, 0.704, 0.711, 0.713, 0.723, 0.727, 0.729,\n",
       "       0.732, 0.748, 0.761, 0.767, 0.782, 0.79 , 0.793, 0.802, 0.81 ,\n",
       "       0.822, 0.827, 0.835, 0.84 , 0.846, 0.87 , 0.876, 0.885, 0.889,\n",
       "       0.893, 0.896, 0.898, 0.9  , 0.904, 0.905, 0.895, 0.894, 0.891,\n",
       "       0.89 , 0.888, 0.886, 0.882, 0.88 , 0.878, 0.877, 0.942, 0.953,\n",
       "       0.956, 0.959, 0.965, 0.972, 0.977, 0.982, 0.985, 0.987, 0.993,\n",
       "       1.   , 1.008, 1.016, 1.025, 1.032, 1.037, 1.043, 1.045, 1.047,\n",
       "       1.05 , 1.049, 1.046, 1.041, 1.04 , 1.039, 1.035, 1.03 , 1.031,\n",
       "       1.028])"
      ]
     },
     "execution_count": 35,
     "metadata": {},
     "output_type": "execute_result"
    }
   ],
   "source": [
    "df['euribor3m'].unique()"
   ]
  },
  {
   "cell_type": "markdown",
   "metadata": {
    "papermill": {
     "duration": 0.141187,
     "end_time": "2020-11-27T17:44:08.229728",
     "exception": false,
     "start_time": "2020-11-27T17:44:08.088541",
     "status": "completed"
    },
    "tags": []
   },
   "source": [
    "There are a lot of unique values which could mean it is not categorical"
   ]
  },
  {
   "cell_type": "markdown",
   "metadata": {
    "papermill": {
     "duration": 0.13995,
     "end_time": "2020-11-27T17:44:08.510477",
     "exception": false,
     "start_time": "2020-11-27T17:44:08.370527",
     "status": "completed"
    },
    "tags": []
   },
   "source": [
    "Gap in split could be due to target variable"
   ]
  },
  {
   "cell_type": "code",
   "execution_count": 36,
   "metadata": {
    "execution": {
     "iopub.execute_input": "2020-11-27T17:44:08.801507Z",
     "iopub.status.busy": "2020-11-27T17:44:08.800735Z",
     "iopub.status.idle": "2020-11-27T17:44:09.189299Z",
     "shell.execute_reply": "2020-11-27T17:44:09.189905Z"
    },
    "papermill": {
     "duration": 0.538184,
     "end_time": "2020-11-27T17:44:09.190079",
     "exception": false,
     "start_time": "2020-11-27T17:44:08.651895",
     "status": "completed"
    },
    "tags": []
   },
   "outputs": [
    {
     "data": {
      "text/plain": [
       "array([<matplotlib.axes._subplots.AxesSubplot object at 0x7fe0dc9aa290>,\n",
       "       <matplotlib.axes._subplots.AxesSubplot object at 0x7fe0dc8fe990>],\n",
       "      dtype=object)"
      ]
     },
     "execution_count": 36,
     "metadata": {},
     "output_type": "execute_result"
    },
    {
     "data": {
      "image/png": "[encoded data removed]",
      "text/plain": [
       "<Figure size 864x360 with 2 Axes>"
      ]
     },
     "metadata": {
      "needs_background": "light"
     },
     "output_type": "display_data"
    }
   ],
   "source": [
    "df['euribor3m'].hist(by=df['y'],figsize=(12,5))"
   ]
  },
  {
   "cell_type": "markdown",
   "metadata": {
    "papermill": {
     "duration": 0.143268,
     "end_time": "2020-11-27T17:44:09.477219",
     "exception": false,
     "start_time": "2020-11-27T17:44:09.333951",
     "status": "completed"
    },
    "tags": []
   },
   "source": [
    "Although splitting by target variable doesnt completely separate the distributions. For the yes column there is a higher number of lower values compared to higher values. This means the euribor 3 column could provide some useful info. "
   ]
  },
  {
   "cell_type": "markdown",
   "metadata": {
    "papermill": {
     "duration": 0.163791,
     "end_time": "2020-11-27T17:44:09.785449",
     "exception": false,
     "start_time": "2020-11-27T17:44:09.621658",
     "status": "completed"
    },
    "tags": []
   },
   "source": [
    "Euribor is the interest rate at which credit institutions lend money to each other. Euribor 3m is actually an average of the rates at which European banks lend money to each other over a 3 month period. https://www.bankinter.com/banca/en/faqs/mortgages/what-is-euribor-and-how-does-it-affect-me"
   ]
  },
  {
   "cell_type": "markdown",
   "metadata": {
    "papermill": {
     "duration": 0.141048,
     "end_time": "2020-11-27T17:44:10.078170",
     "exception": false,
     "start_time": "2020-11-27T17:44:09.937122",
     "status": "completed"
    },
    "tags": []
   },
   "source": [
    "This histogram shows that a lot of people subscribe to a term deposit when the euribor rate is low. "
   ]
  },
  {
   "cell_type": "markdown",
   "metadata": {
    "papermill": {
     "duration": 0.143371,
     "end_time": "2020-11-27T17:44:10.364185",
     "exception": false,
     "start_time": "2020-11-27T17:44:10.220814",
     "status": "completed"
    },
    "tags": []
   },
   "source": [
    "# Boxplots of Categorical variables "
   ]
  },
  {
   "cell_type": "markdown",
   "metadata": {
    "papermill": {
     "duration": 0.143554,
     "end_time": "2020-11-27T17:44:10.651647",
     "exception": false,
     "start_time": "2020-11-27T17:44:10.508093",
     "status": "completed"
    },
    "tags": []
   },
   "source": [
    "possibly useful information from client data"
   ]
  },
  {
   "cell_type": "code",
   "execution_count": 37,
   "metadata": {
    "execution": {
     "iopub.execute_input": "2020-11-27T17:44:10.952023Z",
     "iopub.status.busy": "2020-11-27T17:44:10.945085Z",
     "iopub.status.idle": "2020-11-27T17:44:11.467015Z",
     "shell.execute_reply": "2020-11-27T17:44:11.466248Z"
    },
    "papermill": {
     "duration": 0.673107,
     "end_time": "2020-11-27T17:44:11.467142",
     "exception": false,
     "start_time": "2020-11-27T17:44:10.794035",
     "status": "completed"
    },
    "tags": []
   },
   "outputs": [
    {
     "data": {
      "text/plain": [
       "Text(0.5, 0, 'Job')"
      ]
     },
     "execution_count": 37,
     "metadata": {},
     "output_type": "execute_result"
    },
    {
     "data": {
      "image/png": "[encoded data removed]",
      "text/plain": [
       "<Figure size 1080x360 with 1 Axes>"
      ]
     },
     "metadata": {
      "needs_background": "light"
     },
     "output_type": "display_data"
    }
   ],
   "source": [
    "#Boxplot of Job by age\n",
    "df.boxplot('age','job',figsize=(15,5))\n",
    "plt.ylabel('Age')\n",
    "plt.xlabel('Job')"
   ]
  },
  {
   "cell_type": "markdown",
   "metadata": {
    "papermill": {
     "duration": 0.142001,
     "end_time": "2020-11-27T17:44:11.752067",
     "exception": false,
     "start_time": "2020-11-27T17:44:11.610066",
     "status": "completed"
    },
    "tags": []
   },
   "source": [
    "As expected students have the lowest median age and the retired have the highest"
   ]
  },
  {
   "cell_type": "code",
   "execution_count": 38,
   "metadata": {
    "execution": {
     "iopub.execute_input": "2020-11-27T17:44:12.043249Z",
     "iopub.status.busy": "2020-11-27T17:44:12.042003Z",
     "iopub.status.idle": "2020-11-27T17:44:12.316239Z",
     "shell.execute_reply": "2020-11-27T17:44:12.316790Z"
    },
    "papermill": {
     "duration": 0.422905,
     "end_time": "2020-11-27T17:44:12.316958",
     "exception": false,
     "start_time": "2020-11-27T17:44:11.894053",
     "status": "completed"
    },
    "tags": []
   },
   "outputs": [
    {
     "data": {
      "text/plain": [
       "Text(0.5, 0, 'Marital Status')"
      ]
     },
     "execution_count": 38,
     "metadata": {},
     "output_type": "execute_result"
    },
    {
     "data": {
      "image/png": "[encoded data removed]",
      "text/plain": [
       "<Figure size 1080x720 with 1 Axes>"
      ]
     },
     "metadata": {
      "needs_background": "light"
     },
     "output_type": "display_data"
    }
   ],
   "source": [
    "df.boxplot('age','marital',figsize=(15,10))\n",
    "plt.ylabel('Age')\n",
    "plt.xlabel('Marital Status')"
   ]
  },
  {
   "cell_type": "markdown",
   "metadata": {
    "papermill": {
     "duration": 0.147156,
     "end_time": "2020-11-27T17:44:12.611157",
     "exception": false,
     "start_time": "2020-11-27T17:44:12.464001",
     "status": "completed"
    },
    "tags": []
   },
   "source": [
    "Again expected, single people have the lowest median age with divorce being highest"
   ]
  },
  {
   "cell_type": "markdown",
   "metadata": {
    "papermill": {
     "duration": 0.145973,
     "end_time": "2020-11-27T17:44:12.903450",
     "exception": false,
     "start_time": "2020-11-27T17:44:12.757477",
     "status": "completed"
    },
    "tags": []
   },
   "source": [
    "Distribution as it pertains to the target variable"
   ]
  },
  {
   "cell_type": "code",
   "execution_count": 39,
   "metadata": {
    "execution": {
     "iopub.execute_input": "2020-11-27T17:44:13.218271Z",
     "iopub.status.busy": "2020-11-27T17:44:13.211553Z",
     "iopub.status.idle": "2020-11-27T17:44:13.415253Z",
     "shell.execute_reply": "2020-11-27T17:44:13.414535Z"
    },
    "papermill": {
     "duration": 0.365012,
     "end_time": "2020-11-27T17:44:13.415382",
     "exception": false,
     "start_time": "2020-11-27T17:44:13.050370",
     "status": "completed"
    },
    "tags": []
   },
   "outputs": [
    {
     "data": {
      "text/plain": [
       "Text(0.5, 0, 'y')"
      ]
     },
     "execution_count": 39,
     "metadata": {},
     "output_type": "execute_result"
    },
    {
     "data": {
      "image/png": "[encoded data removed]",
      "text/plain": [
       "<Figure size 720x360 with 1 Axes>"
      ]
     },
     "metadata": {
      "needs_background": "light"
     },
     "output_type": "display_data"
    }
   ],
   "source": [
    "df.boxplot('age','y',figsize=(10,5))\n",
    "plt.ylabel('Age')\n",
    "plt.xlabel('y')"
   ]
  },
  {
   "cell_type": "code",
   "execution_count": 40,
   "metadata": {
    "execution": {
     "iopub.execute_input": "2020-11-27T17:44:13.725420Z",
     "iopub.status.busy": "2020-11-27T17:44:13.723133Z",
     "iopub.status.idle": "2020-11-27T17:44:13.909864Z",
     "shell.execute_reply": "2020-11-27T17:44:13.909159Z"
    },
    "papermill": {
     "duration": 0.348135,
     "end_time": "2020-11-27T17:44:13.909997",
     "exception": false,
     "start_time": "2020-11-27T17:44:13.561862",
     "status": "completed"
    },
    "tags": []
   },
   "outputs": [
    {
     "data": {
      "text/plain": [
       "<matplotlib.axes._subplots.AxesSubplot at 0x7fe0dc6111d0>"
      ]
     },
     "execution_count": 40,
     "metadata": {},
     "output_type": "execute_result"
    },
    {
     "data": {
      "image/png": "[encoded data removed]",
      "text/plain": [
       "<Figure size 720x360 with 1 Axes>"
      ]
     },
     "metadata": {
      "needs_background": "light"
     },
     "output_type": "display_data"
    }
   ],
   "source": [
    "df.boxplot('duration','y',figsize=(10,5))"
   ]
  },
  {
   "cell_type": "markdown",
   "metadata": {
    "papermill": {
     "duration": 0.149043,
     "end_time": "2020-11-27T17:44:14.208125",
     "exception": false,
     "start_time": "2020-11-27T17:44:14.059082",
     "status": "completed"
    },
    "tags": []
   },
   "source": [
    "Those that did not subscribe to a term loan have a lower median call duration this is explained in the bank-additional-names.txt file"
   ]
  },
  {
   "cell_type": "code",
   "execution_count": 41,
   "metadata": {
    "execution": {
     "iopub.execute_input": "2020-11-27T17:44:14.524882Z",
     "iopub.status.busy": "2020-11-27T17:44:14.513878Z",
     "iopub.status.idle": "2020-11-27T17:44:14.698544Z",
     "shell.execute_reply": "2020-11-27T17:44:14.699103Z"
    },
    "papermill": {
     "duration": 0.342452,
     "end_time": "2020-11-27T17:44:14.699282",
     "exception": false,
     "start_time": "2020-11-27T17:44:14.356830",
     "status": "completed"
    },
    "tags": []
   },
   "outputs": [
    {
     "data": {
      "text/plain": [
       "<matplotlib.axes._subplots.AxesSubplot at 0x7fe0dc5a1910>"
      ]
     },
     "execution_count": 41,
     "metadata": {},
     "output_type": "execute_result"
    },
    {
     "data": {
      "image/png": "[encoded data removed]",
      "text/plain": [
       "<Figure size 720x360 with 1 Axes>"
      ]
     },
     "metadata": {
      "needs_background": "light"
     },
     "output_type": "display_data"
    }
   ],
   "source": [
    "df.boxplot('euribor3m','y',figsize=(10,5))"
   ]
  },
  {
   "cell_type": "markdown",
   "metadata": {
    "papermill": {
     "duration": 0.148883,
     "end_time": "2020-11-27T17:44:14.997828",
     "exception": false,
     "start_time": "2020-11-27T17:44:14.848945",
     "status": "completed"
    },
    "tags": []
   },
   "source": [
    "Median at diferent points, Euribor 3m is also helpful in distinguishing whether or not they will subscribe"
   ]
  },
  {
   "cell_type": "code",
   "execution_count": 42,
   "metadata": {
    "execution": {
     "iopub.execute_input": "2020-11-27T17:44:15.311074Z",
     "iopub.status.busy": "2020-11-27T17:44:15.306140Z",
     "iopub.status.idle": "2020-11-27T17:44:15.494955Z",
     "shell.execute_reply": "2020-11-27T17:44:15.494114Z"
    },
    "papermill": {
     "duration": 0.346413,
     "end_time": "2020-11-27T17:44:15.495087",
     "exception": false,
     "start_time": "2020-11-27T17:44:15.148674",
     "status": "completed"
    },
    "tags": []
   },
   "outputs": [
    {
     "data": {
      "text/plain": [
       "<matplotlib.axes._subplots.AxesSubplot at 0x7fe0dc52aa90>"
      ]
     },
     "execution_count": 42,
     "metadata": {},
     "output_type": "execute_result"
    },
    {
     "data": {
      "image/png": "[encoded data removed]",
      "text/plain": [
       "<Figure size 720x360 with 1 Axes>"
      ]
     },
     "metadata": {
      "needs_background": "light"
     },
     "output_type": "display_data"
    }
   ],
   "source": [
    "df.boxplot('cons.price.idx','y',figsize=(10,5))"
   ]
  },
  {
   "cell_type": "code",
   "execution_count": 43,
   "metadata": {
    "execution": {
     "iopub.execute_input": "2020-11-27T17:44:15.815024Z",
     "iopub.status.busy": "2020-11-27T17:44:15.807482Z",
     "iopub.status.idle": "2020-11-27T17:44:15.997432Z",
     "shell.execute_reply": "2020-11-27T17:44:15.996618Z"
    },
    "papermill": {
     "duration": 0.34839,
     "end_time": "2020-11-27T17:44:15.997584",
     "exception": false,
     "start_time": "2020-11-27T17:44:15.649194",
     "status": "completed"
    },
    "tags": []
   },
   "outputs": [
    {
     "data": {
      "text/plain": [
       "<matplotlib.axes._subplots.AxesSubplot at 0x7fe0dc4a3b90>"
      ]
     },
     "execution_count": 43,
     "metadata": {},
     "output_type": "execute_result"
    },
    {
     "data": {
      "image/png": "[encoded data removed]",
      "text/plain": [
       "<Figure size 720x360 with 1 Axes>"
      ]
     },
     "metadata": {
      "needs_background": "light"
     },
     "output_type": "display_data"
    }
   ],
   "source": [
    "df.boxplot('nr.employed','y',figsize=(10,5))"
   ]
  },
  {
   "cell_type": "markdown",
   "metadata": {
    "papermill": {
     "duration": 0.153804,
     "end_time": "2020-11-27T17:44:16.320791",
     "exception": false,
     "start_time": "2020-11-27T17:44:16.166987",
     "status": "completed"
    },
    "tags": []
   },
   "source": [
    "This analysis shows that Consumer confidence index, Euribor 3 month rate and number of employees may also affect whether or not they will subscribe to a term loan as the bosplots show different medians for each target variable. "
   ]
  },
  {
   "cell_type": "markdown",
   "metadata": {
    "papermill": {
     "duration": 0.151986,
     "end_time": "2020-11-27T17:44:16.625450",
     "exception": false,
     "start_time": "2020-11-27T17:44:16.473464",
     "status": "completed"
    },
    "tags": []
   },
   "source": [
    "# Missing values (Unknown)"
   ]
  },
  {
   "cell_type": "code",
   "execution_count": 44,
   "metadata": {
    "execution": {
     "iopub.execute_input": "2020-11-27T17:44:17.007779Z",
     "iopub.status.busy": "2020-11-27T17:44:17.006636Z",
     "iopub.status.idle": "2020-11-27T17:44:17.016732Z",
     "shell.execute_reply": "2020-11-27T17:44:17.016096Z"
    },
    "papermill": {
     "duration": 0.239962,
     "end_time": "2020-11-27T17:44:17.016863",
     "exception": false,
     "start_time": "2020-11-27T17:44:16.776901",
     "status": "completed"
    },
    "tags": []
   },
   "outputs": [
    {
     "data": {
      "text/plain": [
       "age                  0\n",
       "job                330\n",
       "marital             80\n",
       "education         1731\n",
       "default           8597\n",
       "housing            990\n",
       "loan               990\n",
       "contact              0\n",
       "month                0\n",
       "day_of_week          0\n",
       "duration             0\n",
       "campaign             0\n",
       "pdays                0\n",
       "previous             0\n",
       "poutcome             0\n",
       "emp.var.rate         0\n",
       "cons.price.idx       0\n",
       "cons.conf.idx        0\n",
       "euribor3m            0\n",
       "nr.employed          0\n",
       "y                    0\n",
       "dtype: int64"
      ]
     },
     "execution_count": 44,
     "metadata": {},
     "output_type": "execute_result"
    }
   ],
   "source": [
    "#checking number of unknowns in each column\n",
    "(df=='unknown').sum()"
   ]
  },
  {
   "cell_type": "markdown",
   "metadata": {
    "papermill": {
     "duration": 0.153728,
     "end_time": "2020-11-27T17:44:17.324941",
     "exception": false,
     "start_time": "2020-11-27T17:44:17.171213",
     "status": "completed"
    },
    "tags": []
   },
   "source": [
    "Job, Marital Status, Education, default, housing and loan all have unknown values. Can either be MCAR, MNAR or MAR. Missing completely at random means that the variable that is missing has nothing to do with the data. could be missing due to equipment failure. MAR means it is missing due to another variable being measured. MNAR is due to the variable that is being studied. "
   ]
  },
  {
   "cell_type": "markdown",
   "metadata": {
    "papermill": {
     "duration": 0.154255,
     "end_time": "2020-11-27T17:44:17.632455",
     "exception": false,
     "start_time": "2020-11-27T17:44:17.478200",
     "status": "completed"
    },
    "tags": []
   },
   "source": [
    "# Filling unknown with mode"
   ]
  },
  {
   "cell_type": "code",
   "execution_count": 45,
   "metadata": {
    "execution": {
     "iopub.execute_input": "2020-11-27T17:44:17.950071Z",
     "iopub.status.busy": "2020-11-27T17:44:17.949134Z",
     "iopub.status.idle": "2020-11-27T17:44:17.953110Z",
     "shell.execute_reply": "2020-11-27T17:44:17.953655Z"
    },
    "papermill": {
     "duration": 0.1694,
     "end_time": "2020-11-27T17:44:17.953825",
     "exception": false,
     "start_time": "2020-11-27T17:44:17.784425",
     "status": "completed"
    },
    "tags": []
   },
   "outputs": [
    {
     "data": {
      "text/plain": [
       "'admin.'"
      ]
     },
     "execution_count": 45,
     "metadata": {},
     "output_type": "execute_result"
    }
   ],
   "source": [
    "df.job.mode()[0]"
   ]
  },
  {
   "cell_type": "code",
   "execution_count": 46,
   "metadata": {
    "execution": {
     "iopub.execute_input": "2020-11-27T17:44:18.270926Z",
     "iopub.status.busy": "2020-11-27T17:44:18.270091Z",
     "iopub.status.idle": "2020-11-27T17:44:18.273104Z",
     "shell.execute_reply": "2020-11-27T17:44:18.272345Z"
    },
    "papermill": {
     "duration": 0.163452,
     "end_time": "2020-11-27T17:44:18.273229",
     "exception": false,
     "start_time": "2020-11-27T17:44:18.109777",
     "status": "completed"
    },
    "tags": []
   },
   "outputs": [],
   "source": [
    "def fillmode(dataframe,columns):\n",
    "    for i in columns:\n",
    "        df[i] = df[i].apply(lambda x:df[i].mode()[0] if x=='unknown' else x)"
   ]
  },
  {
   "cell_type": "code",
   "execution_count": 47,
   "metadata": {
    "execution": {
     "iopub.execute_input": "2020-11-27T17:44:18.616043Z",
     "iopub.status.busy": "2020-11-27T17:44:18.596776Z",
     "iopub.status.idle": "2020-11-27T17:45:35.588264Z",
     "shell.execute_reply": "2020-11-27T17:45:35.587493Z"
    },
    "papermill": {
     "duration": 77.160869,
     "end_time": "2020-11-27T17:45:35.588420",
     "exception": false,
     "start_time": "2020-11-27T17:44:18.427551",
     "status": "completed"
    },
    "tags": []
   },
   "outputs": [],
   "source": [
    "fillmode(df,df.columns)"
   ]
  },
  {
   "cell_type": "code",
   "execution_count": 48,
   "metadata": {
    "execution": {
     "iopub.execute_input": "2020-11-27T17:45:35.978735Z",
     "iopub.status.busy": "2020-11-27T17:45:35.905376Z",
     "iopub.status.idle": "2020-11-27T17:45:35.988310Z",
     "shell.execute_reply": "2020-11-27T17:45:35.987512Z"
    },
    "papermill": {
     "duration": 0.240734,
     "end_time": "2020-11-27T17:45:35.988441",
     "exception": false,
     "start_time": "2020-11-27T17:45:35.747707",
     "status": "completed"
    },
    "tags": []
   },
   "outputs": [
    {
     "data": {
      "text/plain": [
       "age               0\n",
       "job               0\n",
       "marital           0\n",
       "education         0\n",
       "default           0\n",
       "housing           0\n",
       "loan              0\n",
       "contact           0\n",
       "month             0\n",
       "day_of_week       0\n",
       "duration          0\n",
       "campaign          0\n",
       "pdays             0\n",
       "previous          0\n",
       "poutcome          0\n",
       "emp.var.rate      0\n",
       "cons.price.idx    0\n",
       "cons.conf.idx     0\n",
       "euribor3m         0\n",
       "nr.employed       0\n",
       "y                 0\n",
       "dtype: int64"
      ]
     },
     "execution_count": 48,
     "metadata": {},
     "output_type": "execute_result"
    }
   ],
   "source": [
    "#rechecking the unknowns in each column\n",
    "(df=='unknown').sum()"
   ]
  },
  {
   "cell_type": "markdown",
   "metadata": {
    "papermill": {
     "duration": 0.15423,
     "end_time": "2020-11-27T17:45:36.297164",
     "exception": false,
     "start_time": "2020-11-27T17:45:36.142934",
     "status": "completed"
    },
    "tags": []
   },
   "source": [
    "There are now zero unknowns"
   ]
  },
  {
   "cell_type": "markdown",
   "metadata": {
    "papermill": {
     "duration": 0.153234,
     "end_time": "2020-11-27T17:45:36.605431",
     "exception": false,
     "start_time": "2020-11-27T17:45:36.452197",
     "status": "completed"
    },
    "tags": []
   },
   "source": [
    "Checking for NAs in numerical columns"
   ]
  },
  {
   "cell_type": "code",
   "execution_count": 49,
   "metadata": {
    "execution": {
     "iopub.execute_input": "2020-11-27T17:45:36.973589Z",
     "iopub.status.busy": "2020-11-27T17:45:36.972401Z",
     "iopub.status.idle": "2020-11-27T17:45:36.982778Z",
     "shell.execute_reply": "2020-11-27T17:45:36.981959Z"
    },
    "papermill": {
     "duration": 0.219878,
     "end_time": "2020-11-27T17:45:36.982910",
     "exception": false,
     "start_time": "2020-11-27T17:45:36.763032",
     "status": "completed"
    },
    "tags": []
   },
   "outputs": [
    {
     "data": {
      "text/plain": [
       "age               0\n",
       "job               0\n",
       "marital           0\n",
       "education         0\n",
       "default           0\n",
       "housing           0\n",
       "loan              0\n",
       "contact           0\n",
       "month             0\n",
       "day_of_week       0\n",
       "duration          0\n",
       "campaign          0\n",
       "pdays             0\n",
       "previous          0\n",
       "poutcome          0\n",
       "emp.var.rate      0\n",
       "cons.price.idx    0\n",
       "cons.conf.idx     0\n",
       "euribor3m         0\n",
       "nr.employed       0\n",
       "y                 0\n",
       "dtype: int64"
      ]
     },
     "execution_count": 49,
     "metadata": {},
     "output_type": "execute_result"
    }
   ],
   "source": [
    "df.isnull().sum()"
   ]
  },
  {
   "cell_type": "markdown",
   "metadata": {
    "papermill": {
     "duration": 0.156843,
     "end_time": "2020-11-27T17:45:37.296010",
     "exception": false,
     "start_time": "2020-11-27T17:45:37.139167",
     "status": "completed"
    },
    "tags": []
   },
   "source": [
    "No NAs and no unknowns"
   ]
  },
  {
   "cell_type": "markdown",
   "metadata": {
    "papermill": {
     "duration": 0.154379,
     "end_time": "2020-11-27T17:45:37.607010",
     "exception": false,
     "start_time": "2020-11-27T17:45:37.452631",
     "status": "completed"
    },
    "tags": []
   },
   "source": [
    "# Transforming categorical features"
   ]
  },
  {
   "cell_type": "markdown",
   "metadata": {
    "papermill": {
     "duration": 0.161002,
     "end_time": "2020-11-27T17:45:37.959421",
     "exception": false,
     "start_time": "2020-11-27T17:45:37.798419",
     "status": "completed"
    },
    "tags": []
   },
   "source": [
    "Need domain knowledge on whether the categorical features are nominal or ordinal"
   ]
  },
  {
   "cell_type": "code",
   "execution_count": 50,
   "metadata": {
    "execution": {
     "iopub.execute_input": "2020-11-27T17:45:38.285416Z",
     "iopub.status.busy": "2020-11-27T17:45:38.284631Z",
     "iopub.status.idle": "2020-11-27T17:45:38.288970Z",
     "shell.execute_reply": "2020-11-27T17:45:38.288112Z"
    },
    "papermill": {
     "duration": 0.173833,
     "end_time": "2020-11-27T17:45:38.289104",
     "exception": false,
     "start_time": "2020-11-27T17:45:38.115271",
     "status": "completed"
    },
    "tags": []
   },
   "outputs": [],
   "source": [
    "df_cat = df.select_dtypes('object')"
   ]
  },
  {
   "cell_type": "code",
   "execution_count": 51,
   "metadata": {
    "execution": {
     "iopub.execute_input": "2020-11-27T17:45:38.610427Z",
     "iopub.status.busy": "2020-11-27T17:45:38.609258Z",
     "iopub.status.idle": "2020-11-27T17:45:38.613827Z",
     "shell.execute_reply": "2020-11-27T17:45:38.613201Z"
    },
    "papermill": {
     "duration": 0.166701,
     "end_time": "2020-11-27T17:45:38.613955",
     "exception": false,
     "start_time": "2020-11-27T17:45:38.447254",
     "status": "completed"
    },
    "tags": []
   },
   "outputs": [
    {
     "data": {
      "text/plain": [
       "Index(['job', 'marital', 'education', 'default', 'housing', 'loan', 'contact',\n",
       "       'month', 'day_of_week', 'poutcome', 'y'],\n",
       "      dtype='object')"
      ]
     },
     "execution_count": 51,
     "metadata": {},
     "output_type": "execute_result"
    }
   ],
   "source": [
    "df_cat.columns"
   ]
  },
  {
   "cell_type": "markdown",
   "metadata": {
    "papermill": {
     "duration": 0.158315,
     "end_time": "2020-11-27T17:45:38.930536",
     "exception": false,
     "start_time": "2020-11-27T17:45:38.772221",
     "status": "completed"
    },
    "tags": []
   },
   "source": [
    "from previous analysis month and poutcome are important. Fom domain knowledge I think that Job, Education, housing and loan will have some affect."
   ]
  },
  {
   "cell_type": "code",
   "execution_count": 52,
   "metadata": {
    "execution": {
     "iopub.execute_input": "2020-11-27T17:45:39.266874Z",
     "iopub.status.busy": "2020-11-27T17:45:39.265875Z",
     "iopub.status.idle": "2020-11-27T17:45:39.270988Z",
     "shell.execute_reply": "2020-11-27T17:45:39.270366Z"
    },
    "papermill": {
     "duration": 0.182732,
     "end_time": "2020-11-27T17:45:39.271119",
     "exception": false,
     "start_time": "2020-11-27T17:45:39.088387",
     "status": "completed"
    },
    "tags": []
   },
   "outputs": [
    {
     "data": {
      "text/html": [
       "<div>\n",
       "<style scoped>\n",
       "    .dataframe tbody tr th:only-of-type {\n",
       "        vertical-align: middle;\n",
       "    }\n",
       "\n",
       "    .dataframe tbody tr th {\n",
       "        vertical-align: top;\n",
       "    }\n",
       "\n",
       "    .dataframe thead th {\n",
       "        text-align: right;\n",
       "    }\n",
       "</style>\n",
       "<table border=\"1\" class=\"dataframe\">\n",
       "  <thead>\n",
       "    <tr style=\"text-align: right;\">\n",
       "      <th></th>\n",
       "      <th>job</th>\n",
       "      <th>marital</th>\n",
       "      <th>education</th>\n",
       "      <th>default</th>\n",
       "      <th>housing</th>\n",
       "      <th>loan</th>\n",
       "      <th>contact</th>\n",
       "      <th>month</th>\n",
       "      <th>day_of_week</th>\n",
       "      <th>poutcome</th>\n",
       "      <th>y</th>\n",
       "    </tr>\n",
       "  </thead>\n",
       "  <tbody>\n",
       "    <tr>\n",
       "      <th>0</th>\n",
       "      <td>housemaid</td>\n",
       "      <td>married</td>\n",
       "      <td>basic.4y</td>\n",
       "      <td>no</td>\n",
       "      <td>no</td>\n",
       "      <td>no</td>\n",
       "      <td>telephone</td>\n",
       "      <td>may</td>\n",
       "      <td>mon</td>\n",
       "      <td>nonexistent</td>\n",
       "      <td>no</td>\n",
       "    </tr>\n",
       "    <tr>\n",
       "      <th>1</th>\n",
       "      <td>services</td>\n",
       "      <td>married</td>\n",
       "      <td>high.school</td>\n",
       "      <td>no</td>\n",
       "      <td>no</td>\n",
       "      <td>no</td>\n",
       "      <td>telephone</td>\n",
       "      <td>may</td>\n",
       "      <td>mon</td>\n",
       "      <td>nonexistent</td>\n",
       "      <td>no</td>\n",
       "    </tr>\n",
       "    <tr>\n",
       "      <th>2</th>\n",
       "      <td>services</td>\n",
       "      <td>married</td>\n",
       "      <td>high.school</td>\n",
       "      <td>no</td>\n",
       "      <td>yes</td>\n",
       "      <td>no</td>\n",
       "      <td>telephone</td>\n",
       "      <td>may</td>\n",
       "      <td>mon</td>\n",
       "      <td>nonexistent</td>\n",
       "      <td>no</td>\n",
       "    </tr>\n",
       "    <tr>\n",
       "      <th>3</th>\n",
       "      <td>admin.</td>\n",
       "      <td>married</td>\n",
       "      <td>basic.6y</td>\n",
       "      <td>no</td>\n",
       "      <td>no</td>\n",
       "      <td>no</td>\n",
       "      <td>telephone</td>\n",
       "      <td>may</td>\n",
       "      <td>mon</td>\n",
       "      <td>nonexistent</td>\n",
       "      <td>no</td>\n",
       "    </tr>\n",
       "    <tr>\n",
       "      <th>4</th>\n",
       "      <td>services</td>\n",
       "      <td>married</td>\n",
       "      <td>high.school</td>\n",
       "      <td>no</td>\n",
       "      <td>no</td>\n",
       "      <td>yes</td>\n",
       "      <td>telephone</td>\n",
       "      <td>may</td>\n",
       "      <td>mon</td>\n",
       "      <td>nonexistent</td>\n",
       "      <td>no</td>\n",
       "    </tr>\n",
       "  </tbody>\n",
       "</table>\n",
       "</div>"
      ],
      "text/plain": [
       "         job  marital    education default housing loan    contact month  \\\n",
       "0  housemaid  married     basic.4y      no      no   no  telephone   may   \n",
       "1   services  married  high.school      no      no   no  telephone   may   \n",
       "2   services  married  high.school      no     yes   no  telephone   may   \n",
       "3     admin.  married     basic.6y      no      no   no  telephone   may   \n",
       "4   services  married  high.school      no      no  yes  telephone   may   \n",
       "\n",
       "  day_of_week     poutcome   y  \n",
       "0         mon  nonexistent  no  \n",
       "1         mon  nonexistent  no  \n",
       "2         mon  nonexistent  no  \n",
       "3         mon  nonexistent  no  \n",
       "4         mon  nonexistent  no  "
      ]
     },
     "execution_count": 52,
     "metadata": {},
     "output_type": "execute_result"
    }
   ],
   "source": [
    "df_cat.head()"
   ]
  },
  {
   "cell_type": "markdown",
   "metadata": {
    "papermill": {
     "duration": 0.156188,
     "end_time": "2020-11-27T17:45:39.585489",
     "exception": false,
     "start_time": "2020-11-27T17:45:39.429301",
     "status": "completed"
    },
    "tags": []
   },
   "source": [
    "month and day of week are ordinal everything else is nominal. Ordinal variables must be labelled in order, nominal variables can be labelled randomly. "
   ]
  },
  {
   "cell_type": "code",
   "execution_count": 53,
   "metadata": {
    "execution": {
     "iopub.execute_input": "2020-11-27T17:45:39.908010Z",
     "iopub.status.busy": "2020-11-27T17:45:39.907178Z",
     "iopub.status.idle": "2020-11-27T17:45:39.914035Z",
     "shell.execute_reply": "2020-11-27T17:45:39.913338Z"
    },
    "papermill": {
     "duration": 0.171822,
     "end_time": "2020-11-27T17:45:39.914172",
     "exception": false,
     "start_time": "2020-11-27T17:45:39.742350",
     "status": "completed"
    },
    "tags": []
   },
   "outputs": [
    {
     "data": {
      "text/plain": [
       "11"
      ]
     },
     "execution_count": 53,
     "metadata": {},
     "output_type": "execute_result"
    }
   ],
   "source": [
    "df_cat['job'].nunique()"
   ]
  },
  {
   "cell_type": "markdown",
   "metadata": {
    "papermill": {
     "duration": 0.158111,
     "end_time": "2020-11-27T17:45:40.233794",
     "exception": false,
     "start_time": "2020-11-27T17:45:40.075683",
     "status": "completed"
    },
    "tags": []
   },
   "source": [
    "# Labelling nominal variables"
   ]
  },
  {
   "cell_type": "code",
   "execution_count": 54,
   "metadata": {
    "execution": {
     "iopub.execute_input": "2020-11-27T17:45:40.554465Z",
     "iopub.status.busy": "2020-11-27T17:45:40.553658Z",
     "iopub.status.idle": "2020-11-27T17:45:40.634386Z",
     "shell.execute_reply": "2020-11-27T17:45:40.633613Z"
    },
    "papermill": {
     "duration": 0.242876,
     "end_time": "2020-11-27T17:45:40.634511",
     "exception": false,
     "start_time": "2020-11-27T17:45:40.391635",
     "status": "completed"
    },
    "tags": []
   },
   "outputs": [],
   "source": [
    "#importing encoder\n",
    "from sklearn.preprocessing import LabelEncoder"
   ]
  },
  {
   "cell_type": "code",
   "execution_count": 55,
   "metadata": {
    "execution": {
     "iopub.execute_input": "2020-11-27T17:45:40.994607Z",
     "iopub.status.busy": "2020-11-27T17:45:40.977748Z",
     "iopub.status.idle": "2020-11-27T17:45:41.018613Z",
     "shell.execute_reply": "2020-11-27T17:45:41.019530Z"
    },
    "papermill": {
     "duration": 0.22692,
     "end_time": "2020-11-27T17:45:41.019809",
     "exception": false,
     "start_time": "2020-11-27T17:45:40.792889",
     "status": "completed"
    },
    "tags": []
   },
   "outputs": [
    {
     "name": "stderr",
     "output_type": "stream",
     "text": [
      "/opt/conda/lib/python3.7/site-packages/ipykernel_launcher.py:3: SettingWithCopyWarning: \n",
      "A value is trying to be set on a copy of a slice from a DataFrame.\n",
      "Try using .loc[row_indexer,col_indexer] = value instead\n",
      "\n",
      "See the caveats in the documentation: https://pandas.pydata.org/pandas-docs/stable/user_guide/indexing.html#returning-a-view-versus-a-copy\n",
      "  This is separate from the ipykernel package so we can avoid doing imports until\n",
      "/opt/conda/lib/python3.7/site-packages/ipykernel_launcher.py:4: SettingWithCopyWarning: \n",
      "A value is trying to be set on a copy of a slice from a DataFrame.\n",
      "Try using .loc[row_indexer,col_indexer] = value instead\n",
      "\n",
      "See the caveats in the documentation: https://pandas.pydata.org/pandas-docs/stable/user_guide/indexing.html#returning-a-view-versus-a-copy\n",
      "  after removing the cwd from sys.path.\n",
      "/opt/conda/lib/python3.7/site-packages/ipykernel_launcher.py:5: SettingWithCopyWarning: \n",
      "A value is trying to be set on a copy of a slice from a DataFrame.\n",
      "Try using .loc[row_indexer,col_indexer] = value instead\n",
      "\n",
      "See the caveats in the documentation: https://pandas.pydata.org/pandas-docs/stable/user_guide/indexing.html#returning-a-view-versus-a-copy\n",
      "  \"\"\"\n"
     ]
    }
   ],
   "source": [
    "jle = LabelEncoder()\n",
    "#creating new columns with labels\n",
    "df_cat['jobLabel']=jle.fit_transform(df_cat['job'])\n",
    "df_cat['educationLabel']=jle.fit_transform(df_cat['education'])\n",
    "df_cat['poutcomeLabel']=jle.fit_transform(df_cat['poutcome'])"
   ]
  },
  {
   "cell_type": "code",
   "execution_count": 56,
   "metadata": {
    "execution": {
     "iopub.execute_input": "2020-11-27T17:45:41.361210Z",
     "iopub.status.busy": "2020-11-27T17:45:41.360428Z",
     "iopub.status.idle": "2020-11-27T17:45:41.367677Z",
     "shell.execute_reply": "2020-11-27T17:45:41.366980Z"
    },
    "papermill": {
     "duration": 0.188073,
     "end_time": "2020-11-27T17:45:41.367863",
     "exception": false,
     "start_time": "2020-11-27T17:45:41.179790",
     "status": "completed"
    },
    "tags": []
   },
   "outputs": [
    {
     "data": {
      "text/html": [
       "<div>\n",
       "<style scoped>\n",
       "    .dataframe tbody tr th:only-of-type {\n",
       "        vertical-align: middle;\n",
       "    }\n",
       "\n",
       "    .dataframe tbody tr th {\n",
       "        vertical-align: top;\n",
       "    }\n",
       "\n",
       "    .dataframe thead th {\n",
       "        text-align: right;\n",
       "    }\n",
       "</style>\n",
       "<table border=\"1\" class=\"dataframe\">\n",
       "  <thead>\n",
       "    <tr style=\"text-align: right;\">\n",
       "      <th></th>\n",
       "      <th>job</th>\n",
       "      <th>marital</th>\n",
       "      <th>education</th>\n",
       "      <th>default</th>\n",
       "      <th>housing</th>\n",
       "      <th>loan</th>\n",
       "      <th>contact</th>\n",
       "      <th>month</th>\n",
       "      <th>day_of_week</th>\n",
       "      <th>poutcome</th>\n",
       "      <th>y</th>\n",
       "      <th>jobLabel</th>\n",
       "      <th>educationLabel</th>\n",
       "      <th>poutcomeLabel</th>\n",
       "    </tr>\n",
       "  </thead>\n",
       "  <tbody>\n",
       "    <tr>\n",
       "      <th>0</th>\n",
       "      <td>housemaid</td>\n",
       "      <td>married</td>\n",
       "      <td>basic.4y</td>\n",
       "      <td>no</td>\n",
       "      <td>no</td>\n",
       "      <td>no</td>\n",
       "      <td>telephone</td>\n",
       "      <td>may</td>\n",
       "      <td>mon</td>\n",
       "      <td>nonexistent</td>\n",
       "      <td>no</td>\n",
       "      <td>3</td>\n",
       "      <td>0</td>\n",
       "      <td>1</td>\n",
       "    </tr>\n",
       "    <tr>\n",
       "      <th>1</th>\n",
       "      <td>services</td>\n",
       "      <td>married</td>\n",
       "      <td>high.school</td>\n",
       "      <td>no</td>\n",
       "      <td>no</td>\n",
       "      <td>no</td>\n",
       "      <td>telephone</td>\n",
       "      <td>may</td>\n",
       "      <td>mon</td>\n",
       "      <td>nonexistent</td>\n",
       "      <td>no</td>\n",
       "      <td>7</td>\n",
       "      <td>3</td>\n",
       "      <td>1</td>\n",
       "    </tr>\n",
       "    <tr>\n",
       "      <th>2</th>\n",
       "      <td>services</td>\n",
       "      <td>married</td>\n",
       "      <td>high.school</td>\n",
       "      <td>no</td>\n",
       "      <td>yes</td>\n",
       "      <td>no</td>\n",
       "      <td>telephone</td>\n",
       "      <td>may</td>\n",
       "      <td>mon</td>\n",
       "      <td>nonexistent</td>\n",
       "      <td>no</td>\n",
       "      <td>7</td>\n",
       "      <td>3</td>\n",
       "      <td>1</td>\n",
       "    </tr>\n",
       "    <tr>\n",
       "      <th>3</th>\n",
       "      <td>admin.</td>\n",
       "      <td>married</td>\n",
       "      <td>basic.6y</td>\n",
       "      <td>no</td>\n",
       "      <td>no</td>\n",
       "      <td>no</td>\n",
       "      <td>telephone</td>\n",
       "      <td>may</td>\n",
       "      <td>mon</td>\n",
       "      <td>nonexistent</td>\n",
       "      <td>no</td>\n",
       "      <td>0</td>\n",
       "      <td>1</td>\n",
       "      <td>1</td>\n",
       "    </tr>\n",
       "    <tr>\n",
       "      <th>4</th>\n",
       "      <td>services</td>\n",
       "      <td>married</td>\n",
       "      <td>high.school</td>\n",
       "      <td>no</td>\n",
       "      <td>no</td>\n",
       "      <td>yes</td>\n",
       "      <td>telephone</td>\n",
       "      <td>may</td>\n",
       "      <td>mon</td>\n",
       "      <td>nonexistent</td>\n",
       "      <td>no</td>\n",
       "      <td>7</td>\n",
       "      <td>3</td>\n",
       "      <td>1</td>\n",
       "    </tr>\n",
       "  </tbody>\n",
       "</table>\n",
       "</div>"
      ],
      "text/plain": [
       "         job  marital    education default housing loan    contact month  \\\n",
       "0  housemaid  married     basic.4y      no      no   no  telephone   may   \n",
       "1   services  married  high.school      no      no   no  telephone   may   \n",
       "2   services  married  high.school      no     yes   no  telephone   may   \n",
       "3     admin.  married     basic.6y      no      no   no  telephone   may   \n",
       "4   services  married  high.school      no      no  yes  telephone   may   \n",
       "\n",
       "  day_of_week     poutcome   y  jobLabel  educationLabel  poutcomeLabel  \n",
       "0         mon  nonexistent  no         3               0              1  \n",
       "1         mon  nonexistent  no         7               3              1  \n",
       "2         mon  nonexistent  no         7               3              1  \n",
       "3         mon  nonexistent  no         0               1              1  \n",
       "4         mon  nonexistent  no         7               3              1  "
      ]
     },
     "execution_count": 56,
     "metadata": {},
     "output_type": "execute_result"
    }
   ],
   "source": [
    "df_cat.head()"
   ]
  },
  {
   "cell_type": "markdown",
   "metadata": {
    "papermill": {
     "duration": 0.160696,
     "end_time": "2020-11-27T17:45:41.690469",
     "exception": false,
     "start_time": "2020-11-27T17:45:41.529773",
     "status": "completed"
    },
    "tags": []
   },
   "source": [
    "# Labelling binary ('yes','no') variables"
   ]
  },
  {
   "cell_type": "code",
   "execution_count": 57,
   "metadata": {
    "execution": {
     "iopub.execute_input": "2020-11-27T17:45:42.038195Z",
     "iopub.status.busy": "2020-11-27T17:45:42.029945Z",
     "iopub.status.idle": "2020-11-27T17:45:42.062193Z",
     "shell.execute_reply": "2020-11-27T17:45:42.060563Z"
    },
    "papermill": {
     "duration": 0.210347,
     "end_time": "2020-11-27T17:45:42.062408",
     "exception": false,
     "start_time": "2020-11-27T17:45:41.852061",
     "status": "completed"
    },
    "tags": []
   },
   "outputs": [
    {
     "name": "stderr",
     "output_type": "stream",
     "text": [
      "/opt/conda/lib/python3.7/site-packages/ipykernel_launcher.py:5: SettingWithCopyWarning: \n",
      "A value is trying to be set on a copy of a slice from a DataFrame.\n",
      "Try using .loc[row_indexer,col_indexer] = value instead\n",
      "\n",
      "See the caveats in the documentation: https://pandas.pydata.org/pandas-docs/stable/user_guide/indexing.html#returning-a-view-versus-a-copy\n",
      "  \"\"\"\n",
      "/opt/conda/lib/python3.7/site-packages/ipykernel_launcher.py:6: SettingWithCopyWarning: \n",
      "A value is trying to be set on a copy of a slice from a DataFrame.\n",
      "Try using .loc[row_indexer,col_indexer] = value instead\n",
      "\n",
      "See the caveats in the documentation: https://pandas.pydata.org/pandas-docs/stable/user_guide/indexing.html#returning-a-view-versus-a-copy\n",
      "  \n",
      "/opt/conda/lib/python3.7/site-packages/ipykernel_launcher.py:7: SettingWithCopyWarning: \n",
      "A value is trying to be set on a copy of a slice from a DataFrame.\n",
      "Try using .loc[row_indexer,col_indexer] = value instead\n",
      "\n",
      "See the caveats in the documentation: https://pandas.pydata.org/pandas-docs/stable/user_guide/indexing.html#returning-a-view-versus-a-copy\n",
      "  import sys\n",
      "/opt/conda/lib/python3.7/site-packages/ipykernel_launcher.py:8: SettingWithCopyWarning: \n",
      "A value is trying to be set on a copy of a slice from a DataFrame.\n",
      "Try using .loc[row_indexer,col_indexer] = value instead\n",
      "\n",
      "See the caveats in the documentation: https://pandas.pydata.org/pandas-docs/stable/user_guide/indexing.html#returning-a-view-versus-a-copy\n",
      "  \n"
     ]
    }
   ],
   "source": [
    "#creating binary map\n",
    "bin_map = {'yes': 1, 'no': 0}\n",
    "\n",
    "#creating new labelled columns\n",
    "df_cat['defaultLabel']=df_cat['default'].map(bin_map)\n",
    "df_cat['housingLabel']=df_cat['housing'].map(bin_map)\n",
    "df_cat['loanLabel']=df_cat['loan'].map(bin_map)\n",
    "df_cat['yLabel']=df_cat['y'].map(bin_map)"
   ]
  },
  {
   "cell_type": "code",
   "execution_count": 58,
   "metadata": {
    "execution": {
     "iopub.execute_input": "2020-11-27T17:45:42.410042Z",
     "iopub.status.busy": "2020-11-27T17:45:42.408987Z",
     "iopub.status.idle": "2020-11-27T17:45:42.413654Z",
     "shell.execute_reply": "2020-11-27T17:45:42.414186Z"
    },
    "papermill": {
     "duration": 0.191256,
     "end_time": "2020-11-27T17:45:42.414357",
     "exception": false,
     "start_time": "2020-11-27T17:45:42.223101",
     "status": "completed"
    },
    "tags": []
   },
   "outputs": [
    {
     "data": {
      "text/html": [
       "<div>\n",
       "<style scoped>\n",
       "    .dataframe tbody tr th:only-of-type {\n",
       "        vertical-align: middle;\n",
       "    }\n",
       "\n",
       "    .dataframe tbody tr th {\n",
       "        vertical-align: top;\n",
       "    }\n",
       "\n",
       "    .dataframe thead th {\n",
       "        text-align: right;\n",
       "    }\n",
       "</style>\n",
       "<table border=\"1\" class=\"dataframe\">\n",
       "  <thead>\n",
       "    <tr style=\"text-align: right;\">\n",
       "      <th></th>\n",
       "      <th>job</th>\n",
       "      <th>marital</th>\n",
       "      <th>education</th>\n",
       "      <th>default</th>\n",
       "      <th>housing</th>\n",
       "      <th>loan</th>\n",
       "      <th>contact</th>\n",
       "      <th>month</th>\n",
       "      <th>day_of_week</th>\n",
       "      <th>poutcome</th>\n",
       "      <th>y</th>\n",
       "      <th>jobLabel</th>\n",
       "      <th>educationLabel</th>\n",
       "      <th>poutcomeLabel</th>\n",
       "      <th>defaultLabel</th>\n",
       "      <th>housingLabel</th>\n",
       "      <th>loanLabel</th>\n",
       "      <th>yLabel</th>\n",
       "    </tr>\n",
       "  </thead>\n",
       "  <tbody>\n",
       "    <tr>\n",
       "      <th>0</th>\n",
       "      <td>housemaid</td>\n",
       "      <td>married</td>\n",
       "      <td>basic.4y</td>\n",
       "      <td>no</td>\n",
       "      <td>no</td>\n",
       "      <td>no</td>\n",
       "      <td>telephone</td>\n",
       "      <td>may</td>\n",
       "      <td>mon</td>\n",
       "      <td>nonexistent</td>\n",
       "      <td>no</td>\n",
       "      <td>3</td>\n",
       "      <td>0</td>\n",
       "      <td>1</td>\n",
       "      <td>0</td>\n",
       "      <td>0</td>\n",
       "      <td>0</td>\n",
       "      <td>0</td>\n",
       "    </tr>\n",
       "    <tr>\n",
       "      <th>1</th>\n",
       "      <td>services</td>\n",
       "      <td>married</td>\n",
       "      <td>high.school</td>\n",
       "      <td>no</td>\n",
       "      <td>no</td>\n",
       "      <td>no</td>\n",
       "      <td>telephone</td>\n",
       "      <td>may</td>\n",
       "      <td>mon</td>\n",
       "      <td>nonexistent</td>\n",
       "      <td>no</td>\n",
       "      <td>7</td>\n",
       "      <td>3</td>\n",
       "      <td>1</td>\n",
       "      <td>0</td>\n",
       "      <td>0</td>\n",
       "      <td>0</td>\n",
       "      <td>0</td>\n",
       "    </tr>\n",
       "    <tr>\n",
       "      <th>2</th>\n",
       "      <td>services</td>\n",
       "      <td>married</td>\n",
       "      <td>high.school</td>\n",
       "      <td>no</td>\n",
       "      <td>yes</td>\n",
       "      <td>no</td>\n",
       "      <td>telephone</td>\n",
       "      <td>may</td>\n",
       "      <td>mon</td>\n",
       "      <td>nonexistent</td>\n",
       "      <td>no</td>\n",
       "      <td>7</td>\n",
       "      <td>3</td>\n",
       "      <td>1</td>\n",
       "      <td>0</td>\n",
       "      <td>1</td>\n",
       "      <td>0</td>\n",
       "      <td>0</td>\n",
       "    </tr>\n",
       "    <tr>\n",
       "      <th>3</th>\n",
       "      <td>admin.</td>\n",
       "      <td>married</td>\n",
       "      <td>basic.6y</td>\n",
       "      <td>no</td>\n",
       "      <td>no</td>\n",
       "      <td>no</td>\n",
       "      <td>telephone</td>\n",
       "      <td>may</td>\n",
       "      <td>mon</td>\n",
       "      <td>nonexistent</td>\n",
       "      <td>no</td>\n",
       "      <td>0</td>\n",
       "      <td>1</td>\n",
       "      <td>1</td>\n",
       "      <td>0</td>\n",
       "      <td>0</td>\n",
       "      <td>0</td>\n",
       "      <td>0</td>\n",
       "    </tr>\n",
       "    <tr>\n",
       "      <th>4</th>\n",
       "      <td>services</td>\n",
       "      <td>married</td>\n",
       "      <td>high.school</td>\n",
       "      <td>no</td>\n",
       "      <td>no</td>\n",
       "      <td>yes</td>\n",
       "      <td>telephone</td>\n",
       "      <td>may</td>\n",
       "      <td>mon</td>\n",
       "      <td>nonexistent</td>\n",
       "      <td>no</td>\n",
       "      <td>7</td>\n",
       "      <td>3</td>\n",
       "      <td>1</td>\n",
       "      <td>0</td>\n",
       "      <td>0</td>\n",
       "      <td>1</td>\n",
       "      <td>0</td>\n",
       "    </tr>\n",
       "  </tbody>\n",
       "</table>\n",
       "</div>"
      ],
      "text/plain": [
       "         job  marital    education default housing loan    contact month  \\\n",
       "0  housemaid  married     basic.4y      no      no   no  telephone   may   \n",
       "1   services  married  high.school      no      no   no  telephone   may   \n",
       "2   services  married  high.school      no     yes   no  telephone   may   \n",
       "3     admin.  married     basic.6y      no      no   no  telephone   may   \n",
       "4   services  married  high.school      no      no  yes  telephone   may   \n",
       "\n",
       "  day_of_week     poutcome   y  jobLabel  educationLabel  poutcomeLabel  \\\n",
       "0         mon  nonexistent  no         3               0              1   \n",
       "1         mon  nonexistent  no         7               3              1   \n",
       "2         mon  nonexistent  no         7               3              1   \n",
       "3         mon  nonexistent  no         0               1              1   \n",
       "4         mon  nonexistent  no         7               3              1   \n",
       "\n",
       "   defaultLabel  housingLabel  loanLabel  yLabel  \n",
       "0             0             0          0       0  \n",
       "1             0             0          0       0  \n",
       "2             0             1          0       0  \n",
       "3             0             0          0       0  \n",
       "4             0             0          1       0  "
      ]
     },
     "execution_count": 58,
     "metadata": {},
     "output_type": "execute_result"
    }
   ],
   "source": [
    "df_cat.head()"
   ]
  },
  {
   "cell_type": "code",
   "execution_count": 59,
   "metadata": {
    "execution": {
     "iopub.execute_input": "2020-11-27T17:45:42.745755Z",
     "iopub.status.busy": "2020-11-27T17:45:42.744911Z",
     "iopub.status.idle": "2020-11-27T17:45:42.768265Z",
     "shell.execute_reply": "2020-11-27T17:45:42.767521Z"
    },
    "papermill": {
     "duration": 0.192209,
     "end_time": "2020-11-27T17:45:42.768388",
     "exception": false,
     "start_time": "2020-11-27T17:45:42.576179",
     "status": "completed"
    },
    "tags": []
   },
   "outputs": [
    {
     "data": {
      "text/html": [
       "<div>\n",
       "<style scoped>\n",
       "    .dataframe tbody tr th:only-of-type {\n",
       "        vertical-align: middle;\n",
       "    }\n",
       "\n",
       "    .dataframe tbody tr th {\n",
       "        vertical-align: top;\n",
       "    }\n",
       "\n",
       "    .dataframe thead th {\n",
       "        text-align: right;\n",
       "    }\n",
       "</style>\n",
       "<table border=\"1\" class=\"dataframe\">\n",
       "  <thead>\n",
       "    <tr style=\"text-align: right;\">\n",
       "      <th></th>\n",
       "      <th>housingLabel</th>\n",
       "      <th>loanLabel</th>\n",
       "      <th>defaultLabel</th>\n",
       "      <th>yLabel</th>\n",
       "    </tr>\n",
       "  </thead>\n",
       "  <tbody>\n",
       "    <tr>\n",
       "      <th>housingLabel</th>\n",
       "      <td>1.000000</td>\n",
       "      <td>0.036425</td>\n",
       "      <td>-0.003679</td>\n",
       "      <td>0.011085</td>\n",
       "    </tr>\n",
       "    <tr>\n",
       "      <th>loanLabel</th>\n",
       "      <td>0.036425</td>\n",
       "      <td>1.000000</td>\n",
       "      <td>-0.003609</td>\n",
       "      <td>-0.004466</td>\n",
       "    </tr>\n",
       "    <tr>\n",
       "      <th>defaultLabel</th>\n",
       "      <td>-0.003679</td>\n",
       "      <td>-0.003609</td>\n",
       "      <td>1.000000</td>\n",
       "      <td>-0.003041</td>\n",
       "    </tr>\n",
       "    <tr>\n",
       "      <th>yLabel</th>\n",
       "      <td>0.011085</td>\n",
       "      <td>-0.004466</td>\n",
       "      <td>-0.003041</td>\n",
       "      <td>1.000000</td>\n",
       "    </tr>\n",
       "  </tbody>\n",
       "</table>\n",
       "</div>"
      ],
      "text/plain": [
       "              housingLabel  loanLabel  defaultLabel    yLabel\n",
       "housingLabel      1.000000   0.036425     -0.003679  0.011085\n",
       "loanLabel         0.036425   1.000000     -0.003609 -0.004466\n",
       "defaultLabel     -0.003679  -0.003609      1.000000 -0.003041\n",
       "yLabel            0.011085  -0.004466     -0.003041  1.000000"
      ]
     },
     "execution_count": 59,
     "metadata": {},
     "output_type": "execute_result"
    }
   ],
   "source": [
    "#checking correlation of binary labels to see which is most correlated with output\n",
    "df_cat[['housingLabel','loanLabel','defaultLabel','yLabel']].corr()"
   ]
  },
  {
   "cell_type": "markdown",
   "metadata": {
    "papermill": {
     "duration": 0.162338,
     "end_time": "2020-11-27T17:45:43.091888",
     "exception": false,
     "start_time": "2020-11-27T17:45:42.929550",
     "status": "completed"
    },
    "tags": []
   },
   "source": [
    "None are correlated with y, housing is most correlated"
   ]
  },
  {
   "cell_type": "markdown",
   "metadata": {
    "papermill": {
     "duration": 0.162706,
     "end_time": "2020-11-27T17:45:43.416562",
     "exception": false,
     "start_time": "2020-11-27T17:45:43.253856",
     "status": "completed"
    },
    "tags": []
   },
   "source": [
    "# Labelling ordinal features"
   ]
  },
  {
   "cell_type": "code",
   "execution_count": 60,
   "metadata": {
    "execution": {
     "iopub.execute_input": "2020-11-27T17:45:43.747883Z",
     "iopub.status.busy": "2020-11-27T17:45:43.746744Z",
     "iopub.status.idle": "2020-11-27T17:45:43.753063Z",
     "shell.execute_reply": "2020-11-27T17:45:43.752323Z"
    },
    "papermill": {
     "duration": 0.175968,
     "end_time": "2020-11-27T17:45:43.753193",
     "exception": false,
     "start_time": "2020-11-27T17:45:43.577225",
     "status": "completed"
    },
    "tags": []
   },
   "outputs": [
    {
     "data": {
      "text/plain": [
       "array(['may', 'jun', 'jul', 'aug', 'oct', 'nov', 'dec', 'mar', 'apr',\n",
       "       'sep'], dtype=object)"
      ]
     },
     "execution_count": 60,
     "metadata": {},
     "output_type": "execute_result"
    }
   ],
   "source": [
    "df_cat['month'].unique()"
   ]
  },
  {
   "cell_type": "code",
   "execution_count": 61,
   "metadata": {
    "execution": {
     "iopub.execute_input": "2020-11-27T17:45:44.089788Z",
     "iopub.status.busy": "2020-11-27T17:45:44.088884Z",
     "iopub.status.idle": "2020-11-27T17:45:44.092106Z",
     "shell.execute_reply": "2020-11-27T17:45:44.091492Z"
    },
    "papermill": {
     "duration": 0.17246,
     "end_time": "2020-11-27T17:45:44.092244",
     "exception": false,
     "start_time": "2020-11-27T17:45:43.919784",
     "status": "completed"
    },
    "tags": []
   },
   "outputs": [],
   "source": [
    "month_map = {'mar': 3,\n",
    "            'apr':4,\n",
    "            'may':5,\n",
    "            'jun':6,\n",
    "            'jul':7,\n",
    "            'aug':8,\n",
    "            'sep':9,\n",
    "            'oct':10,\n",
    "            'nov':11,\n",
    "            'dec':12}"
   ]
  },
  {
   "cell_type": "code",
   "execution_count": 62,
   "metadata": {
    "execution": {
     "iopub.execute_input": "2020-11-27T17:45:44.428564Z",
     "iopub.status.busy": "2020-11-27T17:45:44.427694Z",
     "iopub.status.idle": "2020-11-27T17:45:44.436625Z",
     "shell.execute_reply": "2020-11-27T17:45:44.435700Z"
    },
    "papermill": {
     "duration": 0.183137,
     "end_time": "2020-11-27T17:45:44.436784",
     "exception": false,
     "start_time": "2020-11-27T17:45:44.253647",
     "status": "completed"
    },
    "tags": []
   },
   "outputs": [
    {
     "name": "stderr",
     "output_type": "stream",
     "text": [
      "/opt/conda/lib/python3.7/site-packages/ipykernel_launcher.py:1: SettingWithCopyWarning: \n",
      "A value is trying to be set on a copy of a slice from a DataFrame.\n",
      "Try using .loc[row_indexer,col_indexer] = value instead\n",
      "\n",
      "See the caveats in the documentation: https://pandas.pydata.org/pandas-docs/stable/user_guide/indexing.html#returning-a-view-versus-a-copy\n",
      "  \"\"\"Entry point for launching an IPython kernel.\n"
     ]
    }
   ],
   "source": [
    "df_cat['month'] = df['month'].map(month_map)"
   ]
  },
  {
   "cell_type": "code",
   "execution_count": 63,
   "metadata": {
    "execution": {
     "iopub.execute_input": "2020-11-27T17:45:44.771502Z",
     "iopub.status.busy": "2020-11-27T17:45:44.770462Z",
     "iopub.status.idle": "2020-11-27T17:45:44.776772Z",
     "shell.execute_reply": "2020-11-27T17:45:44.776138Z"
    },
    "papermill": {
     "duration": 0.17783,
     "end_time": "2020-11-27T17:45:44.776913",
     "exception": false,
     "start_time": "2020-11-27T17:45:44.599083",
     "status": "completed"
    },
    "tags": []
   },
   "outputs": [
    {
     "data": {
      "text/plain": [
       "array(['mon', 'tue', 'wed', 'thu', 'fri'], dtype=object)"
      ]
     },
     "execution_count": 63,
     "metadata": {},
     "output_type": "execute_result"
    }
   ],
   "source": [
    "df_cat['day_of_week'].unique()"
   ]
  },
  {
   "cell_type": "code",
   "execution_count": 64,
   "metadata": {
    "execution": {
     "iopub.execute_input": "2020-11-27T17:45:45.112860Z",
     "iopub.status.busy": "2020-11-27T17:45:45.111758Z",
     "iopub.status.idle": "2020-11-27T17:45:45.115110Z",
     "shell.execute_reply": "2020-11-27T17:45:45.114452Z"
    },
    "papermill": {
     "duration": 0.174164,
     "end_time": "2020-11-27T17:45:45.115239",
     "exception": false,
     "start_time": "2020-11-27T17:45:44.941075",
     "status": "completed"
    },
    "tags": []
   },
   "outputs": [],
   "source": [
    "day_map = {'mon':1,\n",
    "          'tue':2,\n",
    "          'wed':3,\n",
    "          'thu':4,\n",
    "          'fri':5}"
   ]
  },
  {
   "cell_type": "code",
   "execution_count": 65,
   "metadata": {
    "execution": {
     "iopub.execute_input": "2020-11-27T17:45:45.502558Z",
     "iopub.status.busy": "2020-11-27T17:45:45.501506Z",
     "iopub.status.idle": "2020-11-27T17:45:45.508222Z",
     "shell.execute_reply": "2020-11-27T17:45:45.507605Z"
    },
    "papermill": {
     "duration": 0.182948,
     "end_time": "2020-11-27T17:45:45.508349",
     "exception": false,
     "start_time": "2020-11-27T17:45:45.325401",
     "status": "completed"
    },
    "tags": []
   },
   "outputs": [
    {
     "name": "stderr",
     "output_type": "stream",
     "text": [
      "/opt/conda/lib/python3.7/site-packages/ipykernel_launcher.py:1: SettingWithCopyWarning: \n",
      "A value is trying to be set on a copy of a slice from a DataFrame.\n",
      "Try using .loc[row_indexer,col_indexer] = value instead\n",
      "\n",
      "See the caveats in the documentation: https://pandas.pydata.org/pandas-docs/stable/user_guide/indexing.html#returning-a-view-versus-a-copy\n",
      "  \"\"\"Entry point for launching an IPython kernel.\n"
     ]
    }
   ],
   "source": [
    "df_cat['dayLabel'] = df_cat['day_of_week'].map(day_map)"
   ]
  },
  {
   "cell_type": "code",
   "execution_count": 66,
   "metadata": {
    "execution": {
     "iopub.execute_input": "2020-11-27T17:45:45.867684Z",
     "iopub.status.busy": "2020-11-27T17:45:45.866516Z",
     "iopub.status.idle": "2020-11-27T17:45:45.871899Z",
     "shell.execute_reply": "2020-11-27T17:45:45.871214Z"
    },
    "papermill": {
     "duration": 0.19722,
     "end_time": "2020-11-27T17:45:45.872030",
     "exception": false,
     "start_time": "2020-11-27T17:45:45.674810",
     "status": "completed"
    },
    "tags": []
   },
   "outputs": [
    {
     "data": {
      "text/html": [
       "<div>\n",
       "<style scoped>\n",
       "    .dataframe tbody tr th:only-of-type {\n",
       "        vertical-align: middle;\n",
       "    }\n",
       "\n",
       "    .dataframe tbody tr th {\n",
       "        vertical-align: top;\n",
       "    }\n",
       "\n",
       "    .dataframe thead th {\n",
       "        text-align: right;\n",
       "    }\n",
       "</style>\n",
       "<table border=\"1\" class=\"dataframe\">\n",
       "  <thead>\n",
       "    <tr style=\"text-align: right;\">\n",
       "      <th></th>\n",
       "      <th>job</th>\n",
       "      <th>marital</th>\n",
       "      <th>education</th>\n",
       "      <th>default</th>\n",
       "      <th>housing</th>\n",
       "      <th>loan</th>\n",
       "      <th>contact</th>\n",
       "      <th>month</th>\n",
       "      <th>day_of_week</th>\n",
       "      <th>poutcome</th>\n",
       "      <th>y</th>\n",
       "      <th>jobLabel</th>\n",
       "      <th>educationLabel</th>\n",
       "      <th>poutcomeLabel</th>\n",
       "      <th>defaultLabel</th>\n",
       "      <th>housingLabel</th>\n",
       "      <th>loanLabel</th>\n",
       "      <th>yLabel</th>\n",
       "      <th>dayLabel</th>\n",
       "    </tr>\n",
       "  </thead>\n",
       "  <tbody>\n",
       "    <tr>\n",
       "      <th>0</th>\n",
       "      <td>housemaid</td>\n",
       "      <td>married</td>\n",
       "      <td>basic.4y</td>\n",
       "      <td>no</td>\n",
       "      <td>no</td>\n",
       "      <td>no</td>\n",
       "      <td>telephone</td>\n",
       "      <td>5</td>\n",
       "      <td>mon</td>\n",
       "      <td>nonexistent</td>\n",
       "      <td>no</td>\n",
       "      <td>3</td>\n",
       "      <td>0</td>\n",
       "      <td>1</td>\n",
       "      <td>0</td>\n",
       "      <td>0</td>\n",
       "      <td>0</td>\n",
       "      <td>0</td>\n",
       "      <td>1</td>\n",
       "    </tr>\n",
       "    <tr>\n",
       "      <th>1</th>\n",
       "      <td>services</td>\n",
       "      <td>married</td>\n",
       "      <td>high.school</td>\n",
       "      <td>no</td>\n",
       "      <td>no</td>\n",
       "      <td>no</td>\n",
       "      <td>telephone</td>\n",
       "      <td>5</td>\n",
       "      <td>mon</td>\n",
       "      <td>nonexistent</td>\n",
       "      <td>no</td>\n",
       "      <td>7</td>\n",
       "      <td>3</td>\n",
       "      <td>1</td>\n",
       "      <td>0</td>\n",
       "      <td>0</td>\n",
       "      <td>0</td>\n",
       "      <td>0</td>\n",
       "      <td>1</td>\n",
       "    </tr>\n",
       "    <tr>\n",
       "      <th>2</th>\n",
       "      <td>services</td>\n",
       "      <td>married</td>\n",
       "      <td>high.school</td>\n",
       "      <td>no</td>\n",
       "      <td>yes</td>\n",
       "      <td>no</td>\n",
       "      <td>telephone</td>\n",
       "      <td>5</td>\n",
       "      <td>mon</td>\n",
       "      <td>nonexistent</td>\n",
       "      <td>no</td>\n",
       "      <td>7</td>\n",
       "      <td>3</td>\n",
       "      <td>1</td>\n",
       "      <td>0</td>\n",
       "      <td>1</td>\n",
       "      <td>0</td>\n",
       "      <td>0</td>\n",
       "      <td>1</td>\n",
       "    </tr>\n",
       "    <tr>\n",
       "      <th>3</th>\n",
       "      <td>admin.</td>\n",
       "      <td>married</td>\n",
       "      <td>basic.6y</td>\n",
       "      <td>no</td>\n",
       "      <td>no</td>\n",
       "      <td>no</td>\n",
       "      <td>telephone</td>\n",
       "      <td>5</td>\n",
       "      <td>mon</td>\n",
       "      <td>nonexistent</td>\n",
       "      <td>no</td>\n",
       "      <td>0</td>\n",
       "      <td>1</td>\n",
       "      <td>1</td>\n",
       "      <td>0</td>\n",
       "      <td>0</td>\n",
       "      <td>0</td>\n",
       "      <td>0</td>\n",
       "      <td>1</td>\n",
       "    </tr>\n",
       "    <tr>\n",
       "      <th>4</th>\n",
       "      <td>services</td>\n",
       "      <td>married</td>\n",
       "      <td>high.school</td>\n",
       "      <td>no</td>\n",
       "      <td>no</td>\n",
       "      <td>yes</td>\n",
       "      <td>telephone</td>\n",
       "      <td>5</td>\n",
       "      <td>mon</td>\n",
       "      <td>nonexistent</td>\n",
       "      <td>no</td>\n",
       "      <td>7</td>\n",
       "      <td>3</td>\n",
       "      <td>1</td>\n",
       "      <td>0</td>\n",
       "      <td>0</td>\n",
       "      <td>1</td>\n",
       "      <td>0</td>\n",
       "      <td>1</td>\n",
       "    </tr>\n",
       "  </tbody>\n",
       "</table>\n",
       "</div>"
      ],
      "text/plain": [
       "         job  marital    education default housing loan    contact  month  \\\n",
       "0  housemaid  married     basic.4y      no      no   no  telephone      5   \n",
       "1   services  married  high.school      no      no   no  telephone      5   \n",
       "2   services  married  high.school      no     yes   no  telephone      5   \n",
       "3     admin.  married     basic.6y      no      no   no  telephone      5   \n",
       "4   services  married  high.school      no      no  yes  telephone      5   \n",
       "\n",
       "  day_of_week     poutcome   y  jobLabel  educationLabel  poutcomeLabel  \\\n",
       "0         mon  nonexistent  no         3               0              1   \n",
       "1         mon  nonexistent  no         7               3              1   \n",
       "2         mon  nonexistent  no         7               3              1   \n",
       "3         mon  nonexistent  no         0               1              1   \n",
       "4         mon  nonexistent  no         7               3              1   \n",
       "\n",
       "   defaultLabel  housingLabel  loanLabel  yLabel  dayLabel  \n",
       "0             0             0          0       0         1  \n",
       "1             0             0          0       0         1  \n",
       "2             0             1          0       0         1  \n",
       "3             0             0          0       0         1  \n",
       "4             0             0          1       0         1  "
      ]
     },
     "execution_count": 66,
     "metadata": {},
     "output_type": "execute_result"
    }
   ],
   "source": [
    "df_cat.head()"
   ]
  },
  {
   "cell_type": "code",
   "execution_count": 67,
   "metadata": {
    "execution": {
     "iopub.execute_input": "2020-11-27T17:45:46.212615Z",
     "iopub.status.busy": "2020-11-27T17:45:46.211780Z",
     "iopub.status.idle": "2020-11-27T17:45:46.222291Z",
     "shell.execute_reply": "2020-11-27T17:45:46.221530Z"
    },
    "papermill": {
     "duration": 0.182809,
     "end_time": "2020-11-27T17:45:46.222417",
     "exception": false,
     "start_time": "2020-11-27T17:45:46.039608",
     "status": "completed"
    },
    "tags": []
   },
   "outputs": [],
   "source": [
    "#removing loan and default columns as these were the least correlated  \n",
    "df_cat_labels = df_cat[['month','jobLabel',\n",
    "       'educationLabel','poutcomeLabel',\n",
    "       'housingLabel', 'dayLabel','yLabel']]"
   ]
  },
  {
   "cell_type": "code",
   "execution_count": 68,
   "metadata": {
    "execution": {
     "iopub.execute_input": "2020-11-27T17:45:46.562204Z",
     "iopub.status.busy": "2020-11-27T17:45:46.561301Z",
     "iopub.status.idle": "2020-11-27T17:45:46.565317Z",
     "shell.execute_reply": "2020-11-27T17:45:46.565973Z"
    },
    "papermill": {
     "duration": 0.177104,
     "end_time": "2020-11-27T17:45:46.566137",
     "exception": false,
     "start_time": "2020-11-27T17:45:46.389033",
     "status": "completed"
    },
    "tags": []
   },
   "outputs": [
    {
     "data": {
      "text/plain": [
       "Index(['month', 'jobLabel', 'educationLabel', 'poutcomeLabel', 'housingLabel',\n",
       "       'dayLabel', 'yLabel'],\n",
       "      dtype='object')"
      ]
     },
     "execution_count": 68,
     "metadata": {},
     "output_type": "execute_result"
    }
   ],
   "source": [
    "df_cat_labels.columns"
   ]
  },
  {
   "cell_type": "code",
   "execution_count": 69,
   "metadata": {
    "execution": {
     "iopub.execute_input": "2020-11-27T17:45:46.907798Z",
     "iopub.status.busy": "2020-11-27T17:45:46.906794Z",
     "iopub.status.idle": "2020-11-27T17:45:46.910276Z",
     "shell.execute_reply": "2020-11-27T17:45:46.909533Z"
    },
    "papermill": {
     "duration": 0.177214,
     "end_time": "2020-11-27T17:45:46.910397",
     "exception": false,
     "start_time": "2020-11-27T17:45:46.733183",
     "status": "completed"
    },
    "tags": []
   },
   "outputs": [],
   "source": [
    "#renaming month column\n",
    "df_cat_labels.columns=['monthLabel', 'jobLabel', 'educationLabel', 'poutcomeLabel',\n",
    "       'housingLabel', 'dayLabel','yLabel']"
   ]
  },
  {
   "cell_type": "markdown",
   "metadata": {
    "papermill": {
     "duration": 0.168601,
     "end_time": "2020-11-27T17:45:47.246473",
     "exception": false,
     "start_time": "2020-11-27T17:45:47.077872",
     "status": "completed"
    },
    "tags": []
   },
   "source": [
    "# Feature Selection using Chi-Squared test"
   ]
  },
  {
   "cell_type": "code",
   "execution_count": 70,
   "metadata": {
    "execution": {
     "iopub.execute_input": "2020-11-27T17:45:47.590964Z",
     "iopub.status.busy": "2020-11-27T17:45:47.589988Z",
     "iopub.status.idle": "2020-11-27T17:45:47.593291Z",
     "shell.execute_reply": "2020-11-27T17:45:47.592692Z"
    },
    "papermill": {
     "duration": 0.180086,
     "end_time": "2020-11-27T17:45:47.593426",
     "exception": false,
     "start_time": "2020-11-27T17:45:47.413340",
     "status": "completed"
    },
    "tags": []
   },
   "outputs": [],
   "source": [
    "#numerical variables\n",
    "df_num = df.select_dtypes(['int64','float64'])"
   ]
  },
  {
   "cell_type": "code",
   "execution_count": 71,
   "metadata": {
    "execution": {
     "iopub.execute_input": "2020-11-27T17:45:47.947705Z",
     "iopub.status.busy": "2020-11-27T17:45:47.946484Z",
     "iopub.status.idle": "2020-11-27T17:45:47.951391Z",
     "shell.execute_reply": "2020-11-27T17:45:47.952009Z"
    },
    "papermill": {
     "duration": 0.189057,
     "end_time": "2020-11-27T17:45:47.952165",
     "exception": false,
     "start_time": "2020-11-27T17:45:47.763108",
     "status": "completed"
    },
    "tags": []
   },
   "outputs": [
    {
     "data": {
      "text/html": [
       "<div>\n",
       "<style scoped>\n",
       "    .dataframe tbody tr th:only-of-type {\n",
       "        vertical-align: middle;\n",
       "    }\n",
       "\n",
       "    .dataframe tbody tr th {\n",
       "        vertical-align: top;\n",
       "    }\n",
       "\n",
       "    .dataframe thead th {\n",
       "        text-align: right;\n",
       "    }\n",
       "</style>\n",
       "<table border=\"1\" class=\"dataframe\">\n",
       "  <thead>\n",
       "    <tr style=\"text-align: right;\">\n",
       "      <th></th>\n",
       "      <th>age</th>\n",
       "      <th>duration</th>\n",
       "      <th>campaign</th>\n",
       "      <th>pdays</th>\n",
       "      <th>previous</th>\n",
       "      <th>emp.var.rate</th>\n",
       "      <th>cons.price.idx</th>\n",
       "      <th>cons.conf.idx</th>\n",
       "      <th>euribor3m</th>\n",
       "      <th>nr.employed</th>\n",
       "    </tr>\n",
       "  </thead>\n",
       "  <tbody>\n",
       "    <tr>\n",
       "      <th>0</th>\n",
       "      <td>56</td>\n",
       "      <td>261</td>\n",
       "      <td>1</td>\n",
       "      <td>999</td>\n",
       "      <td>0</td>\n",
       "      <td>1.1</td>\n",
       "      <td>93.994</td>\n",
       "      <td>-36.4</td>\n",
       "      <td>4.857</td>\n",
       "      <td>5191.0</td>\n",
       "    </tr>\n",
       "    <tr>\n",
       "      <th>1</th>\n",
       "      <td>57</td>\n",
       "      <td>149</td>\n",
       "      <td>1</td>\n",
       "      <td>999</td>\n",
       "      <td>0</td>\n",
       "      <td>1.1</td>\n",
       "      <td>93.994</td>\n",
       "      <td>-36.4</td>\n",
       "      <td>4.857</td>\n",
       "      <td>5191.0</td>\n",
       "    </tr>\n",
       "    <tr>\n",
       "      <th>2</th>\n",
       "      <td>37</td>\n",
       "      <td>226</td>\n",
       "      <td>1</td>\n",
       "      <td>999</td>\n",
       "      <td>0</td>\n",
       "      <td>1.1</td>\n",
       "      <td>93.994</td>\n",
       "      <td>-36.4</td>\n",
       "      <td>4.857</td>\n",
       "      <td>5191.0</td>\n",
       "    </tr>\n",
       "    <tr>\n",
       "      <th>3</th>\n",
       "      <td>40</td>\n",
       "      <td>151</td>\n",
       "      <td>1</td>\n",
       "      <td>999</td>\n",
       "      <td>0</td>\n",
       "      <td>1.1</td>\n",
       "      <td>93.994</td>\n",
       "      <td>-36.4</td>\n",
       "      <td>4.857</td>\n",
       "      <td>5191.0</td>\n",
       "    </tr>\n",
       "    <tr>\n",
       "      <th>4</th>\n",
       "      <td>56</td>\n",
       "      <td>307</td>\n",
       "      <td>1</td>\n",
       "      <td>999</td>\n",
       "      <td>0</td>\n",
       "      <td>1.1</td>\n",
       "      <td>93.994</td>\n",
       "      <td>-36.4</td>\n",
       "      <td>4.857</td>\n",
       "      <td>5191.0</td>\n",
       "    </tr>\n",
       "  </tbody>\n",
       "</table>\n",
       "</div>"
      ],
      "text/plain": [
       "   age  duration  campaign  pdays  previous  emp.var.rate  cons.price.idx  \\\n",
       "0   56       261         1    999         0           1.1          93.994   \n",
       "1   57       149         1    999         0           1.1          93.994   \n",
       "2   37       226         1    999         0           1.1          93.994   \n",
       "3   40       151         1    999         0           1.1          93.994   \n",
       "4   56       307         1    999         0           1.1          93.994   \n",
       "\n",
       "   cons.conf.idx  euribor3m  nr.employed  \n",
       "0          -36.4      4.857       5191.0  \n",
       "1          -36.4      4.857       5191.0  \n",
       "2          -36.4      4.857       5191.0  \n",
       "3          -36.4      4.857       5191.0  \n",
       "4          -36.4      4.857       5191.0  "
      ]
     },
     "execution_count": 71,
     "metadata": {},
     "output_type": "execute_result"
    }
   ],
   "source": [
    "df_num.head()"
   ]
  },
  {
   "cell_type": "code",
   "execution_count": 72,
   "metadata": {
    "execution": {
     "iopub.execute_input": "2020-11-27T17:45:48.297293Z",
     "iopub.status.busy": "2020-11-27T17:45:48.296397Z",
     "iopub.status.idle": "2020-11-27T17:45:48.540342Z",
     "shell.execute_reply": "2020-11-27T17:45:48.539463Z"
    },
    "papermill": {
     "duration": 0.418434,
     "end_time": "2020-11-27T17:45:48.540472",
     "exception": false,
     "start_time": "2020-11-27T17:45:48.122038",
     "status": "completed"
    },
    "tags": []
   },
   "outputs": [],
   "source": [
    "from sklearn.feature_selection import SelectKBest\n",
    "from sklearn.feature_selection import chi2\n",
    "from sklearn.feature_selection import f_classif"
   ]
  },
  {
   "cell_type": "code",
   "execution_count": 73,
   "metadata": {
    "execution": {
     "iopub.execute_input": "2020-11-27T17:45:48.923673Z",
     "iopub.status.busy": "2020-11-27T17:45:48.922779Z",
     "iopub.status.idle": "2020-11-27T17:45:49.183916Z",
     "shell.execute_reply": "2020-11-27T17:45:49.183223Z"
    },
    "papermill": {
     "duration": 0.464743,
     "end_time": "2020-11-27T17:45:49.184061",
     "exception": false,
     "start_time": "2020-11-27T17:45:48.719318",
     "status": "completed"
    },
    "tags": []
   },
   "outputs": [
    {
     "data": {
      "text/html": [
       "<div>\n",
       "<style scoped>\n",
       "    .dataframe tbody tr th:only-of-type {\n",
       "        vertical-align: middle;\n",
       "    }\n",
       "\n",
       "    .dataframe tbody tr th {\n",
       "        vertical-align: top;\n",
       "    }\n",
       "\n",
       "    .dataframe thead th {\n",
       "        text-align: right;\n",
       "    }\n",
       "</style>\n",
       "<table border=\"1\" class=\"dataframe\">\n",
       "  <thead>\n",
       "    <tr style=\"text-align: right;\">\n",
       "      <th></th>\n",
       "      <th>Features</th>\n",
       "      <th>P-Value</th>\n",
       "    </tr>\n",
       "  </thead>\n",
       "  <tbody>\n",
       "    <tr>\n",
       "      <th>1</th>\n",
       "      <td>duration</td>\n",
       "      <td>0.000000e+00</td>\n",
       "    </tr>\n",
       "    <tr>\n",
       "      <th>3</th>\n",
       "      <td>pdays</td>\n",
       "      <td>0.000000e+00</td>\n",
       "    </tr>\n",
       "    <tr>\n",
       "      <th>4</th>\n",
       "      <td>previous</td>\n",
       "      <td>0.000000e+00</td>\n",
       "    </tr>\n",
       "    <tr>\n",
       "      <th>6</th>\n",
       "      <td>euribor3m</td>\n",
       "      <td>0.000000e+00</td>\n",
       "    </tr>\n",
       "    <tr>\n",
       "      <th>7</th>\n",
       "      <td>nr.employed</td>\n",
       "      <td>0.000000e+00</td>\n",
       "    </tr>\n",
       "    <tr>\n",
       "      <th>2</th>\n",
       "      <td>campaign</td>\n",
       "      <td>7.021883e-120</td>\n",
       "    </tr>\n",
       "    <tr>\n",
       "      <th>0</th>\n",
       "      <td>age</td>\n",
       "      <td>2.918371e-24</td>\n",
       "    </tr>\n",
       "    <tr>\n",
       "      <th>5</th>\n",
       "      <td>cons.price.idx</td>\n",
       "      <td>9.810078e-02</td>\n",
       "    </tr>\n",
       "  </tbody>\n",
       "</table>\n",
       "</div>"
      ],
      "text/plain": [
       "         Features        P-Value\n",
       "1        duration   0.000000e+00\n",
       "3           pdays   0.000000e+00\n",
       "4        previous   0.000000e+00\n",
       "6       euribor3m   0.000000e+00\n",
       "7     nr.employed   0.000000e+00\n",
       "2        campaign  7.021883e-120\n",
       "0             age   2.918371e-24\n",
       "5  cons.price.idx   9.810078e-02"
      ]
     },
     "execution_count": 73,
     "metadata": {},
     "output_type": "execute_result"
    }
   ],
   "source": [
    "selector = SelectKBest(chi2, k=8)\n",
    "\n",
    "#fitting the selector but dropping negative columns\n",
    "selector.fit(df_num.drop(['cons.conf.idx','emp.var.rate'],axis=1), df['y'])\n",
    "\n",
    "#creating dataframe of features and their p values from lowest to highest, low p values are most correlated with output\n",
    "pd.DataFrame({'Features':df_num.drop(['cons.conf.idx','emp.var.rate'],axis=1).columns, 'P-Value':selector.pvalues_}).sort_values(by='P-Value')"
   ]
  },
  {
   "cell_type": "markdown",
   "metadata": {
    "papermill": {
     "duration": 0.172355,
     "end_time": "2020-11-27T17:45:49.544015",
     "exception": false,
     "start_time": "2020-11-27T17:45:49.371660",
     "status": "completed"
    },
    "tags": []
   },
   "source": [
    "According to this chi-squared test duration, pdays, previous, euribor3m and nr.employed are the most important numerical features"
   ]
  },
  {
   "cell_type": "markdown",
   "metadata": {
    "papermill": {
     "duration": 0.175991,
     "end_time": "2020-11-27T17:45:49.892777",
     "exception": false,
     "start_time": "2020-11-27T17:45:49.716786",
     "status": "completed"
    },
    "tags": []
   },
   "source": [
    "# Training and testing"
   ]
  },
  {
   "cell_type": "code",
   "execution_count": 74,
   "metadata": {
    "execution": {
     "iopub.execute_input": "2020-11-27T17:45:50.249325Z",
     "iopub.status.busy": "2020-11-27T17:45:50.248400Z",
     "iopub.status.idle": "2020-11-27T17:45:51.021538Z",
     "shell.execute_reply": "2020-11-27T17:45:51.020779Z"
    },
    "papermill": {
     "duration": 0.955775,
     "end_time": "2020-11-27T17:45:51.021699",
     "exception": false,
     "start_time": "2020-11-27T17:45:50.065924",
     "status": "completed"
    },
    "tags": []
   },
   "outputs": [
    {
     "data": {
      "text/plain": [
       "<matplotlib.axes._subplots.AxesSubplot at 0x7fe0d452ab50>"
      ]
     },
     "execution_count": 74,
     "metadata": {},
     "output_type": "execute_result"
    },
    {
     "data": {
      "image/png": "[encoded data removed]",
      "text/plain": [
       "<Figure size 864x720 with 2 Axes>"
      ]
     },
     "metadata": {
      "needs_background": "light"
     },
     "output_type": "display_data"
    }
   ],
   "source": [
    "#checking correlation of numerical variables\n",
    "plt.figure(figsize=(12,10))\n",
    "sns.heatmap(df_num.corr(), annot=True)"
   ]
  },
  {
   "cell_type": "markdown",
   "metadata": {
    "papermill": {
     "duration": 0.174481,
     "end_time": "2020-11-27T17:45:51.373235",
     "exception": false,
     "start_time": "2020-11-27T17:45:51.198754",
     "status": "completed"
    },
    "tags": []
   },
   "source": [
    "Highly correlated features represent the same information making them redundant. euribor3m, emp.var.rate and nr.employed are all highly correlated with one another. Will only be going forward with euribor3m and the rest will be removed."
   ]
  },
  {
   "cell_type": "code",
   "execution_count": 75,
   "metadata": {
    "execution": {
     "iopub.execute_input": "2020-11-27T17:45:51.728492Z",
     "iopub.status.busy": "2020-11-27T17:45:51.727442Z",
     "iopub.status.idle": "2020-11-27T17:45:51.732435Z",
     "shell.execute_reply": "2020-11-27T17:45:51.731695Z"
    },
    "papermill": {
     "duration": 0.184328,
     "end_time": "2020-11-27T17:45:51.732558",
     "exception": false,
     "start_time": "2020-11-27T17:45:51.548230",
     "status": "completed"
    },
    "tags": []
   },
   "outputs": [
    {
     "data": {
      "text/plain": [
       "Index(['age', 'duration', 'campaign', 'pdays', 'previous', 'emp.var.rate',\n",
       "       'cons.price.idx', 'cons.conf.idx', 'euribor3m', 'nr.employed'],\n",
       "      dtype='object')"
      ]
     },
     "execution_count": 75,
     "metadata": {},
     "output_type": "execute_result"
    }
   ],
   "source": [
    "df_num.columns"
   ]
  },
  {
   "cell_type": "code",
   "execution_count": 76,
   "metadata": {
    "execution": {
     "iopub.execute_input": "2020-11-27T17:45:52.101618Z",
     "iopub.status.busy": "2020-11-27T17:45:52.100461Z",
     "iopub.status.idle": "2020-11-27T17:45:52.104520Z",
     "shell.execute_reply": "2020-11-27T17:45:52.105183Z"
    },
    "papermill": {
     "duration": 0.193164,
     "end_time": "2020-11-27T17:45:52.105358",
     "exception": false,
     "start_time": "2020-11-27T17:45:51.912194",
     "status": "completed"
    },
    "tags": []
   },
   "outputs": [
    {
     "data": {
      "text/plain": [
       "Index(['monthLabel', 'jobLabel', 'educationLabel', 'poutcomeLabel',\n",
       "       'housingLabel', 'dayLabel', 'yLabel'],\n",
       "      dtype='object')"
      ]
     },
     "execution_count": 76,
     "metadata": {},
     "output_type": "execute_result"
    }
   ],
   "source": [
    "df_cat_labels.columns"
   ]
  },
  {
   "cell_type": "code",
   "execution_count": 77,
   "metadata": {
    "execution": {
     "iopub.execute_input": "2020-11-27T17:45:52.469906Z",
     "iopub.status.busy": "2020-11-27T17:45:52.469052Z",
     "iopub.status.idle": "2020-11-27T17:45:52.475911Z",
     "shell.execute_reply": "2020-11-27T17:45:52.475265Z"
    },
    "papermill": {
     "duration": 0.193245,
     "end_time": "2020-11-27T17:45:52.476044",
     "exception": false,
     "start_time": "2020-11-27T17:45:52.282799",
     "status": "completed"
    },
    "tags": []
   },
   "outputs": [],
   "source": [
    "#joining the 2 dataframes to create dataset\n",
    "df2 = pd.concat([df_num[['duration','campaign', 'pdays', 'previous',\n",
    "       'cons.price.idx', 'cons.conf.idx', 'euribor3m']],df_cat_labels],axis=1)"
   ]
  },
  {
   "cell_type": "code",
   "execution_count": 78,
   "metadata": {
    "execution": {
     "iopub.execute_input": "2020-11-27T17:45:52.846735Z",
     "iopub.status.busy": "2020-11-27T17:45:52.845247Z",
     "iopub.status.idle": "2020-11-27T17:45:52.852061Z",
     "shell.execute_reply": "2020-11-27T17:45:52.851376Z"
    },
    "papermill": {
     "duration": 0.200946,
     "end_time": "2020-11-27T17:45:52.852194",
     "exception": false,
     "start_time": "2020-11-27T17:45:52.651248",
     "status": "completed"
    },
    "tags": []
   },
   "outputs": [
    {
     "data": {
      "text/html": [
       "<div>\n",
       "<style scoped>\n",
       "    .dataframe tbody tr th:only-of-type {\n",
       "        vertical-align: middle;\n",
       "    }\n",
       "\n",
       "    .dataframe tbody tr th {\n",
       "        vertical-align: top;\n",
       "    }\n",
       "\n",
       "    .dataframe thead th {\n",
       "        text-align: right;\n",
       "    }\n",
       "</style>\n",
       "<table border=\"1\" class=\"dataframe\">\n",
       "  <thead>\n",
       "    <tr style=\"text-align: right;\">\n",
       "      <th></th>\n",
       "      <th>duration</th>\n",
       "      <th>campaign</th>\n",
       "      <th>pdays</th>\n",
       "      <th>previous</th>\n",
       "      <th>cons.price.idx</th>\n",
       "      <th>cons.conf.idx</th>\n",
       "      <th>euribor3m</th>\n",
       "      <th>monthLabel</th>\n",
       "      <th>jobLabel</th>\n",
       "      <th>educationLabel</th>\n",
       "      <th>poutcomeLabel</th>\n",
       "      <th>housingLabel</th>\n",
       "      <th>dayLabel</th>\n",
       "      <th>yLabel</th>\n",
       "    </tr>\n",
       "  </thead>\n",
       "  <tbody>\n",
       "    <tr>\n",
       "      <th>0</th>\n",
       "      <td>261</td>\n",
       "      <td>1</td>\n",
       "      <td>999</td>\n",
       "      <td>0</td>\n",
       "      <td>93.994</td>\n",
       "      <td>-36.4</td>\n",
       "      <td>4.857</td>\n",
       "      <td>5</td>\n",
       "      <td>3</td>\n",
       "      <td>0</td>\n",
       "      <td>1</td>\n",
       "      <td>0</td>\n",
       "      <td>1</td>\n",
       "      <td>0</td>\n",
       "    </tr>\n",
       "    <tr>\n",
       "      <th>1</th>\n",
       "      <td>149</td>\n",
       "      <td>1</td>\n",
       "      <td>999</td>\n",
       "      <td>0</td>\n",
       "      <td>93.994</td>\n",
       "      <td>-36.4</td>\n",
       "      <td>4.857</td>\n",
       "      <td>5</td>\n",
       "      <td>7</td>\n",
       "      <td>3</td>\n",
       "      <td>1</td>\n",
       "      <td>0</td>\n",
       "      <td>1</td>\n",
       "      <td>0</td>\n",
       "    </tr>\n",
       "    <tr>\n",
       "      <th>2</th>\n",
       "      <td>226</td>\n",
       "      <td>1</td>\n",
       "      <td>999</td>\n",
       "      <td>0</td>\n",
       "      <td>93.994</td>\n",
       "      <td>-36.4</td>\n",
       "      <td>4.857</td>\n",
       "      <td>5</td>\n",
       "      <td>7</td>\n",
       "      <td>3</td>\n",
       "      <td>1</td>\n",
       "      <td>1</td>\n",
       "      <td>1</td>\n",
       "      <td>0</td>\n",
       "    </tr>\n",
       "    <tr>\n",
       "      <th>3</th>\n",
       "      <td>151</td>\n",
       "      <td>1</td>\n",
       "      <td>999</td>\n",
       "      <td>0</td>\n",
       "      <td>93.994</td>\n",
       "      <td>-36.4</td>\n",
       "      <td>4.857</td>\n",
       "      <td>5</td>\n",
       "      <td>0</td>\n",
       "      <td>1</td>\n",
       "      <td>1</td>\n",
       "      <td>0</td>\n",
       "      <td>1</td>\n",
       "      <td>0</td>\n",
       "    </tr>\n",
       "    <tr>\n",
       "      <th>4</th>\n",
       "      <td>307</td>\n",
       "      <td>1</td>\n",
       "      <td>999</td>\n",
       "      <td>0</td>\n",
       "      <td>93.994</td>\n",
       "      <td>-36.4</td>\n",
       "      <td>4.857</td>\n",
       "      <td>5</td>\n",
       "      <td>7</td>\n",
       "      <td>3</td>\n",
       "      <td>1</td>\n",
       "      <td>0</td>\n",
       "      <td>1</td>\n",
       "      <td>0</td>\n",
       "    </tr>\n",
       "  </tbody>\n",
       "</table>\n",
       "</div>"
      ],
      "text/plain": [
       "   duration  campaign  pdays  previous  cons.price.idx  cons.conf.idx  \\\n",
       "0       261         1    999         0          93.994          -36.4   \n",
       "1       149         1    999         0          93.994          -36.4   \n",
       "2       226         1    999         0          93.994          -36.4   \n",
       "3       151         1    999         0          93.994          -36.4   \n",
       "4       307         1    999         0          93.994          -36.4   \n",
       "\n",
       "   euribor3m  monthLabel  jobLabel  educationLabel  poutcomeLabel  \\\n",
       "0      4.857           5         3               0              1   \n",
       "1      4.857           5         7               3              1   \n",
       "2      4.857           5         7               3              1   \n",
       "3      4.857           5         0               1              1   \n",
       "4      4.857           5         7               3              1   \n",
       "\n",
       "   housingLabel  dayLabel  yLabel  \n",
       "0             0         1       0  \n",
       "1             0         1       0  \n",
       "2             1         1       0  \n",
       "3             0         1       0  \n",
       "4             0         1       0  "
      ]
     },
     "execution_count": 78,
     "metadata": {},
     "output_type": "execute_result"
    }
   ],
   "source": [
    "df2.head()"
   ]
  },
  {
   "cell_type": "code",
   "execution_count": 79,
   "metadata": {
    "execution": {
     "iopub.execute_input": "2020-11-27T17:45:53.222905Z",
     "iopub.status.busy": "2020-11-27T17:45:53.222092Z",
     "iopub.status.idle": "2020-11-27T17:45:53.229178Z",
     "shell.execute_reply": "2020-11-27T17:45:53.228431Z"
    },
    "papermill": {
     "duration": 0.196484,
     "end_time": "2020-11-27T17:45:53.229308",
     "exception": false,
     "start_time": "2020-11-27T17:45:53.032824",
     "status": "completed"
    },
    "tags": []
   },
   "outputs": [
    {
     "data": {
      "text/plain": [
       "0    36548\n",
       "1     4640\n",
       "Name: yLabel, dtype: int64"
      ]
     },
     "execution_count": 79,
     "metadata": {},
     "output_type": "execute_result"
    }
   ],
   "source": [
    "df2.yLabel.value_counts()"
   ]
  },
  {
   "cell_type": "code",
   "execution_count": 80,
   "metadata": {
    "execution": {
     "iopub.execute_input": "2020-11-27T17:45:53.591953Z",
     "iopub.status.busy": "2020-11-27T17:45:53.590918Z",
     "iopub.status.idle": "2020-11-27T17:45:53.596084Z",
     "shell.execute_reply": "2020-11-27T17:45:53.595294Z"
    },
    "papermill": {
     "duration": 0.18803,
     "end_time": "2020-11-27T17:45:53.596215",
     "exception": false,
     "start_time": "2020-11-27T17:45:53.408185",
     "status": "completed"
    },
    "tags": []
   },
   "outputs": [
    {
     "data": {
      "text/plain": [
       "88.73458288821988"
      ]
     },
     "execution_count": 80,
     "metadata": {},
     "output_type": "execute_result"
    }
   ],
   "source": [
    "100 * 36548/(36548+4640)"
   ]
  },
  {
   "cell_type": "markdown",
   "metadata": {
    "papermill": {
     "duration": 0.178273,
     "end_time": "2020-11-27T17:45:53.950697",
     "exception": false,
     "start_time": "2020-11-27T17:45:53.772424",
     "status": "completed"
    },
    "tags": []
   },
   "source": [
    "Predicting all as no will give 89% accuracy. Therefore accuracy isn't the best metric when determining performance for this task. To recap the objective of the classification, we are trying to predict who will subscribe a term deposit so the bank can direct their marketing campaign. In my opinion I think they would want to minimise the amount of people they market to that will not subscribe. This is what the model predicts as yes but it actually no (False Positives for the yes (1) column). Therefore the most relevant metric is the precision of the yes column."
   ]
  },
  {
   "cell_type": "markdown",
   "metadata": {
    "papermill": {
     "duration": 0.175165,
     "end_time": "2020-11-27T17:45:54.301648",
     "exception": false,
     "start_time": "2020-11-27T17:45:54.126483",
     "status": "completed"
    },
    "tags": []
   },
   "source": [
    "# Train, test split"
   ]
  },
  {
   "cell_type": "code",
   "execution_count": 81,
   "metadata": {
    "execution": {
     "iopub.execute_input": "2020-11-27T17:45:54.653944Z",
     "iopub.status.busy": "2020-11-27T17:45:54.653188Z",
     "iopub.status.idle": "2020-11-27T17:45:54.719393Z",
     "shell.execute_reply": "2020-11-27T17:45:54.718544Z"
    },
    "papermill": {
     "duration": 0.243993,
     "end_time": "2020-11-27T17:45:54.719530",
     "exception": false,
     "start_time": "2020-11-27T17:45:54.475537",
     "status": "completed"
    },
    "tags": []
   },
   "outputs": [],
   "source": [
    "from sklearn.model_selection import train_test_split\n",
    "from sklearn.ensemble import RandomForestClassifier"
   ]
  },
  {
   "cell_type": "code",
   "execution_count": 82,
   "metadata": {
    "execution": {
     "iopub.execute_input": "2020-11-27T17:45:55.108208Z",
     "iopub.status.busy": "2020-11-27T17:45:55.107098Z",
     "iopub.status.idle": "2020-11-27T17:45:55.111262Z",
     "shell.execute_reply": "2020-11-27T17:45:55.112097Z"
    },
    "papermill": {
     "duration": 0.216736,
     "end_time": "2020-11-27T17:45:55.112271",
     "exception": false,
     "start_time": "2020-11-27T17:45:54.895535",
     "status": "completed"
    },
    "tags": []
   },
   "outputs": [
    {
     "data": {
      "text/plain": [
       "Index(['duration', 'campaign', 'pdays', 'previous', 'cons.price.idx',\n",
       "       'cons.conf.idx', 'euribor3m', 'monthLabel', 'jobLabel',\n",
       "       'educationLabel', 'poutcomeLabel', 'housingLabel', 'dayLabel',\n",
       "       'yLabel'],\n",
       "      dtype='object')"
      ]
     },
     "execution_count": 82,
     "metadata": {},
     "output_type": "execute_result"
    }
   ],
   "source": [
    "df2.columns"
   ]
  },
  {
   "cell_type": "code",
   "execution_count": 83,
   "metadata": {
    "execution": {
     "iopub.execute_input": "2020-11-27T17:45:55.500241Z",
     "iopub.status.busy": "2020-11-27T17:45:55.498936Z",
     "iopub.status.idle": "2020-11-27T17:45:55.515900Z",
     "shell.execute_reply": "2020-11-27T17:45:55.515198Z"
    },
    "papermill": {
     "duration": 0.219159,
     "end_time": "2020-11-27T17:45:55.516030",
     "exception": false,
     "start_time": "2020-11-27T17:45:55.296871",
     "status": "completed"
    },
    "tags": []
   },
   "outputs": [],
   "source": [
    "X = df2[['duration', 'campaign', 'pdays', 'previous', 'cons.price.idx',\n",
    "       'cons.conf.idx', 'euribor3m', 'monthLabel', 'jobLabel',\n",
    "       'educationLabel', 'poutcomeLabel', 'housingLabel', 'dayLabel']]\n",
    "y=df2['yLabel']"
   ]
  },
  {
   "cell_type": "code",
   "execution_count": 84,
   "metadata": {
    "execution": {
     "iopub.execute_input": "2020-11-27T17:45:55.884161Z",
     "iopub.status.busy": "2020-11-27T17:45:55.882928Z",
     "iopub.status.idle": "2020-11-27T17:45:55.896942Z",
     "shell.execute_reply": "2020-11-27T17:45:55.896138Z"
    },
    "papermill": {
     "duration": 0.200867,
     "end_time": "2020-11-27T17:45:55.897079",
     "exception": false,
     "start_time": "2020-11-27T17:45:55.696212",
     "status": "completed"
    },
    "tags": []
   },
   "outputs": [],
   "source": [
    "X_train,X_test,y_train,y_test = train_test_split(X,y, test_size=0.3,random_state=101)"
   ]
  },
  {
   "cell_type": "markdown",
   "metadata": {
    "papermill": {
     "duration": 0.180546,
     "end_time": "2020-11-27T17:45:56.263860",
     "exception": false,
     "start_time": "2020-11-27T17:45:56.083314",
     "status": "completed"
    },
    "tags": []
   },
   "source": [
    "# Random Forest"
   ]
  },
  {
   "cell_type": "code",
   "execution_count": 85,
   "metadata": {
    "execution": {
     "iopub.execute_input": "2020-11-27T17:45:56.624911Z",
     "iopub.status.busy": "2020-11-27T17:45:56.624099Z",
     "iopub.status.idle": "2020-11-27T17:46:00.351387Z",
     "shell.execute_reply": "2020-11-27T17:46:00.352197Z"
    },
    "papermill": {
     "duration": 3.91023,
     "end_time": "2020-11-27T17:46:00.352420",
     "exception": false,
     "start_time": "2020-11-27T17:45:56.442190",
     "status": "completed"
    },
    "tags": []
   },
   "outputs": [],
   "source": [
    "rfc = RandomForestClassifier()\n",
    "rfc.fit(X_train,y_train)\n",
    "rfc_pred = rfc.predict(X_test)"
   ]
  },
  {
   "cell_type": "code",
   "execution_count": 86,
   "metadata": {
    "execution": {
     "iopub.execute_input": "2020-11-27T17:46:00.720847Z",
     "iopub.status.busy": "2020-11-27T17:46:00.720012Z",
     "iopub.status.idle": "2020-11-27T17:46:00.724030Z",
     "shell.execute_reply": "2020-11-27T17:46:00.723362Z"
    },
    "papermill": {
     "duration": 0.185303,
     "end_time": "2020-11-27T17:46:00.724164",
     "exception": false,
     "start_time": "2020-11-27T17:46:00.538861",
     "status": "completed"
    },
    "tags": []
   },
   "outputs": [],
   "source": [
    "from sklearn.metrics import confusion_matrix,accuracy_score,classification_report"
   ]
  },
  {
   "cell_type": "code",
   "execution_count": 87,
   "metadata": {
    "execution": {
     "iopub.execute_input": "2020-11-27T17:46:01.089541Z",
     "iopub.status.busy": "2020-11-27T17:46:01.088758Z",
     "iopub.status.idle": "2020-11-27T17:46:01.139223Z",
     "shell.execute_reply": "2020-11-27T17:46:01.137914Z"
    },
    "papermill": {
     "duration": 0.235251,
     "end_time": "2020-11-27T17:46:01.139373",
     "exception": false,
     "start_time": "2020-11-27T17:46:00.904122",
     "status": "completed"
    },
    "tags": []
   },
   "outputs": [
    {
     "name": "stdout",
     "output_type": "stream",
     "text": [
      "[[10544   434]\n",
      " [  699   680]]\n",
      "Accuracy: 0.9083110787407946\n",
      "              precision    recall  f1-score   support\n",
      "\n",
      "           0       0.94      0.96      0.95     10978\n",
      "           1       0.61      0.49      0.55      1379\n",
      "\n",
      "    accuracy                           0.91     12357\n",
      "   macro avg       0.77      0.73      0.75     12357\n",
      "weighted avg       0.90      0.91      0.90     12357\n",
      "\n"
     ]
    }
   ],
   "source": [
    "print(confusion_matrix(y_test,rfc_pred))\n",
    "print('Accuracy:',accuracy_score(y_test,rfc_pred))\n",
    "print(classification_report(y_test,rfc_pred))"
   ]
  },
  {
   "cell_type": "markdown",
   "metadata": {
    "papermill": {
     "duration": 0.184625,
     "end_time": "2020-11-27T17:46:01.529898",
     "exception": false,
     "start_time": "2020-11-27T17:46:01.345273",
     "status": "completed"
    },
    "tags": []
   },
   "source": [
    "# Cross validation"
   ]
  },
  {
   "cell_type": "code",
   "execution_count": 88,
   "metadata": {
    "execution": {
     "iopub.execute_input": "2020-11-27T17:46:01.895725Z",
     "iopub.status.busy": "2020-11-27T17:46:01.894639Z",
     "iopub.status.idle": "2020-11-27T17:46:01.898136Z",
     "shell.execute_reply": "2020-11-27T17:46:01.897357Z"
    },
    "papermill": {
     "duration": 0.186552,
     "end_time": "2020-11-27T17:46:01.898260",
     "exception": false,
     "start_time": "2020-11-27T17:46:01.711708",
     "status": "completed"
    },
    "tags": []
   },
   "outputs": [],
   "source": [
    "from sklearn.model_selection import StratifiedKFold, cross_val_score"
   ]
  },
  {
   "cell_type": "code",
   "execution_count": 89,
   "metadata": {
    "execution": {
     "iopub.execute_input": "2020-11-27T17:46:02.268004Z",
     "iopub.status.busy": "2020-11-27T17:46:02.267000Z",
     "iopub.status.idle": "2020-11-27T17:46:02.270246Z",
     "shell.execute_reply": "2020-11-27T17:46:02.269603Z"
    },
    "papermill": {
     "duration": 0.192935,
     "end_time": "2020-11-27T17:46:02.270369",
     "exception": false,
     "start_time": "2020-11-27T17:46:02.077434",
     "status": "completed"
    },
    "tags": []
   },
   "outputs": [],
   "source": [
    "skf = StratifiedKFold(n_splits=5,shuffle=True)"
   ]
  },
  {
   "cell_type": "code",
   "execution_count": 90,
   "metadata": {
    "execution": {
     "iopub.execute_input": "2020-11-27T17:46:02.637826Z",
     "iopub.status.busy": "2020-11-27T17:46:02.637035Z",
     "iopub.status.idle": "2020-11-27T17:46:21.492583Z",
     "shell.execute_reply": "2020-11-27T17:46:21.491969Z"
    },
    "papermill": {
     "duration": 19.04223,
     "end_time": "2020-11-27T17:46:21.492715",
     "exception": false,
     "start_time": "2020-11-27T17:46:02.450485",
     "status": "completed"
    },
    "tags": []
   },
   "outputs": [],
   "source": [
    "rfc_scores = cross_val_score(rfc, X, y, cv=skf)"
   ]
  },
  {
   "cell_type": "code",
   "execution_count": 91,
   "metadata": {
    "execution": {
     "iopub.execute_input": "2020-11-27T17:46:21.885363Z",
     "iopub.status.busy": "2020-11-27T17:46:21.884320Z",
     "iopub.status.idle": "2020-11-27T17:46:21.889283Z",
     "shell.execute_reply": "2020-11-27T17:46:21.888492Z"
    },
    "papermill": {
     "duration": 0.21003,
     "end_time": "2020-11-27T17:46:21.889418",
     "exception": false,
     "start_time": "2020-11-27T17:46:21.679388",
     "status": "completed"
    },
    "tags": []
   },
   "outputs": [
    {
     "name": "stdout",
     "output_type": "stream",
     "text": [
      "Cross validation accuracy for Random Forest Classifier is: 0.9119402580796867\n"
     ]
    }
   ],
   "source": [
    "print('Cross validation accuracy for Random Forest Classifier is:', rfc_scores.mean())"
   ]
  },
  {
   "cell_type": "code",
   "execution_count": 92,
   "metadata": {
    "execution": {
     "iopub.execute_input": "2020-11-27T17:46:22.254287Z",
     "iopub.status.busy": "2020-11-27T17:46:22.253436Z",
     "iopub.status.idle": "2020-11-27T17:46:22.257345Z",
     "shell.execute_reply": "2020-11-27T17:46:22.256623Z"
    },
    "papermill": {
     "duration": 0.189942,
     "end_time": "2020-11-27T17:46:22.257475",
     "exception": false,
     "start_time": "2020-11-27T17:46:22.067533",
     "status": "completed"
    },
    "tags": []
   },
   "outputs": [
    {
     "data": {
      "text/plain": [
       "array([0.91235737, 0.91454236, 0.91357126, 0.9112541 , 0.9079762 ])"
      ]
     },
     "execution_count": 92,
     "metadata": {},
     "output_type": "execute_result"
    }
   ],
   "source": [
    "rfc_scores"
   ]
  },
  {
   "cell_type": "markdown",
   "metadata": {
    "papermill": {
     "duration": 0.181042,
     "end_time": "2020-11-27T17:46:22.620244",
     "exception": false,
     "start_time": "2020-11-27T17:46:22.439202",
     "status": "completed"
    },
    "tags": []
   },
   "source": [
    "# KNN"
   ]
  },
  {
   "cell_type": "code",
   "execution_count": 93,
   "metadata": {
    "execution": {
     "iopub.execute_input": "2020-11-27T17:46:22.988228Z",
     "iopub.status.busy": "2020-11-27T17:46:22.987155Z",
     "iopub.status.idle": "2020-11-27T17:46:22.990842Z",
     "shell.execute_reply": "2020-11-27T17:46:22.989998Z"
    },
    "papermill": {
     "duration": 0.189788,
     "end_time": "2020-11-27T17:46:22.990977",
     "exception": false,
     "start_time": "2020-11-27T17:46:22.801189",
     "status": "completed"
    },
    "tags": []
   },
   "outputs": [],
   "source": [
    "from sklearn.neighbors import KNeighborsClassifier"
   ]
  },
  {
   "cell_type": "code",
   "execution_count": 94,
   "metadata": {
    "execution": {
     "iopub.execute_input": "2020-11-27T17:46:23.357339Z",
     "iopub.status.busy": "2020-11-27T17:46:23.356291Z",
     "iopub.status.idle": "2020-11-27T17:46:23.360109Z",
     "shell.execute_reply": "2020-11-27T17:46:23.359416Z"
    },
    "papermill": {
     "duration": 0.188287,
     "end_time": "2020-11-27T17:46:23.360243",
     "exception": false,
     "start_time": "2020-11-27T17:46:23.171956",
     "status": "completed"
    },
    "tags": []
   },
   "outputs": [],
   "source": [
    "neighbors = range(5,100,5)"
   ]
  },
  {
   "cell_type": "code",
   "execution_count": 95,
   "metadata": {
    "execution": {
     "iopub.execute_input": "2020-11-27T17:46:23.726919Z",
     "iopub.status.busy": "2020-11-27T17:46:23.726076Z",
     "iopub.status.idle": "2020-11-27T17:47:09.948172Z",
     "shell.execute_reply": "2020-11-27T17:47:09.947409Z"
    },
    "papermill": {
     "duration": 46.409307,
     "end_time": "2020-11-27T17:47:09.948321",
     "exception": false,
     "start_time": "2020-11-27T17:46:23.539014",
     "status": "completed"
    },
    "tags": []
   },
   "outputs": [],
   "source": [
    "acc = []\n",
    "for n in neighbors:\n",
    "    knn = KNeighborsClassifier(n_neighbors = n, metric='manhattan')\n",
    "    knn.fit(X_train,y_train)\n",
    "    pred = knn.predict(X_test)\n",
    "    acc.append(accuracy_score(y_test,pred))"
   ]
  },
  {
   "cell_type": "code",
   "execution_count": 96,
   "metadata": {
    "execution": {
     "iopub.execute_input": "2020-11-27T17:47:10.324209Z",
     "iopub.status.busy": "2020-11-27T17:47:10.323240Z",
     "iopub.status.idle": "2020-11-27T17:47:10.494330Z",
     "shell.execute_reply": "2020-11-27T17:47:10.493720Z"
    },
    "papermill": {
     "duration": 0.365477,
     "end_time": "2020-11-27T17:47:10.494453",
     "exception": false,
     "start_time": "2020-11-27T17:47:10.128976",
     "status": "completed"
    },
    "tags": []
   },
   "outputs": [
    {
     "data": {
      "text/plain": [
       "Text(0, 0.5, 'Accuracy')"
      ]
     },
     "execution_count": 96,
     "metadata": {},
     "output_type": "execute_result"
    },
    {
     "data": {
      "image/png": "[encoded data removed]",
      "text/plain": [
       "<Figure size 432x288 with 1 Axes>"
      ]
     },
     "metadata": {
      "needs_background": "light"
     },
     "output_type": "display_data"
    }
   ],
   "source": [
    "plt.plot(neighbors, acc)\n",
    "plt.title('Acuracy vs no. of neighbors')\n",
    "plt.xlabel('No. of neighbors')\n",
    "plt.ylabel('Accuracy')"
   ]
  },
  {
   "cell_type": "markdown",
   "metadata": {
    "papermill": {
     "duration": 0.181132,
     "end_time": "2020-11-27T17:47:10.858221",
     "exception": false,
     "start_time": "2020-11-27T17:47:10.677089",
     "status": "completed"
    },
    "tags": []
   },
   "source": [
    "Accuracy peaks at around 40 neighbours"
   ]
  },
  {
   "cell_type": "code",
   "execution_count": 97,
   "metadata": {
    "execution": {
     "iopub.execute_input": "2020-11-27T17:47:11.229655Z",
     "iopub.status.busy": "2020-11-27T17:47:11.228716Z",
     "iopub.status.idle": "2020-11-27T17:47:11.232094Z",
     "shell.execute_reply": "2020-11-27T17:47:11.231325Z"
    },
    "papermill": {
     "duration": 0.190525,
     "end_time": "2020-11-27T17:47:11.232222",
     "exception": false,
     "start_time": "2020-11-27T17:47:11.041697",
     "status": "completed"
    },
    "tags": []
   },
   "outputs": [],
   "source": [
    "knn = KNeighborsClassifier(n_neighbors=40, metric='manhattan')"
   ]
  },
  {
   "cell_type": "code",
   "execution_count": 98,
   "metadata": {
    "execution": {
     "iopub.execute_input": "2020-11-27T17:47:11.602455Z",
     "iopub.status.busy": "2020-11-27T17:47:11.601658Z",
     "iopub.status.idle": "2020-11-27T17:47:11.862783Z",
     "shell.execute_reply": "2020-11-27T17:47:11.863356Z"
    },
    "papermill": {
     "duration": 0.449317,
     "end_time": "2020-11-27T17:47:11.863526",
     "exception": false,
     "start_time": "2020-11-27T17:47:11.414209",
     "status": "completed"
    },
    "tags": []
   },
   "outputs": [
    {
     "data": {
      "text/plain": [
       "KNeighborsClassifier(metric='manhattan', n_neighbors=40)"
      ]
     },
     "execution_count": 98,
     "metadata": {},
     "output_type": "execute_result"
    }
   ],
   "source": [
    "knn.fit(X_train,y_train)"
   ]
  },
  {
   "cell_type": "code",
   "execution_count": 99,
   "metadata": {
    "execution": {
     "iopub.execute_input": "2020-11-27T17:47:12.239998Z",
     "iopub.status.busy": "2020-11-27T17:47:12.239185Z",
     "iopub.status.idle": "2020-11-27T17:47:14.292157Z",
     "shell.execute_reply": "2020-11-27T17:47:14.292760Z"
    },
    "papermill": {
     "duration": 2.245316,
     "end_time": "2020-11-27T17:47:14.292939",
     "exception": false,
     "start_time": "2020-11-27T17:47:12.047623",
     "status": "completed"
    },
    "tags": []
   },
   "outputs": [],
   "source": [
    "pred = knn.predict(X_test)"
   ]
  },
  {
   "cell_type": "code",
   "execution_count": 100,
   "metadata": {
    "execution": {
     "iopub.execute_input": "2020-11-27T17:47:14.668163Z",
     "iopub.status.busy": "2020-11-27T17:47:14.667354Z",
     "iopub.status.idle": "2020-11-27T17:47:14.714902Z",
     "shell.execute_reply": "2020-11-27T17:47:14.713774Z"
    },
    "papermill": {
     "duration": 0.23678,
     "end_time": "2020-11-27T17:47:14.715083",
     "exception": false,
     "start_time": "2020-11-27T17:47:14.478303",
     "status": "completed"
    },
    "tags": []
   },
   "outputs": [
    {
     "name": "stdout",
     "output_type": "stream",
     "text": [
      "[[10733   245]\n",
      " [  881   498]]\n",
      "Accuracy: 0.908877559278142\n",
      "              precision    recall  f1-score   support\n",
      "\n",
      "           0       0.92      0.98      0.95     10978\n",
      "           1       0.67      0.36      0.47      1379\n",
      "\n",
      "    accuracy                           0.91     12357\n",
      "   macro avg       0.80      0.67      0.71     12357\n",
      "weighted avg       0.90      0.91      0.90     12357\n",
      "\n"
     ]
    }
   ],
   "source": [
    "print(confusion_matrix(y_test,pred))\n",
    "print('Accuracy:',accuracy_score(pred,y_test))\n",
    "print(classification_report(y_test,pred))"
   ]
  },
  {
   "cell_type": "code",
   "execution_count": 101,
   "metadata": {
    "execution": {
     "iopub.execute_input": "2020-11-27T17:47:15.089036Z",
     "iopub.status.busy": "2020-11-27T17:47:15.087421Z",
     "iopub.status.idle": "2020-11-27T17:47:15.091408Z",
     "shell.execute_reply": "2020-11-27T17:47:15.090767Z"
    },
    "papermill": {
     "duration": 0.193859,
     "end_time": "2020-11-27T17:47:15.091532",
     "exception": false,
     "start_time": "2020-11-27T17:47:14.897673",
     "status": "completed"
    },
    "tags": []
   },
   "outputs": [],
   "source": [
    "# Cross validation"
   ]
  },
  {
   "cell_type": "code",
   "execution_count": 102,
   "metadata": {
    "execution": {
     "iopub.execute_input": "2020-11-27T17:47:15.474675Z",
     "iopub.status.busy": "2020-11-27T17:47:15.473481Z",
     "iopub.status.idle": "2020-11-27T17:47:23.846280Z",
     "shell.execute_reply": "2020-11-27T17:47:23.845474Z"
    },
    "papermill": {
     "duration": 8.566467,
     "end_time": "2020-11-27T17:47:23.846409",
     "exception": false,
     "start_time": "2020-11-27T17:47:15.279942",
     "status": "completed"
    },
    "tags": []
   },
   "outputs": [],
   "source": [
    "knn_scores = cross_val_score(knn, X, y, cv=skf)"
   ]
  },
  {
   "cell_type": "code",
   "execution_count": 103,
   "metadata": {
    "execution": {
     "iopub.execute_input": "2020-11-27T17:47:24.220940Z",
     "iopub.status.busy": "2020-11-27T17:47:24.219941Z",
     "iopub.status.idle": "2020-11-27T17:47:24.224561Z",
     "shell.execute_reply": "2020-11-27T17:47:24.223606Z"
    },
    "papermill": {
     "duration": 0.19381,
     "end_time": "2020-11-27T17:47:24.224740",
     "exception": false,
     "start_time": "2020-11-27T17:47:24.030930",
     "status": "completed"
    },
    "tags": []
   },
   "outputs": [
    {
     "name": "stdout",
     "output_type": "stream",
     "text": [
      "Cross validation accuracy for Neigherest neighbours classifier is: 0.9071330745103122\n"
     ]
    }
   ],
   "source": [
    "print('Cross validation accuracy for Neigherest neighbours classifier is:', knn_scores.mean())"
   ]
  },
  {
   "cell_type": "code",
   "execution_count": 104,
   "metadata": {
    "execution": {
     "iopub.execute_input": "2020-11-27T17:47:24.603011Z",
     "iopub.status.busy": "2020-11-27T17:47:24.602231Z",
     "iopub.status.idle": "2020-11-27T17:47:24.607380Z",
     "shell.execute_reply": "2020-11-27T17:47:24.606650Z"
    },
    "papermill": {
     "duration": 0.194355,
     "end_time": "2020-11-27T17:47:24.607500",
     "exception": false,
     "start_time": "2020-11-27T17:47:24.413145",
     "status": "completed"
    },
    "tags": []
   },
   "outputs": [
    {
     "data": {
      "text/plain": [
       "array([0.91150765, 0.90361738, 0.90920126, 0.9042127 , 0.90712638])"
      ]
     },
     "execution_count": 104,
     "metadata": {},
     "output_type": "execute_result"
    }
   ],
   "source": [
    "knn_scores"
   ]
  },
  {
   "cell_type": "markdown",
   "metadata": {
    "papermill": {
     "duration": 0.187191,
     "end_time": "2020-11-27T17:47:24.978189",
     "exception": false,
     "start_time": "2020-11-27T17:47:24.790998",
     "status": "completed"
    },
    "tags": []
   },
   "source": [
    "Nearest neighbour algorithm has best precision score for 1 class(0.67) so this is currently the best model. \n",
    "\n",
    "If the goal of the task is to limit the number of people they think will not subscribe but actually will the metric to use will be the recall of the 1 class. In this second case the best algorithm is the Random Forest. The Random Forest is also the most accurate.\n",
    "\n",
    "Still need to optimise Random forest parameters e.g. n_estimators, max_depth etc. and will look at other classifiers. Unknowns were imputed with the mode may also see how removing unknowns entirely affects the task."
   ]
  }
 ],
 "metadata": {
  "kernelspec": {
   "display_name": "Python 3",
   "language": "python",
   "name": "python3"
  },
  "language_info": {
   "codemirror_mode": {
    "name": "ipython",
    "version": 3
   },
   "file_extension": ".py",
   "mimetype": "text/x-python",
   "name": "python",
   "nbconvert_exporter": "python",
   "pygments_lexer": "ipython3",
   "version": "3.7.3"
  },
  "papermill": {
   "duration": 225.014841,
   "end_time": "2020-11-27T17:47:25.272962",
   "environment_variables": {},
   "exception": null,
   "input_path": "__notebook__.ipynb",
   "output_path": "__notebook__.ipynb",
   "parameters": {},
   "start_time": "2020-11-27T17:43:40.258121",
   "version": "2.1.0"
  }
 },
 "nbformat": 4,
 "nbformat_minor": 4
}
